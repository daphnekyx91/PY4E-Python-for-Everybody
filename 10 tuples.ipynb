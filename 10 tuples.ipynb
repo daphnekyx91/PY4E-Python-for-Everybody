{
 "cells": [
  {
   "cell_type": "code",
   "execution_count": 4,
   "metadata": {},
   "outputs": [
    {
     "data": {
      "text/plain": [
       "False"
      ]
     },
     "execution_count": 4,
     "metadata": {},
     "output_type": "execute_result"
    }
   ],
   "source": [
    "#Tuples is a sequence of values much like a list\n",
    "#they can be any type and indexed by integers\n",
    "#immutable, comparable and hashable\n",
    "\n",
    "#tuple is a comma-separated by a list of values:"
   ]
  },
  {
   "cell_type": "code",
   "execution_count": 1,
   "metadata": {},
   "outputs": [
    {
     "data": {
      "text/plain": [
       "tuple"
      ]
     },
     "execution_count": 1,
     "metadata": {},
     "output_type": "execute_result"
    }
   ],
   "source": [
    "t =('a', 'b', 'c', 'd', 'e')\n",
    "type(t)"
   ]
  },
  {
   "cell_type": "code",
   "execution_count": 2,
   "metadata": {},
   "outputs": [
    {
     "data": {
      "text/plain": [
       "tuple"
      ]
     },
     "execution_count": 2,
     "metadata": {},
     "output_type": "execute_result"
    }
   ],
   "source": [
    "r = ('a',)\n",
    "type(r)\n",
    "\n",
    "#signle element have a final comma"
   ]
  },
  {
   "cell_type": "code",
   "execution_count": 3,
   "metadata": {},
   "outputs": [
    {
     "data": {
      "text/plain": [
       "str"
      ]
     },
     "execution_count": 3,
     "metadata": {},
     "output_type": "execute_result"
    }
   ],
   "source": [
    "u = ('a')\n",
    "\n",
    "type(u)\n",
    "\n",
    "#no comma, so its a string"
   ]
  },
  {
   "cell_type": "code",
   "execution_count": 4,
   "metadata": {},
   "outputs": [
    {
     "name": "stdout",
     "output_type": "stream",
     "text": [
      "()\n"
     ]
    }
   ],
   "source": [
    "t = tuple()\n",
    "print(t)\n",
    "\n",
    "#empty tuple"
   ]
  },
  {
   "cell_type": "code",
   "execution_count": 5,
   "metadata": {},
   "outputs": [
    {
     "name": "stdout",
     "output_type": "stream",
     "text": [
      "('t', 'u', 'p', 'l', 'e')\n"
     ]
    }
   ],
   "source": [
    "t = tuple('tuple')\n",
    "print(t)"
   ]
  },
  {
   "cell_type": "code",
   "execution_count": 6,
   "metadata": {},
   "outputs": [
    {
     "name": "stdout",
     "output_type": "stream",
     "text": [
      "p\n"
     ]
    }
   ],
   "source": [
    "print(t[2])"
   ]
  },
  {
   "cell_type": "code",
   "execution_count": 7,
   "metadata": {},
   "outputs": [
    {
     "name": "stdout",
     "output_type": "stream",
     "text": [
      "('l', 'e')\n"
     ]
    }
   ],
   "source": [
    "print(t[3:])"
   ]
  },
  {
   "cell_type": "code",
   "execution_count": 8,
   "metadata": {},
   "outputs": [
    {
     "ename": "TypeError",
     "evalue": "can only concatenate str (not \"tuple\") to str",
     "output_type": "error",
     "traceback": [
      "\u001b[1;31m---------------------------------------------------------------------------\u001b[0m",
      "\u001b[1;31mTypeError\u001b[0m                                 Traceback (most recent call last)",
      "\u001b[1;32m<ipython-input-8-6ba5d52c5788>\u001b[0m in \u001b[0;36m<module>\u001b[1;34m\u001b[0m\n\u001b[0;32m      2\u001b[0m \u001b[1;31m#tuple is immutable\u001b[0m\u001b[1;33m\u001b[0m\u001b[1;33m\u001b[0m\u001b[1;33m\u001b[0m\u001b[0m\n\u001b[0;32m      3\u001b[0m \u001b[1;33m\u001b[0m\u001b[0m\n\u001b[1;32m----> 4\u001b[1;33m \u001b[0mu\u001b[0m \u001b[1;33m=\u001b[0m \u001b[1;33m(\u001b[0m\u001b[1;34m'j'\u001b[0m\u001b[1;33m)\u001b[0m \u001b[1;33m+\u001b[0m \u001b[0mt\u001b[0m\u001b[1;33m[\u001b[0m\u001b[1;36m1\u001b[0m\u001b[1;33m:\u001b[0m\u001b[1;33m]\u001b[0m\u001b[1;33m\u001b[0m\u001b[1;33m\u001b[0m\u001b[0m\n\u001b[0m\u001b[0;32m      5\u001b[0m \u001b[0mprint\u001b[0m\u001b[1;33m(\u001b[0m\u001b[0mu\u001b[0m\u001b[1;33m)\u001b[0m\u001b[1;33m\u001b[0m\u001b[1;33m\u001b[0m\u001b[0m\n",
      "\u001b[1;31mTypeError\u001b[0m: can only concatenate str (not \"tuple\") to str"
     ]
    }
   ],
   "source": [
    "#cannot modify the elements\n",
    "#tuple is immutable\n",
    "\n",
    "u = ('j') + t[1:]\n",
    "print(u)"
   ]
  },
  {
   "cell_type": "code",
   "execution_count": 9,
   "metadata": {},
   "outputs": [
    {
     "data": {
      "text/plain": [
       "True"
      ]
     },
     "execution_count": 9,
     "metadata": {},
     "output_type": "execute_result"
    }
   ],
   "source": [
    "#10.2 comparing tuples\n",
    "\n",
    "#compares the first element of each seq\n",
    "#if they are equal, goes on to the next element until it differs, \n",
    "#subsequent elements are not considered.\n",
    "\n",
    "(0, 1, 2) < ( 0, 3, 4)"
   ]
  },
  {
   "cell_type": "code",
   "execution_count": 10,
   "metadata": {},
   "outputs": [
    {
     "data": {
      "text/plain": [
       "True"
      ]
     },
     "execution_count": 10,
     "metadata": {},
     "output_type": "execute_result"
    }
   ],
   "source": [
    "(0, 1, 200000) < (0, 3, 4)"
   ]
  },
  {
   "cell_type": "code",
   "execution_count": null,
   "metadata": {},
   "outputs": [],
   "source": [
    "#Sort function for tuples\n",
    "\n",
    "#sort all the elements in the sequence\n",
    "\n",
    "#1.\n",
    "#Decorate a sequence by building a list of tuples with 1 or more sort keys\n",
    "\n",
    "#2.\n",
    "#Sort the list of tuples using Python built-in sort\n",
    "\n",
    "#3.\n",
    "#Undecorate by extracting the sorted elements of the sequence."
   ]
  },
  {
   "cell_type": "code",
   "execution_count": 12,
   "metadata": {},
   "outputs": [
    {
     "name": "stdout",
     "output_type": "stream",
     "text": [
      "[(6, 'yonder'), (6, 'window'), (6, 'breaks'), (5, 'light'), (4, 'what'), (4, 'soft'), (3, 'but'), (2, 'in')]\n",
      "['yonder', 'window', 'breaks', 'light', 'what', 'soft', 'but', 'in']\n"
     ]
    }
   ],
   "source": [
    "#Sorting from longest to shortes\n",
    "\n",
    "txt = 'but soft what light in yonder window breaks'\n",
    "words = txt.split()          #split the list into words\n",
    "\n",
    "t = list()                   #empty list as tuple\n",
    "\n",
    "for word in words:\n",
    "    t.append((len(word), word))      #add length of word and word to tuple list\n",
    "    \n",
    "t.sort(reverse = True) #sort length by descending order\n",
    "\n",
    "print(t)  #this is tuple list\n",
    "\n",
    "res = list()\n",
    "for length, word in t:  \n",
    "    res.append(word)\n",
    "\n",
    "print(res) #this is a list"
   ]
  },
  {
   "cell_type": "code",
   "execution_count": 13,
   "metadata": {},
   "outputs": [
    {
     "data": {
      "text/plain": [
       "'have'"
      ]
     },
     "execution_count": 13,
     "metadata": {},
     "output_type": "execute_result"
    }
   ],
   "source": [
    "#10.3 Tuple assignment\n",
    "\n",
    "m = ['have', 'fun']\n",
    "\n",
    "x, y = m\n",
    "\n",
    "x\n",
    "\n",
    "#corresponding left sequence to right sequence"
   ]
  },
  {
   "cell_type": "code",
   "execution_count": 14,
   "metadata": {},
   "outputs": [
    {
     "data": {
      "text/plain": [
       "'fun'"
      ]
     },
     "execution_count": 14,
     "metadata": {},
     "output_type": "execute_result"
    }
   ],
   "source": [
    "y"
   ]
  },
  {
   "cell_type": "code",
   "execution_count": 16,
   "metadata": {},
   "outputs": [
    {
     "data": {
      "text/plain": [
       "'have'"
      ]
     },
     "execution_count": 16,
     "metadata": {},
     "output_type": "execute_result"
    }
   ],
   "source": [
    "m = [ 'have', 'fun']\n",
    "(u, p) = m\n",
    "u"
   ]
  },
  {
   "cell_type": "code",
   "execution_count": 17,
   "metadata": {},
   "outputs": [
    {
     "data": {
      "text/plain": [
       "'fun'"
      ]
     },
     "execution_count": 17,
     "metadata": {},
     "output_type": "execute_result"
    }
   ],
   "source": [
    "p"
   ]
  },
  {
   "cell_type": "code",
   "execution_count": null,
   "metadata": {},
   "outputs": [],
   "source": [
    "#tuple assigment allows us to swap the values\n",
    "\n",
    "a, b = b, a"
   ]
  },
  {
   "cell_type": "code",
   "execution_count": 18,
   "metadata": {},
   "outputs": [
    {
     "ename": "ValueError",
     "evalue": "too many values to unpack (expected 2)",
     "output_type": "error",
     "traceback": [
      "\u001b[1;31m---------------------------------------------------------------------------\u001b[0m",
      "\u001b[1;31mValueError\u001b[0m                                Traceback (most recent call last)",
      "\u001b[1;32m<ipython-input-18-1dc43001f030>\u001b[0m in \u001b[0;36m<module>\u001b[1;34m\u001b[0m\n\u001b[0;32m      2\u001b[0m \u001b[1;31m#the right side is a tuple of expressions\u001b[0m\u001b[1;33m\u001b[0m\u001b[1;33m\u001b[0m\u001b[1;33m\u001b[0m\u001b[0m\n\u001b[0;32m      3\u001b[0m \u001b[1;33m\u001b[0m\u001b[0m\n\u001b[1;32m----> 4\u001b[1;33m \u001b[0ma\u001b[0m \u001b[1;33m,\u001b[0m \u001b[0mb\u001b[0m \u001b[1;33m=\u001b[0m \u001b[1;36m1\u001b[0m\u001b[1;33m,\u001b[0m \u001b[1;36m2\u001b[0m\u001b[1;33m,\u001b[0m \u001b[1;36m3\u001b[0m\u001b[1;33m\u001b[0m\u001b[1;33m\u001b[0m\u001b[0m\n\u001b[0m",
      "\u001b[1;31mValueError\u001b[0m: too many values to unpack (expected 2)"
     ]
    }
   ],
   "source": [
    "#both sides of statements are tuples, the left side a tuple of variables; \n",
    "#the right side is a tuple of expressions\n",
    "\n",
    "#the right side can be string, list or tuple\n",
    "\n",
    "a , b = 1, 2, 3\n",
    "\n",
    "#Error, must the same number of values to variables"
   ]
  },
  {
   "cell_type": "code",
   "execution_count": 20,
   "metadata": {},
   "outputs": [
    {
     "name": "stdout",
     "output_type": "stream",
     "text": [
      "monty\n",
      "python.org\n"
     ]
    }
   ],
   "source": [
    "addr = 'monty@python.org'\n",
    "uname, domain = addr.split('@')\n",
    "\n",
    "print(uname)\n",
    "print(domain)"
   ]
  },
  {
   "cell_type": "code",
   "execution_count": 21,
   "metadata": {},
   "outputs": [
    {
     "name": "stdout",
     "output_type": "stream",
     "text": [
      "[('a', 10), ('b', 1), ('c', 22)]\n"
     ]
    }
   ],
   "source": [
    "#10.4 Dictionaries & Tuples\n",
    "\n",
    "#Dictionaries have a .method() to convert item to a list of tuples\n",
    "\n",
    "d = {'a': 10, 'b':1, 'c':22 }\n",
    "t = list(d.items())\n",
    "print(t)\n",
    "\n",
    "#this is to convert into tuples"
   ]
  },
  {
   "cell_type": "code",
   "execution_count": 27,
   "metadata": {},
   "outputs": [
    {
     "name": "stdout",
     "output_type": "stream",
     "text": [
      "[10, 1, 22]\n",
      "[1, 10, 22]\n",
      "[22, 10, 1]\n"
     ]
    }
   ],
   "source": [
    "y = list(d.values())\n",
    "\n",
    "print(y)\n",
    "\n",
    "#list of the values from the dictionary\n",
    "\n",
    "y.sort()\n",
    "print(y)\n",
    "\n",
    "y.sort(reverse = True)\n",
    "print(y)"
   ]
  },
  {
   "cell_type": "code",
   "execution_count": 23,
   "metadata": {},
   "outputs": [
    {
     "name": "stdout",
     "output_type": "stream",
     "text": [
      "['a', 'b', 'c']\n"
     ]
    }
   ],
   "source": [
    "u = list(d.keys())\n",
    "\n",
    "print(u)\n",
    "\n",
    "#list of the values from the dictionary"
   ]
  },
  {
   "cell_type": "code",
   "execution_count": 31,
   "metadata": {},
   "outputs": [
    {
     "data": {
      "text/plain": [
       "[('a', 10), ('c', 22), ('b', 1)]"
      ]
     },
     "execution_count": 31,
     "metadata": {},
     "output_type": "execute_result"
    }
   ],
   "source": [
    "#list of tuples is a list \n",
    "#tuples are comparable\n",
    "#hence tuples can be sorted\n",
    "\n",
    "d ={'a':10, 'c':22, 'b':1 }\n",
    "t= list(d.items())\n",
    "t"
   ]
  },
  {
   "cell_type": "code",
   "execution_count": 13,
   "metadata": {},
   "outputs": [
    {
     "name": "stdout",
     "output_type": "stream",
     "text": [
      "when using .items()\n",
      "dict_items([('a', 10), ('c', 22), ('b', 1)])\n",
      "\n",
      "when using list(d.items()) it becomes tupple\n",
      "[('a', 10), ('c', 22), ('b', 1)]\n",
      "\n",
      "when using y.sort() =  [('a', 10), ('b', 1), ('c', 22)]\n",
      "\n",
      "when using y.sort(reverse = True ) =  [('c', 22), ('b', 1), ('a', 10)]\n"
     ]
    }
   ],
   "source": [
    "#need to add list() to make into tuple\n",
    "\n",
    "d ={'a':10, 'c':22, 'b':1 }\n",
    "t= d.items()\n",
    "print('when using .items()')\n",
    "print(t)\n",
    "print()\n",
    "\n",
    "print('when using list(d.items()) it becomes tupple')\n",
    "print(list(t))\n",
    "print()\n",
    "\n",
    "#try sort function\n",
    "y = list(t)\n",
    "y.sort()\n",
    "print('when using y.sort() = ', y)\n",
    "\n",
    "print()\n",
    "y.sort(reverse = True)\n",
    "print('when using y.sort(reverse = True ) = ', y)"
   ]
  },
  {
   "cell_type": "code",
   "execution_count": 11,
   "metadata": {},
   "outputs": [
    {
     "name": "stdout",
     "output_type": "stream",
     "text": [
      "when using .values()\n",
      "dict_values([10, 22, 1])\n",
      "\n",
      "when using list(d.values)) it becomes list of values\n",
      "[10, 22, 1]\n"
     ]
    }
   ],
   "source": [
    "d ={'a':10, 'c':22, 'b':1 }\n",
    "y = d.values()\n",
    "print('when using .values()')\n",
    "print(y)\n",
    "print()\n",
    "\n",
    "print('when using list(d.values)) it becomes list of values')\n",
    "print(list(y))\n",
    "\n"
   ]
  },
  {
   "cell_type": "code",
   "execution_count": 15,
   "metadata": {},
   "outputs": [
    {
     "name": "stdout",
     "output_type": "stream",
     "text": [
      "when using .keys()\n",
      "dict_keys(['a', 'c', 'b'])\n",
      "\n",
      "when using list(d.keys)) it becomes list of keys\n",
      "['a', 'c', 'b']\n"
     ]
    }
   ],
   "source": [
    "\n",
    "d ={'a':10, 'c':22, 'b':1 }\n",
    "z= d.keys()\n",
    "print('when using .keys()')\n",
    "print(z)\n",
    "print()\n",
    "\n",
    "print('when using list(d.keys)) it becomes list of keys')\n",
    "print(list(z))"
   ]
  },
  {
   "cell_type": "code",
   "execution_count": 33,
   "metadata": {},
   "outputs": [
    {
     "data": {
      "text/plain": [
       "[('a', 10), ('b', 1), ('c', 22)]"
      ]
     },
     "execution_count": 33,
     "metadata": {},
     "output_type": "execute_result"
    }
   ],
   "source": [
    "t.sort() #sort the keys in the tuples in alphabetical order\n",
    "t"
   ]
  },
  {
   "cell_type": "code",
   "execution_count": 34,
   "metadata": {},
   "outputs": [
    {
     "name": "stdout",
     "output_type": "stream",
     "text": [
      "10 a\n",
      "22 c\n",
      "1 b\n"
     ]
    }
   ],
   "source": [
    "#10.5 multiple assignment with dictionaries\n",
    "\n",
    "for key, val in list(d.items()):\n",
    "    print(val, key)\n",
    "\n",
    "#convert dictionary to tuples\n",
    "#flip the arrangment in the tuple key, val to val, key"
   ]
  },
  {
   "cell_type": "code",
   "execution_count": 3,
   "metadata": {},
   "outputs": [
    {
     "data": {
      "text/plain": [
       "[(10, 'a'), (22, 'c'), (1, 'b')]"
      ]
     },
     "execution_count": 3,
     "metadata": {},
     "output_type": "execute_result"
    }
   ],
   "source": [
    "#how to sort by values in tuple list\n",
    "\n",
    "d = {'a': 10, 'c': 22, 'b': 1}\n",
    "l = list()\n",
    "for key, val in d.items():\n",
    "    l.append((val,key))\n",
    "    \n",
    "l"
   ]
  },
  {
   "cell_type": "code",
   "execution_count": 39,
   "metadata": {},
   "outputs": [
    {
     "data": {
      "text/plain": [
       "[(22, 'c'), (10, 'a'), (1, 'b')]"
      ]
     },
     "execution_count": 39,
     "metadata": {},
     "output_type": "execute_result"
    }
   ],
   "source": [
    "l.sort(reverse = True)\n",
    "\n",
    "l"
   ]
  },
  {
   "cell_type": "code",
   "execution_count": 4,
   "metadata": {},
   "outputs": [
    {
     "name": "stdout",
     "output_type": "stream",
     "text": [
      "61 i\n",
      "42 and\n",
      "40 romeo\n",
      "34 to\n",
      "34 the\n",
      "32 thou\n",
      "32 juliet\n",
      "30 that\n",
      "29 my\n",
      "24 thee\n"
     ]
    }
   ],
   "source": [
    "#10.6 the most common words\n",
    "\n",
    "import string\n",
    "\n",
    "fhand = open('romeo-full.txt')\n",
    "\n",
    "counts = dict()\n",
    "for line in fhand:\n",
    "    \n",
    "    translator=str.maketrans('','',string.punctuation)\n",
    "    \n",
    "    line = line.translate(translator)\n",
    "\n",
    "    line = line.lower()\n",
    "    words = line.split()\n",
    "    for word in words:\n",
    "        if word not in counts:\n",
    "            counts[word] = 1\n",
    "        else:\n",
    "            counts[word] += 1\n",
    "            \n",
    "#sort the dictionary by value\n",
    "\n",
    "lst = list()\n",
    "\n",
    "for key, val in  list(counts.items()):\n",
    "    lst.append((val,key))\n",
    "    \n",
    "lst.sort(reverse = True)\n",
    "\n",
    "for key, val in lst[:10]:    #print the top 10 most count\n",
    "    print(key,val)"
   ]
  },
  {
   "cell_type": "code",
   "execution_count": 5,
   "metadata": {},
   "outputs": [
    {
     "name": "stdout",
     "output_type": "stream",
     "text": [
      "61 i\n",
      "42 and\n",
      "40 romeo\n",
      "34 to\n",
      "34 the\n",
      "32 thou\n",
      "32 juliet\n",
      "30 that\n",
      "29 my\n",
      "24 thee\n"
     ]
    }
   ],
   "source": [
    "import string\n",
    "\n",
    "fhand = open('romeo-full.txt')\n",
    "\n",
    "counts = dict()\n",
    "for line in fhand:\n",
    "    \n",
    "    translator=str.maketrans('','',string.punctuation)\n",
    "    \n",
    "    line = line.translate(translator)\n",
    "\n",
    "    line = line.lower()\n",
    "    words = line.split()\n",
    "    for word in words:\n",
    "        if word not in counts:\n",
    "            counts[word] = 1\n",
    "        else:\n",
    "            counts[word] += 1\n",
    "            \n",
    "lst = list()\n",
    "for key, val in list(counts.items()):\n",
    "    lst.append((val, key))\n",
    "\n",
    "lst.sort(reverse = True)\n",
    "\n",
    "for key, val in lst[:10]:\n",
    "    print(key, val)"
   ]
  },
  {
   "cell_type": "code",
   "execution_count": 50,
   "metadata": {},
   "outputs": [],
   "source": [
    "#10.7 Using tuples as keys in dictionary \n",
    "\n",
    "#tuples are hashable, list are not\n",
    "#use tuple as composite key from dictionary\n",
    "\n",
    "#directory[last, first] = number \n",
    "\n",
    "# [last, first] is a tuple and treated as a composite key in dict\n",
    "\n",
    "# for last, first in directionary:\n",
    "      print(first, last, directory[last, first ])\n",
    "    "
   ]
  },
  {
   "cell_type": "code",
   "execution_count": null,
   "metadata": {},
   "outputs": [],
   "source": [
    "#10.8 Sequences: strings, lists and tuples\n",
    "\n",
    "#strings more limited than other sequences\n",
    "#can only contain characters - e.g. 'banana'\n",
    "#strings are immutable\n",
    "\n",
    "#lists are not immutable => most common\n",
    "# can use .sort(reverse = True)\n",
    "\n",
    "#tuples are immutable\n",
    "\n",
    "#10.9 debugging\n",
    "\n",
    "#lists, dict and tupe are data structures"
   ]
  },
  {
   "cell_type": "code",
   "execution_count": 9,
   "metadata": {},
   "outputs": [
    {
     "name": "stdout",
     "output_type": "stream",
     "text": [
      "Please enter file name  :  mbox.txt\n",
      "{'uct.ac.za': 6, 'media.berkeley.edu': 4, 'umich.edu': 7, 'iupui.edu': 8, 'caret.cam.ac.uk': 1, 'gmail.com': 1}\n",
      "8 iupui.edu\n"
     ]
    }
   ],
   "source": [
    "#10.11 Exercises\n",
    "\n",
    "fname = input('Please enter file name  :  ')\n",
    "\n",
    "try:\n",
    "    if fname == \"NA NA BOO BOO\":\n",
    "        print('gotacha!')\n",
    "    \n",
    "    fhand = open(fname)\n",
    "    \n",
    "except:\n",
    "    print('this file does not exist', fname)\n",
    "    \n",
    "d = dict()\n",
    "\n",
    "for line in fhand:\n",
    "    words = line.split()\n",
    "    if len(words) <2 or words[0] != 'From':\n",
    "        continue\n",
    "    else:\n",
    "        atpo = (words[1]).find('@')\n",
    "        domain = (words[1])[atpo+1:]\n",
    "        if domain not in d:\n",
    "            d[domain] = 1\n",
    "        else:\n",
    "            d[domain] += 1\n",
    "            \n",
    "print(d)\n",
    "\n",
    "\n",
    "y = list()\n",
    "\n",
    "for key, val in list(d.items()):\n",
    "    y.append((val, key))\n",
    "    \n",
    "y.sort(reverse = True)\n",
    "\n",
    "for key,val in y[:1]:\n",
    "    print(key, val)\n",
    "    "
   ]
  },
  {
   "cell_type": "code",
   "execution_count": 3,
   "metadata": {},
   "outputs": [
    {
     "name": "stdout",
     "output_type": "stream",
     "text": [
      "Please enter file name  :  mbox.txt\n",
      "{'uct.ac.za': 96, 'media.berkeley.edu': 56, 'umich.edu': 491, 'iupui.edu': 536, 'caret.cam.ac.uk': 157, 'gmail.com': 25, 'indiana.edu': 178, 'et.gatech.edu': 17, 'vt.edu': 110, 'lancaster.ac.uk': 14, 'ucdavis.edu': 1, 'ufp.pt': 28, 'txstate.edu': 17, 'stanford.edu': 12, 'whitman.edu': 17, 'rsmart.com': 8, 'fhda.edu': 1, 'bu.edu': 14, 'unicon.net': 9, 'loi.nl': 9, 'utoronto.ca': 1}\n",
      "536 iupui.edu\n"
     ]
    }
   ],
   "source": [
    "fname = input('Please enter file name  :  ')\n",
    "\n",
    "try:\n",
    "    if fname == \"NA NA BOO BOO\":\n",
    "        print('gotacha!')\n",
    "    \n",
    "    fhand = open(fname)\n",
    "    \n",
    "except:\n",
    "    print('this file does not exist', fname)\n",
    "    \n",
    "d = dict()\n",
    "\n",
    "for line in fhand:\n",
    "    words = line.split()\n",
    "    if len(words) <2 or words[0] != 'From':\n",
    "        continue\n",
    "    else:\n",
    "        atpo = (words[1]).find('@')\n",
    "        domain = (words[1])[atpo+1:]\n",
    "        if domain not in d:\n",
    "            d[domain] = 1\n",
    "        else:\n",
    "            d[domain] += 1\n",
    "            \n",
    "print(d)\n",
    "\n",
    "\n",
    "y = list()\n",
    "\n",
    "for key, val in list(d.items()):\n",
    "    y.append((val, key))\n",
    "    \n",
    "y.sort(reverse = True)\n",
    "\n",
    "for key,val in y[:1]:\n",
    "    print(key, val)\n",
    "    "
   ]
  },
  {
   "cell_type": "code",
   "execution_count": 4,
   "metadata": {},
   "outputs": [
    {
     "name": "stdout",
     "output_type": "stream",
     "text": [
      "Please enter file name  :  mbox-short.txt\n",
      "{'uct.ac.za': 6, 'media.berkeley.edu': 4, 'umich.edu': 7, 'iupui.edu': 8, 'caret.cam.ac.uk': 1, 'gmail.com': 1}\n",
      "8 iupui.edu\n"
     ]
    }
   ],
   "source": [
    "fname = input('Please enter file name  :  ')\n",
    "\n",
    "try:\n",
    "    if fname == \"NA NA BOO BOO\":\n",
    "        print('gotacha!')\n",
    "    \n",
    "    fhand = open(fname)\n",
    "    \n",
    "except:\n",
    "    print('this file does not exist', fname)\n",
    "    \n",
    "d = dict()\n",
    "\n",
    "for line in fhand:\n",
    "    words = line.split()\n",
    "    if len(words) <2 or words[0] != 'From':\n",
    "        continue\n",
    "    else:\n",
    "        atpo = (words[1]).find('@')\n",
    "        domain = (words[1])[atpo+1:]\n",
    "        if domain not in d:\n",
    "            d[domain] = 1\n",
    "        else:\n",
    "            d[domain] += 1\n",
    "            \n",
    "print(d)\n",
    "\n",
    "\n",
    "y = list()\n",
    "\n",
    "for key, val in list(d.items()):\n",
    "    y.append((val, key))\n",
    "    \n",
    "y.sort(reverse = True)\n",
    "\n",
    "for key,val in y[:1]:\n",
    "    print(key, val)"
   ]
  },
  {
   "cell_type": "code",
   "execution_count": null,
   "metadata": {},
   "outputs": [],
   "source": [
    "#Exercise 10.2 #mbox.txt\n",
    "\n",
    "fname = input('Please input file name:   ')\n",
    "\n",
    "try:\n",
    "    if fname == 'NA NA BOO BOO':\n",
    "        print('Gotcha!')\n",
    "    fhand = open(fname)\n",
    "    \n",
    "except:\n",
    "    print('This file does not exist: ', fname)\n",
    "    quit()\n",
    "    \n",
    "d = dict()\n",
    "\n",
    "for line in fhand:\n",
    "    words = line.split()\n",
    "    if len(words)< 2 or words[0] != 'From':\n",
    "        continue\n",
    "    else:\n",
    "        colpos = (words[5]).find(':')\n",
    "        num = (words[5])[:colpos]\n",
    "        if num not in d:\n",
    "            d[num] = 1\n",
    "        else:\n",
    "            d[num] += 1\n",
    "\n",
    "\n",
    "print(d)\n",
    "print()\n",
    "\n",
    "lst = list()\n",
    "\n",
    "for key, val in list(d.items()):\n",
    "    lst.append((key,val))\n",
    "    \n",
    "lst.sort()\n",
    "\n",
    "for key,val in lst:\n",
    "    print(key, val)\n"
   ]
  },
  {
   "cell_type": "code",
   "execution_count": null,
   "metadata": {},
   "outputs": [],
   "source": [
    "#Exercise 10.2 #mbox-short.txt\n",
    "fname = input('Please input file name:   ')\n",
    "\n",
    "try:\n",
    "    if fname == 'NA NA BOO BOO':\n",
    "        print('Gotcha!')\n",
    "    fhand = open(fname)\n",
    "    \n",
    "except:\n",
    "    print('This file does not exist: ', fname)\n",
    "    quit()\n",
    "    \n",
    "d = dict()\n",
    "\n",
    "for line in fhand:\n",
    "    words = line.split()\n",
    "    if len(words)< 2 or words[0] != 'From':\n",
    "        continue\n",
    "    else:\n",
    "        colpos = (words[5]).find(':')\n",
    "        num = (words[5])[:colpos]\n",
    "        if num not in d:\n",
    "            d[num] = 1\n",
    "        else:\n",
    "            d[num] += 1\n",
    "\n",
    "\n",
    "print(d)\n",
    "print()\n",
    "\n",
    "lst = list()\n",
    "\n",
    "for key, val in list(d.items()):\n",
    "    lst.append((key,val))\n",
    "    \n",
    "lst.sort()\n",
    "\n",
    "for key,val in lst:\n",
    "    print(key, val)"
   ]
  },
  {
   "cell_type": "code",
   "execution_count": null,
   "metadata": {},
   "outputs": [],
   "source": [
    "#10.3 exercise\n",
    "\n",
    "fname = input('Please input file name:   ')\n",
    "\n",
    "try:\n",
    "    if fname == 'NA NA BOO BOO':\n",
    "        print('Gotcha!')\n",
    "    fhand = open(fname)\n",
    "    \n",
    "except:\n",
    "    print('This file does not exist: ', fname)\n",
    "    quit()\n",
    "    \n",
    "count = 0\n",
    "d = dict()\n",
    "import string\n",
    "\n",
    "for line in fhand:\n",
    "    \n",
    "    translator=str.maketrans('','',string.punctuation)\n",
    "    line = line.translate(translator)\n",
    "\n",
    "    numberremove=str.maketrans('', '', string.digits)\n",
    "    line = line.translate(numberremove)\n",
    "    \n",
    "    words = line.lower().split()\n",
    "    \n",
    "    for word in words:\n",
    "        for letter in word:\n",
    "            count +=1 \n",
    "            if letter not in d:\n",
    "                d[letter] = 1\n",
    "            else:\n",
    "                d[letter] += 1\n",
    "            \n",
    "print(d)\n",
    "print()\n",
    "lst = list()\n",
    "\n",
    "for key, val in list(d.items()):\n",
    "    lst.append((val/count, key))\n",
    "     \n",
    "print(lst)\n",
    "               \n",
    "lst.sort(reverse= True)\n",
    "               \n",
    "for key, val in lst:\n",
    "               print(key, val)\n"
   ]
  },
  {
   "cell_type": "code",
   "execution_count": null,
   "metadata": {},
   "outputs": [],
   "source": []
  }
 ],
 "metadata": {
  "kernelspec": {
   "display_name": "Python 3",
   "language": "python",
   "name": "python3"
  },
  "language_info": {
   "codemirror_mode": {
    "name": "ipython",
    "version": 3
   },
   "file_extension": ".py",
   "mimetype": "text/x-python",
   "name": "python",
   "nbconvert_exporter": "python",
   "pygments_lexer": "ipython3",
   "version": "3.7.6"
  }
 },
 "nbformat": 4,
 "nbformat_minor": 4
}
