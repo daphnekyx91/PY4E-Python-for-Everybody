{
 "cells": [
  {
   "cell_type": "code",
   "execution_count": 1,
   "metadata": {},
   "outputs": [],
   "source": [
    "#15.1 What is a database ?\n",
    "\n",
    "#A database is a file that is organised for storing data.\n",
    "\n",
    "# database software is designed to keep inserting and accessing data v fast\n",
    "# database software maintain performance by building indexes as data is added to database\n",
    "#allow the computer to jump quickly to a particular entry\n",
    "\n",
    "#15.2 Database concepts\n",
    "# table = Relation\n",
    "# column = attribute\n",
    "# row = tuple\n",
    "\n",
    "#15.3 Database broswer for SQLite\n",
    "\n",
    "#http://sqlitebrowser.org/\n",
    "#browser to easily create tables, insert data, edit data or run simple SQL queries"
   ]
  },
  {
   "cell_type": "code",
   "execution_count": 1,
   "metadata": {},
   "outputs": [],
   "source": [
    "#15.4 Creating a database table\n",
    "\n",
    "#database require a more defined structure than python list/ dict\n",
    "\n",
    "#need to inform in adcance the names of column and data type\n",
    "\n",
    "#various data types by are supported by SGLite\n",
    "\n",
    "#Must define the data structure first\n",
    "\n",
    "import sqlite3\n",
    "\n",
    "conn = sqlite3.connect('music.sqlite') #connect to database, it shud exist in current directionary\n",
    "cur = conn.cursor() #open the file\n",
    "\n",
    "cur.execute('DROP TABLE IF EXISTS Tracks') #rewrite over old table\n",
    "cur.execute('CREATE TABLE TRACKS (title TEXT, plays INTEGER)') #add in attributes with datatype\n",
    "\n",
    "conn.close() #close the file\n",
    "\n",
    "#.connect() to the database in the file, there is music.sqlite in current direction\n",
    "#.cursor() to open file\n",
    "#.execute() to tell SQL what to do through python\n",
    "#.close() to close file"
   ]
  },
  {
   "cell_type": "code",
   "execution_count": null,
   "metadata": {},
   "outputs": [],
   "source": [
    "cur.execute('DROP TABLE IF EXISTS Tracks')\n",
    "\n",
    "#SQL command removes Tracks table from database\n",
    "\n",
    "cur.execute('CREATE TABLE Tracks (title TEXT, plays INTEGER)')\n",
    "#created a table named Tracks with column and their data types\n",
    "\n",
    "#use SQL INSERT command to place inside table as tuple"
   ]
  },
  {
   "cell_type": "code",
   "execution_count": 4,
   "metadata": {},
   "outputs": [
    {
     "name": "stdout",
     "output_type": "stream",
     "text": [
      "Tracks:\n",
      "('Thunderstruck', 20)\n",
      "('My Way', 15)\n",
      "('Thunderstruck', 20)\n",
      "('My Way', 15)\n"
     ]
    }
   ],
   "source": [
    "import sqlite3\n",
    "\n",
    "conn = sqlite3.connect('music.sqlite')\n",
    "cur = conn.cursor()\n",
    "\n",
    "cur.execute('INSERT INTO Tracks (title, plays) VALUES (?,?)',\n",
    "            ('Thunderstruck', 20))\n",
    "\n",
    "cur.execute('INSERT INTO Tracks (title, plays) VALUES (?,?)',\n",
    "           ('My Way', 15))\n",
    "\n",
    "conn.commit()\n",
    "\n",
    "print('Tracks:')\n",
    "cur.execute('SELECT title, plays FROM Tracks')\n",
    "\n",
    "for row in cur:\n",
    "    print(row)\n",
    "    \n",
    "cur.execute('DELETE FROM Tracks WHERE plays< 100')\n",
    "\n",
    "cur.close()"
   ]
  },
  {
   "cell_type": "code",
   "execution_count": 11,
   "metadata": {},
   "outputs": [
    {
     "name": "stdout",
     "output_type": "stream",
     "text": [
      "Tracks1:\n",
      "('Thunder', 30)\n",
      "('WOO', 20)\n"
     ]
    }
   ],
   "source": [
    "import sqlite3\n",
    "\n",
    "conn = sqlite3.connect('music.sqlite')\n",
    "cur= conn.cursor()\n",
    "\n",
    "\n",
    "cur.execute('DROP TABLE IF EXISTS Tracks1')\n",
    "\n",
    "#SQL command removes Tracks table from database\n",
    "\n",
    "cur.execute('CREATE TABLE Tracks1 (title TEXT, plays INTEGER)')\n",
    "\n",
    "cur.execute('INSERT INTO Tracks1 (title, plays) VALUES (?,?)',\n",
    "            ('Thunder', 30))\n",
    "cur.execute('INSERT INTO Tracks1 (title, plays)VALUES(?,?)',\n",
    "           ('WOO',20))\n",
    "\n",
    "conn.commit()\n",
    "\n",
    "print('Tracks1:')\n",
    "cur.execute('SELECT title, plays FROM Tracks1')\n",
    "for row in cur:\n",
    "    print(row)\n",
    "\n",
    "cur.execute('DELETE FROM Tracks1 WHERE plays <100')\n",
    "cur.close()"
   ]
  },
  {
   "cell_type": "code",
   "execution_count": null,
   "metadata": {},
   "outputs": [],
   "source": [
    "#15.5 SQL summary\n",
    "\n",
    "#different database vendors and communicate in portable manner from diff vendors\n",
    "\n",
    "#relational database is made up of table, rows and columns.\n",
    "#columns have different type INTEGERS, TEXT, UNIQUE, DATE\n",
    "\n",
    "#CREATE TABLE Tracks (title TEXT, plays INTEGER)\n",
    "#INSERT INTO Tracks (title, plays) VALUES ('My way', 15)\n",
    "# SELECT * FROM Tracks WHERE title = 'My Way'\n",
    "# * to indicate return of column when it matches WHERE clause\n",
    "\n",
    "# SELECT title, plays FROM Tracks ORDER BY title\n",
    "# DELETE FROM Tracks WHERE title = 'My Way'\n",
    "# UPDATE Tracks SET plays = 16 WHERE title = 'My Way'"
   ]
  },
  {
   "cell_type": "code",
   "execution_count": 14,
   "metadata": {},
   "outputs": [
    {
     "ename": "ModuleNotFoundError",
     "evalue": "No module named 'urlparse'",
     "output_type": "error",
     "traceback": [
      "\u001b[1;31m---------------------------------------------------------------------------\u001b[0m",
      "\u001b[1;31mModuleNotFoundError\u001b[0m                       Traceback (most recent call last)",
      "\u001b[1;32m<ipython-input-14-5c1e4af9cc77>\u001b[0m in \u001b[0;36m<module>\u001b[1;34m\u001b[0m\n\u001b[0;32m      3\u001b[0m \u001b[1;32mfrom\u001b[0m \u001b[0murllib\u001b[0m\u001b[1;33m.\u001b[0m\u001b[0mrequest\u001b[0m \u001b[1;32mimport\u001b[0m \u001b[0murlopen\u001b[0m\u001b[1;33m\u001b[0m\u001b[1;33m\u001b[0m\u001b[0m\n\u001b[0;32m      4\u001b[0m \u001b[1;32mimport\u001b[0m \u001b[0murllib\u001b[0m\u001b[1;33m.\u001b[0m\u001b[0merror\u001b[0m\u001b[1;33m\u001b[0m\u001b[1;33m\u001b[0m\u001b[0m\n\u001b[1;32m----> 5\u001b[1;33m \u001b[1;32mimport\u001b[0m \u001b[0mtwurl\u001b[0m\u001b[1;33m\u001b[0m\u001b[1;33m\u001b[0m\u001b[0m\n\u001b[0m\u001b[0;32m      6\u001b[0m \u001b[1;32mimport\u001b[0m \u001b[0mjson\u001b[0m\u001b[1;33m\u001b[0m\u001b[1;33m\u001b[0m\u001b[0m\n\u001b[0;32m      7\u001b[0m \u001b[1;32mimport\u001b[0m \u001b[0msqlite3\u001b[0m\u001b[1;33m\u001b[0m\u001b[1;33m\u001b[0m\u001b[0m\n",
      "\u001b[1;32m~\\Desktop\\Youtube Python\\Python for everyone\\twurl.py\u001b[0m in \u001b[0;36m<module>\u001b[1;34m\u001b[0m\n\u001b[0;32m      1\u001b[0m \u001b[1;32mimport\u001b[0m \u001b[0murllib\u001b[0m\u001b[1;33m\u001b[0m\u001b[1;33m\u001b[0m\u001b[0m\n\u001b[1;32m----> 2\u001b[1;33m \u001b[1;32mimport\u001b[0m \u001b[0moauth\u001b[0m\u001b[1;33m\u001b[0m\u001b[1;33m\u001b[0m\u001b[0m\n\u001b[0m\u001b[0;32m      3\u001b[0m \u001b[1;32mimport\u001b[0m \u001b[0mhidden\u001b[0m\u001b[1;33m\u001b[0m\u001b[1;33m\u001b[0m\u001b[0m\n\u001b[0;32m      4\u001b[0m \u001b[1;33m\u001b[0m\u001b[0m\n\u001b[0;32m      5\u001b[0m \u001b[1;32mdef\u001b[0m \u001b[0maugment\u001b[0m\u001b[1;33m(\u001b[0m\u001b[0murl\u001b[0m\u001b[1;33m,\u001b[0m \u001b[0mparameters\u001b[0m\u001b[1;33m)\u001b[0m \u001b[1;33m:\u001b[0m\u001b[1;33m\u001b[0m\u001b[1;33m\u001b[0m\u001b[0m\n",
      "\u001b[1;32m~\\Desktop\\Youtube Python\\Python for everyone\\oauth.py\u001b[0m in \u001b[0;36m<module>\u001b[1;34m\u001b[0m\n\u001b[0;32m     27\u001b[0m \u001b[1;32mimport\u001b[0m \u001b[0mtime\u001b[0m\u001b[1;33m\u001b[0m\u001b[1;33m\u001b[0m\u001b[0m\n\u001b[0;32m     28\u001b[0m \u001b[1;32mimport\u001b[0m \u001b[0mrandom\u001b[0m\u001b[1;33m\u001b[0m\u001b[1;33m\u001b[0m\u001b[0m\n\u001b[1;32m---> 29\u001b[1;33m \u001b[1;32mimport\u001b[0m \u001b[0murlparse\u001b[0m\u001b[1;33m\u001b[0m\u001b[1;33m\u001b[0m\u001b[0m\n\u001b[0m\u001b[0;32m     30\u001b[0m \u001b[1;32mimport\u001b[0m \u001b[0mhmac\u001b[0m\u001b[1;33m\u001b[0m\u001b[1;33m\u001b[0m\u001b[0m\n\u001b[0;32m     31\u001b[0m \u001b[1;32mimport\u001b[0m \u001b[0mbinascii\u001b[0m\u001b[1;33m\u001b[0m\u001b[1;33m\u001b[0m\u001b[0m\n",
      "\u001b[1;31mModuleNotFoundError\u001b[0m: No module named 'urlparse'"
     ]
    }
   ],
   "source": [
    "#15.6 Spidering Twitter using a database\n",
    "\n",
    "from urllib.request import urlopen\n",
    "import urllib.error\n",
    "import twurl\n",
    "import json\n",
    "import sqlite3\n",
    "\n",
    "TWITTER_URL =  'https://api.twitter.com/1.1/friends/list.json'\n",
    "\n",
    "conn = sqlite3.connect('spider.sqlite')\n",
    "cur = conn.cursor()\n",
    "\n",
    "cur.execute('''CREATE TABLE IF NOT EXISTS Twitter \n",
    "           (name TEXT, retrieved INTEGER, friends INTEGER)''')\n",
    "\n",
    "while True:\n",
    "    acct = input('Enter a Twitter account, or quit:  ')\n",
    "    if ( acct == 'quit'): break\n",
    "    if (len(acct) < 1):\n",
    "        cur.execute('SELECT name FROM Twitter WHERE retrieved = 0 LIMIT 1')\n",
    "        \n",
    "        try:\n",
    "            acct = cur.fetchone()[0]\n",
    "        except:\n",
    "            print('No retrieved Twitter accounts found')\n",
    "            continue\n",
    "\n",
    "url = twurl.augment(TWITTER_URL, {'screen_name':acct, 'count':'5'})\n",
    "print('Retrieving', url)\n",
    "connection = urlopen(url)\n",
    "data = connection.read().decode()\n",
    "headers = dict(connection.getheaders())\n",
    "\n",
    "print('Remaining', headers['x-rate-limit-remaining'])\n",
    "js = json.loads(data)\n",
    "\n",
    "cur.execute('SELECT friends FROM Twitter WHERE name = ? LIMIT 1',\n",
    "           (friend, ))\n",
    "\n",
    "try:\n",
    "    count = cur.fetchone()[0]\n",
    "    cur.execute('UPDATE Twitter SET friends = ? WHERE name = ?',\n",
    "               (count+1, friend))\n",
    "    countold = countold + 1\n",
    "\n",
    "except:\n",
    "    cur.execute('''INSERT INTO Twitter(name, retrieved, friends)\n",
    "                values(?,0,1) ''', (friend, ))\n",
    "    countnew = countnew + 1\n",
    "\n",
    "print('NEW accounts =', countnew, 'revisted =', countold)\n",
    "conn.commit()\n",
    "\n",
    "cur.close()"
   ]
  },
  {
   "cell_type": "code",
   "execution_count": null,
   "metadata": {},
   "outputs": [],
   "source": []
  },
  {
   "cell_type": "code",
   "execution_count": null,
   "metadata": {},
   "outputs": [],
   "source": []
  }
 ],
 "metadata": {
  "kernelspec": {
   "display_name": "Python 3",
   "language": "python",
   "name": "python3"
  },
  "language_info": {
   "codemirror_mode": {
    "name": "ipython",
    "version": 3
   },
   "file_extension": ".py",
   "mimetype": "text/x-python",
   "name": "python",
   "nbconvert_exporter": "python",
   "pygments_lexer": "ipython3",
   "version": "3.7.6"
  }
 },
 "nbformat": 4,
 "nbformat_minor": 4
}
