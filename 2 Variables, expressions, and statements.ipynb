{
 "cells": [
  {
   "cell_type": "code",
   "execution_count": 4,
   "metadata": {},
   "outputs": [
    {
     "name": "stdout",
     "output_type": "stream",
     "text": [
      "4\n",
      "Hello World\n"
     ]
    },
    {
     "data": {
      "text/plain": [
       "str"
      ]
     },
     "execution_count": 4,
     "metadata": {},
     "output_type": "execute_result"
    }
   ],
   "source": [
    "#values belong to different types: 2 is an integer, and “Hello, World!” is a\n",
    "#string, so called because it contains a “string” of letters\n",
    "\n",
    "print(4)\n",
    "\n",
    "print(\"Hello World\")"
   ]
  },
  {
   "cell_type": "code",
   "execution_count": 6,
   "metadata": {},
   "outputs": [
    {
     "data": {
      "text/plain": [
       "float"
      ]
     },
     "execution_count": 6,
     "metadata": {},
     "output_type": "execute_result"
    }
   ],
   "source": [
    "type(3.54)\n",
    "\n",
    "#numbers with a decimal point belong to a type called float,\n",
    "#because these numbers are represented in a format called floating point."
   ]
  },
  {
   "cell_type": "code",
   "execution_count": 7,
   "metadata": {},
   "outputs": [
    {
     "data": {
      "text/plain": [
       "str"
      ]
     },
     "execution_count": 7,
     "metadata": {},
     "output_type": "execute_result"
    }
   ],
   "source": [
    "type(\"hello\")\n"
   ]
  },
  {
   "cell_type": "code",
   "execution_count": 9,
   "metadata": {},
   "outputs": [
    {
     "data": {
      "text/plain": [
       "int"
      ]
     },
     "execution_count": 9,
     "metadata": {},
     "output_type": "execute_result"
    }
   ],
   "source": [
    "type(7)"
   ]
  },
  {
   "cell_type": "code",
   "execution_count": 10,
   "metadata": {},
   "outputs": [
    {
     "data": {
      "text/plain": [
       "str"
      ]
     },
     "execution_count": 10,
     "metadata": {},
     "output_type": "execute_result"
    }
   ],
   "source": [
    "#when u put number with '' it becomes a string\n",
    "\n",
    "type('1.4')"
   ]
  },
  {
   "cell_type": "code",
   "execution_count": 11,
   "metadata": {},
   "outputs": [
    {
     "name": "stdout",
     "output_type": "stream",
     "text": [
      "1 0 0\n"
     ]
    }
   ],
   "source": [
    "print(1,000,000)"
   ]
  },
  {
   "cell_type": "code",
   "execution_count": 12,
   "metadata": {},
   "outputs": [],
   "source": [
    "#manipulate variables.\n",
    "#Variable is a name that refers to a value\n",
    "#Assignment statement create new variables and gives them values\n",
    "\n",
    "message = \"Hello aliens\" #message is the variable, string is assigned\n",
    "n = 17   #n is the variable, 17 is assigned \n",
    "pi = 22/7  # pi is the variable, 22/7 is assigned"
   ]
  },
  {
   "cell_type": "code",
   "execution_count": 13,
   "metadata": {},
   "outputs": [
    {
     "name": "stdout",
     "output_type": "stream",
     "text": [
      "Hello aliens\n",
      "17\n",
      "3.142857142857143\n"
     ]
    }
   ],
   "source": [
    "print(message) #print function the variable, will show value\n",
    "print(n)\n",
    "print(pi)"
   ]
  },
  {
   "cell_type": "code",
   "execution_count": 17,
   "metadata": {},
   "outputs": [
    {
     "data": {
      "text/plain": [
       "str"
      ]
     },
     "execution_count": 17,
     "metadata": {},
     "output_type": "execute_result"
    }
   ],
   "source": [
    "type(message)\n",
    "\n",
    "#message is the variable, string is assigned"
   ]
  },
  {
   "cell_type": "code",
   "execution_count": 18,
   "metadata": {},
   "outputs": [
    {
     "data": {
      "text/plain": [
       "int"
      ]
     },
     "execution_count": 18,
     "metadata": {},
     "output_type": "execute_result"
    }
   ],
   "source": [
    "type(n)\n",
    "\n",
    "#n is the variable, 17 is assigned "
   ]
  },
  {
   "cell_type": "code",
   "execution_count": 19,
   "metadata": {},
   "outputs": [
    {
     "data": {
      "text/plain": [
       "float"
      ]
     },
     "execution_count": 19,
     "metadata": {},
     "output_type": "execute_result"
    }
   ],
   "source": [
    "type(pi)\n",
    "\n",
    "#pi is the variable, 22/7 is assigned"
   ]
  },
  {
   "cell_type": "code",
   "execution_count": null,
   "metadata": {},
   "outputs": [],
   "source": [
    "#Python Variable names and keywords\n",
    "\n",
    "#Variable names can be a full word or have underscore.\n",
    "#it cannot contain keywords\n",
    "\n",
    "#Keywords there are 35\n",
    "and\n",
    "as\n",
    "assert\n",
    "break\n",
    "class\n",
    "continue\n",
    "def\n",
    "del\n",
    "elif\n",
    "else\n",
    "except\n",
    "False\n",
    "finally\n",
    "for\n",
    "from\n",
    "global\n",
    "if\n",
    "import\n",
    "in\n",
    "is\n",
    "lambda\n",
    "None\n",
    "nonlocal\n",
    "not\n",
    "or\n",
    "pass\n",
    "raise\n",
    "return\n",
    "True\n",
    "tru\n",
    "while\n",
    "with\n",
    "yield\n",
    "async\n",
    "await\n"
   ]
  },
  {
   "cell_type": "code",
   "execution_count": 20,
   "metadata": {},
   "outputs": [
    {
     "name": "stdout",
     "output_type": "stream",
     "text": [
      "1\n",
      "2\n"
     ]
    }
   ],
   "source": [
    "#Statements\n",
    "\n",
    "#A statement is a unit of code that the Python interpreter can execute\n",
    "#print being an expression statement and assignment\n",
    "\n",
    "#A script usually contains a sequence of statements. If there is more than one\n",
    "#statement, the results appear one at a time as the statements execute\n",
    "\n",
    "print(1) #output\n",
    "\n",
    "x = 2 #assignment statement no output\n",
    "print(x) #output"
   ]
  },
  {
   "cell_type": "code",
   "execution_count": 23,
   "metadata": {},
   "outputs": [
    {
     "name": "stdout",
     "output_type": "stream",
     "text": [
      "1\n",
      "10\n"
     ]
    }
   ],
   "source": [
    " #Operators: special symbols that represent computations \n",
    "    #like addition and multiplication.\n",
    "    #The values the operator is applied to are called operands\n",
    "    \n",
    "#operators +, -, *, /, and ** perform addition, subtraction, multiplication,\n",
    "#division, and exponentiation\n",
    "\n",
    "#integer from division use //\n",
    "#remainder from division use modulo %\n",
    "\n",
    "print(60//50) \n",
    "print(60%50)"
   ]
  },
  {
   "cell_type": "code",
   "execution_count": 24,
   "metadata": {},
   "outputs": [
    {
     "data": {
      "text/plain": [
       "6"
      ]
     },
     "execution_count": 24,
     "metadata": {},
     "output_type": "execute_result"
    }
   ],
   "source": [
    "x = 5\n",
    "x + 1"
   ]
  },
  {
   "cell_type": "code",
   "execution_count": 27,
   "metadata": {},
   "outputs": [
    {
     "name": "stdout",
     "output_type": "stream",
     "text": [
      "4\n",
      "8\n",
      "3\n",
      "3\n",
      "5\n",
      "8.0\n"
     ]
    }
   ],
   "source": [
    "#Order of operations\n",
    "\n",
    "print (2 * (3-1) )\n",
    "print((1+1)**(5-2))\n",
    "\n",
    "#Parentheses have the highest precedence ()\n",
    "\n",
    "print(2**1+1)\n",
    "print(3*1**3)\n",
    "\n",
    "#Exponentiation has the next highest precedence **\n",
    "\n",
    "print(2*3-1)\n",
    "print(6+4/2)"
   ]
  },
  {
   "cell_type": "code",
   "execution_count": 28,
   "metadata": {},
   "outputs": [
    {
     "name": "stdout",
     "output_type": "stream",
     "text": [
      "2\n",
      "1\n"
     ]
    }
   ],
   "source": [
    "#Modulus operator\n",
    "\n",
    "#modulus operator works on integers and yields the remainder \n",
    "#when the first operand is divided by the second.\n",
    "\n",
    "quotient = 7//3\n",
    "print(quotient)\n",
    "\n",
    "remainder = 7%3\n",
    "print(remainder)\n",
    "\n",
    "#So 7 divided by 3 is 2 with 1 left over.\n",
    "# if x % y is zero, then x is divisible by y.\n"
   ]
  },
  {
   "cell_type": "code",
   "execution_count": 1,
   "metadata": {},
   "outputs": [
    {
     "name": "stdout",
     "output_type": "stream",
     "text": [
      "25\n"
     ]
    }
   ],
   "source": [
    "#String operations\n",
    "\n",
    "#this is an addition not string operation\n",
    "first = 10 #assign value to the variable\n",
    "second = 15\n",
    "\n",
    "print (first + second)"
   ]
  },
  {
   "cell_type": "code",
   "execution_count": 2,
   "metadata": {},
   "outputs": [
    {
     "name": "stdout",
     "output_type": "stream",
     "text": [
      "100567\n"
     ]
    }
   ],
   "source": [
    "#String operation\n",
    "#concatenation\n",
    "\n",
    "first1 = \"100\" #assign string to variable\n",
    "second1 = \"567\"\n",
    "\n",
    "print ( first1 + second1)"
   ]
  },
  {
   "cell_type": "code",
   "execution_count": 3,
   "metadata": {},
   "outputs": [
    {
     "name": "stdout",
     "output_type": "stream",
     "text": [
      "testtesttest\n"
     ]
    }
   ],
   "source": [
    "#String operation\n",
    "#multiplication, multiply the string\n",
    "\n",
    "first2 = \"test\"\n",
    "second2 = 3\n",
    "\n",
    "print( first2 * second2)\n"
   ]
  },
  {
   "cell_type": "code",
   "execution_count": 4,
   "metadata": {},
   "outputs": [
    {
     "name": "stdout",
     "output_type": "stream",
     "text": [
      "yo whass up\n",
      "yo whass up\n"
     ]
    }
   ],
   "source": [
    "#Asking user for input\n",
    "#built-in function called input that gets input from the keyboard\n",
    "#When this function is called, the program stops and waits for the user to type something\n",
    "#user presses Return or Enter, the program resumes and input returns what the user typed as a string\n",
    "\n",
    "inp = input() #assign input to variable(inp)\n",
    "\n",
    "print(inp) #print output when input is keyed in"
   ]
  },
  {
   "cell_type": "code",
   "execution_count": 8,
   "metadata": {},
   "outputs": [
    {
     "name": "stdout",
     "output_type": "stream",
     "text": [
      "what is your name?\n",
      "daphne\n",
      "daphne\n"
     ]
    }
   ],
   "source": [
    "#Usually place a prompt to ask user what you want to input\n",
    "#E.g username, password..etc\n",
    "\n",
    "name = input ('what is your name?\\n') #get input = name while asking for name\n",
    "                                      #\\n is to place a new line\n",
    "\n",
    "print(name) #output name"
   ]
  },
  {
   "cell_type": "code",
   "execution_count": 10,
   "metadata": {},
   "outputs": [
    {
     "name": "stdout",
     "output_type": "stream",
     "text": [
      " what is the speed of a humming bird?89\n"
     ]
    },
    {
     "data": {
      "text/plain": [
       "89"
      ]
     },
     "execution_count": 10,
     "metadata": {},
     "output_type": "execute_result"
    }
   ],
   "source": [
    "#Convert the input/return value into a integer\n",
    "\n",
    "prompt = \" what is the speed of a humming bird?\"\n",
    "speed = input(prompt)\n",
    "int(speed)"
   ]
  },
  {
   "cell_type": "code",
   "execution_count": 12,
   "metadata": {},
   "outputs": [
    {
     "name": "stdout",
     "output_type": "stream",
     "text": [
      "What is the speed of the humming bird?\n",
      "68\n",
      "68\n"
     ]
    }
   ],
   "source": [
    "#alternative shorter method\n",
    "\n",
    "speed= int(input('What is the speed of the humming bird?\\n'))\n",
    "\n",
    "#place the input() within int(), so the input convert to int\n",
    "#place \\n for new line"
   ]
  },
  {
   "cell_type": "code",
   "execution_count": 13,
   "metadata": {},
   "outputs": [
    {
     "name": "stdout",
     "output_type": "stream",
     "text": [
      "What is the speed of the humming bird?\n",
      "BLAH\n"
     ]
    },
    {
     "ename": "ValueError",
     "evalue": "invalid literal for int() with base 10: 'BLAH'",
     "output_type": "error",
     "traceback": [
      "\u001b[1;31m---------------------------------------------------------------------------\u001b[0m",
      "\u001b[1;31mValueError\u001b[0m                                Traceback (most recent call last)",
      "\u001b[1;32m<ipython-input-13-2d999b7161dc>\u001b[0m in \u001b[0;36m<module>\u001b[1;34m\u001b[0m\n\u001b[0;32m      1\u001b[0m \u001b[1;31m#But if types something other than a string of digits ==> ERROR\u001b[0m\u001b[1;33m\u001b[0m\u001b[1;33m\u001b[0m\u001b[1;33m\u001b[0m\u001b[0m\n\u001b[1;32m----> 2\u001b[1;33m \u001b[0mspeed\u001b[0m\u001b[1;33m=\u001b[0m \u001b[0mint\u001b[0m\u001b[1;33m(\u001b[0m\u001b[0minput\u001b[0m\u001b[1;33m(\u001b[0m\u001b[1;34m'What is the speed of the humming bird?\\n'\u001b[0m\u001b[1;33m)\u001b[0m\u001b[1;33m)\u001b[0m\u001b[1;33m\u001b[0m\u001b[1;33m\u001b[0m\u001b[0m\n\u001b[0m\u001b[0;32m      3\u001b[0m \u001b[1;33m\u001b[0m\u001b[0m\n",
      "\u001b[1;31mValueError\u001b[0m: invalid literal for int() with base 10: 'BLAH'"
     ]
    }
   ],
   "source": [
    "#But if types something other than a string of digits ==> ERROR\n",
    "speed= int(input('What is the speed of the humming bird?\\n'))\n",
    "\n",
    "#ValueError: invalid literal for int() with base 10: 'BLAH'"
   ]
  },
  {
   "cell_type": "code",
   "execution_count": 14,
   "metadata": {},
   "outputs": [
    {
     "name": "stdout",
     "output_type": "stream",
     "text": [
      "437.5\n",
      "437.5\n",
      "437.5\n"
     ]
    }
   ],
   "source": [
    "#Choosing mnemonic variable names\n",
    "#Avoid reserved words\n",
    "#Dont be too descriptive\n",
    "\n",
    "a = 35.0\n",
    "b = 12.50\n",
    "c = a * b\n",
    "print(c)\n",
    "\n",
    "hours = 35.0\n",
    "rate = 12.50\n",
    "pay = hours * rate\n",
    "print(pay)\n",
    "\n",
    "x1q3z9ahd = 35.0\n",
    "x1q3z9afd = 12.50\n",
    "x1q3p9afd = x1q3z9afd * x1q3z9ahd\n",
    "print(x1q3p9afd)"
   ]
  },
  {
   "cell_type": "code",
   "execution_count": 17,
   "metadata": {},
   "outputs": [
    {
     "ename": "NameError",
     "evalue": "name 'pizza' is not defined",
     "output_type": "error",
     "traceback": [
      "\u001b[1;31m---------------------------------------------------------------------------\u001b[0m",
      "\u001b[1;31mNameError\u001b[0m                                 Traceback (most recent call last)",
      "\u001b[1;32m<ipython-input-17-b0d39c614c0d>\u001b[0m in \u001b[0;36m<module>\u001b[1;34m\u001b[0m\n\u001b[1;32m----> 1\u001b[1;33m \u001b[1;32mfor\u001b[0m \u001b[0mslice\u001b[0m \u001b[1;32min\u001b[0m \u001b[0mpizza\u001b[0m\u001b[1;33m:\u001b[0m\u001b[1;33m\u001b[0m\u001b[1;33m\u001b[0m\u001b[0m\n\u001b[0m\u001b[0;32m      2\u001b[0m     \u001b[0mprint\u001b[0m\u001b[1;33m(\u001b[0m\u001b[0mslice\u001b[0m\u001b[1;33m)\u001b[0m\u001b[1;33m\u001b[0m\u001b[1;33m\u001b[0m\u001b[0m\n\u001b[0;32m      3\u001b[0m \u001b[1;33m\u001b[0m\u001b[0m\n\u001b[0;32m      4\u001b[0m \u001b[1;31m#parts of the code that are defined by Python (for, in, print, and :)\u001b[0m\u001b[1;33m\u001b[0m\u001b[1;33m\u001b[0m\u001b[1;33m\u001b[0m\u001b[0m\n\u001b[0;32m      5\u001b[0m \u001b[1;31m#d the programmer-chosen variables (word and words) are not in bold\u001b[0m\u001b[1;33m\u001b[0m\u001b[1;33m\u001b[0m\u001b[1;33m\u001b[0m\u001b[0m\n",
      "\u001b[1;31mNameError\u001b[0m: name 'pizza' is not defined"
     ]
    }
   ],
   "source": [
    "for word in words:\n",
    "    print(word)\n",
    "    \n",
    "for slice in pizza:\n",
    "    print(slice)\n",
    "    \n",
    "#parts of the code that are defined by Python (for, in, print, and :)\n",
    "#d the programmer-chosen variables (word and words) are not in bold\n",
    "\n"
   ]
  },
  {
   "cell_type": "code",
   "execution_count": 18,
   "metadata": {},
   "outputs": [
    {
     "ename": "SyntaxError",
     "evalue": "invalid syntax (<ipython-input-18-f97f4b29eb64>, line 2)",
     "output_type": "error",
     "traceback": [
      "\u001b[1;36m  File \u001b[1;32m\"<ipython-input-18-f97f4b29eb64>\"\u001b[1;36m, line \u001b[1;32m2\u001b[0m\n\u001b[1;33m    bad name = 5\u001b[0m\n\u001b[1;37m           ^\u001b[0m\n\u001b[1;31mSyntaxError\u001b[0m\u001b[1;31m:\u001b[0m invalid syntax\n"
     ]
    }
   ],
   "source": [
    "#dont put space between variable names, python will think its 2 operant\n",
    "bad name = 5"
   ]
  },
  {
   "cell_type": "code",
   "execution_count": 21,
   "metadata": {},
   "outputs": [],
   "source": [
    "principal = 327.68\n",
    "rate =6\n",
    "interest = principle * rate\n",
    "\n",
    "#there is not result due to wrong spelling, principal not principle\n",
    "#Latex is not the same as LATEX ==> Case sensitive"
   ]
  },
  {
   "cell_type": "code",
   "execution_count": 1,
   "metadata": {},
   "outputs": [
    {
     "name": "stdout",
     "output_type": "stream",
     "text": [
      "Enter your name:daphne\n",
      "Hello daphne\n"
     ]
    }
   ],
   "source": [
    "#Exercises 2.15\n",
    "#Exercise 2: Write a program that uses input to prompt a user for their\n",
    "#name and then welcomes them.\n",
    "\n",
    "name = input(\"Enter your name:\")\n",
    "print('Hello', name)"
   ]
  },
  {
   "cell_type": "code",
   "execution_count": 2,
   "metadata": {},
   "outputs": [
    {
     "name": "stdout",
     "output_type": "stream",
     "text": [
      "Enter Hours:35\n",
      "Enter Rate:2.75\n",
      "Pay: 96.25\n"
     ]
    }
   ],
   "source": [
    "#Exercise 3: Write a program to prompt the user for hours and rate per \n",
    "#hour to compute gross pay.\n",
    "\n",
    "hours = int(input(\"Enter Hours:\"))\n",
    "rate = float(input(\"Enter Rate:\"))\n",
    "\n",
    "print(\"Pay:\", hours * rate)"
   ]
  },
  {
   "cell_type": "code",
   "execution_count": 3,
   "metadata": {},
   "outputs": [
    {
     "name": "stdout",
     "output_type": "stream",
     "text": [
      "8\n",
      "\n",
      "8.5\n",
      "\n",
      "4.0\n",
      "\n",
      "11\n"
     ]
    }
   ],
   "source": [
    "#Exercise 4: Assume that we execute the following assignment statements:\n",
    "\n",
    "width = 17\n",
    "height = 12.0\n",
    "\n",
    "print( width // 2)\n",
    "print()\n",
    "print( width/2.0)\n",
    "print()\n",
    "print(height/3)\n",
    "print()\n",
    "print(1+2*5)"
   ]
  },
  {
   "cell_type": "code",
   "execution_count": 2,
   "metadata": {},
   "outputs": [
    {
     "name": "stdout",
     "output_type": "stream",
     "text": [
      "Celsius temperature?78.9\n",
      "Fahrenheit= 174.02\n"
     ]
    }
   ],
   "source": [
    "#Exercise 5: Write a program which prompts the user for a Celsius temperature, \n",
    "#convert the temperature to Fahrenheit, and print out the\n",
    "#converted temperature.\n",
    "\n",
    "celsius = float(input(\"Celsius temperature?\"))\n",
    "\n",
    "fahrenheit_temp = (celsius/5) *9 + 32\n",
    "\n",
    "print(\"Fahrenheit=\", fahrenheit_temp)"
   ]
  },
  {
   "cell_type": "code",
   "execution_count": null,
   "metadata": {},
   "outputs": [],
   "source": []
  }
 ],
 "metadata": {
  "kernelspec": {
   "display_name": "Python 3",
   "language": "python",
   "name": "python3"
  },
  "language_info": {
   "codemirror_mode": {
    "name": "ipython",
    "version": 3
   },
   "file_extension": ".py",
   "mimetype": "text/x-python",
   "name": "python",
   "nbconvert_exporter": "python",
   "pygments_lexer": "ipython3",
   "version": "3.7.6"
  }
 },
 "nbformat": 4,
 "nbformat_minor": 4
}
