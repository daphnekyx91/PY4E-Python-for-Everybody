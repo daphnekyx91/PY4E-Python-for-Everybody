{
 "cells": [
  {
   "cell_type": "code",
   "execution_count": 2,
   "metadata": {},
   "outputs": [
    {
     "data": {
      "text/plain": [
       "True"
      ]
     },
     "execution_count": 2,
     "metadata": {},
     "output_type": "execute_result"
    }
   ],
   "source": [
    "#Boolean expressions\n",
    "5==5\n",
    "\n",
    "#A boolean expression is an expression that is either true or false\n",
    "#use the operator ==, which compares two operands and produces True if\n",
    "#they are equal and False otherwise"
   ]
  },
  {
   "cell_type": "code",
   "execution_count": 3,
   "metadata": {},
   "outputs": [
    {
     "data": {
      "text/plain": [
       "False"
      ]
     },
     "execution_count": 3,
     "metadata": {},
     "output_type": "execute_result"
    }
   ],
   "source": [
    "5==6"
   ]
  },
  {
   "cell_type": "code",
   "execution_count": 4,
   "metadata": {},
   "outputs": [
    {
     "data": {
      "text/plain": [
       "bool"
      ]
     },
     "execution_count": 4,
     "metadata": {},
     "output_type": "execute_result"
    }
   ],
   "source": [
    "#True and False are special values that belong to the class bool; they are not\n",
    "#strings\n",
    "\n",
    "type(True)\n",
    "\n",
    "#note the Capsloack"
   ]
  },
  {
   "cell_type": "code",
   "execution_count": 5,
   "metadata": {},
   "outputs": [
    {
     "data": {
      "text/plain": [
       "bool"
      ]
     },
     "execution_count": 5,
     "metadata": {},
     "output_type": "execute_result"
    }
   ],
   "source": [
    "type(False)"
   ]
  },
  {
   "cell_type": "code",
   "execution_count": null,
   "metadata": {},
   "outputs": [],
   "source": [
    "# == operator is one of the comparison operators\n",
    "\n",
    "\n",
    "x != y      #x is not equal to y\n",
    "x > y       #x is greater than y\n",
    "x < y       #x is lesser than y\n",
    "x >= y      #x is greater than or equal to y\n",
    "x <= y      #x is less than or equal to y\n",
    "x is y      # x is the same as y\n",
    "x is not y  # x is not the same as y\n",
    "\n",
    "#A common error\n",
    "#is to use a single equal sign (=) instead of a double equal sign (==)\n",
    "#= is an assignment operator and == is a comparison operator\n",
    "#no such thing as =< or =>\n",
    "\n"
   ]
  },
  {
   "cell_type": "code",
   "execution_count": null,
   "metadata": {},
   "outputs": [],
   "source": [
    "#Logical operators\n",
    "#three logical operators: and, or, and not\n",
    "\n",
    "x>0 and  x<10\n",
    "is true only if x is greater than 0 and less than 10\n",
    "\n",
    "n%2 == 0 or n%3 == 0\n",
    "is true if either of the condition is true, the number can be divisible by 2 or 3\n",
    "\n",
    "not operator negates a boolean expression, so not (x > y) is true if\n",
    "x > y is false\n",
    "\n"
   ]
  },
  {
   "cell_type": "code",
   "execution_count": 1,
   "metadata": {},
   "outputs": [
    {
     "name": "stdout",
     "output_type": "stream",
     "text": [
      "please enter value of x?8\n",
      "x is positive\n"
     ]
    }
   ],
   "source": [
    "#Conditional execution\n",
    "\n",
    "x = int(input(\"please enter value of x?\"))\n",
    "\n",
    "if x>0:\n",
    "    print(\"x is positive\")\n",
    "    \n",
    "#boolean expression after the if statement is called the condition\n",
    "#end the if statement with a colon character (:) and the \n",
    "#line(s) after the if statement are indented\n",
    "\n",
    "#logical condition is true, then the indented statement gets executed"
   ]
  },
  {
   "cell_type": "code",
   "execution_count": 3,
   "metadata": {},
   "outputs": [
    {
     "name": "stdout",
     "output_type": "stream",
     "text": [
      "please enter value of x?\n",
      "8\n",
      "x is positive\n"
     ]
    }
   ],
   "source": [
    "x = int(input(\"please enter value of x?\\n\"))\n",
    "\n",
    "if x>0:\n",
    "    print(\"x is positive\")\n",
    "    \n",
    "#boolean expression after the if statement is called the condition\n",
    "#end the if statement with a colon character (:) and the \n",
    "#line(s) after the if statement are indented\n",
    "\n",
    "#not Output as x = -99\n",
    "#logical condition is false, the indented statement is skipped\n"
   ]
  },
  {
   "cell_type": "code",
   "execution_count": null,
   "metadata": {},
   "outputs": [],
   "source": [
    "x = int(input(\"please enter value of x?\"))\n",
    "\n",
    "if x < 0:\n",
    "    pass # need to handle negative values\n"
   ]
  },
  {
   "cell_type": "code",
   "execution_count": null,
   "metadata": {},
   "outputs": [],
   "source": [
    "x = int(input(\"please enter value of x?\"))\n",
    "\n",
    "if x < 10:\n",
    "    print('small')"
   ]
  },
  {
   "cell_type": "code",
   "execution_count": 16,
   "metadata": {},
   "outputs": [
    {
     "name": "stdout",
     "output_type": "stream",
     "text": [
      "Please enter value of x?8\n",
      "x is even\n"
     ]
    }
   ],
   "source": [
    "#Alternative execution\n",
    "\n",
    "x = int(input(\"Please enter value of x?\"))\n",
    "\n",
    "if x%2 == 0:\n",
    "    print(\"x is even\")\n",
    "else:\n",
    "    print(\"x is odd\")\n",
    "    \n",
    "#condition must either be true or false, \n",
    "#exactly one of the alternatives will be executed\n",
    "\n",
    "#alternatives are called branches\n",
    "#because they are branches in the flow of execution"
   ]
  },
  {
   "cell_type": "code",
   "execution_count": 15,
   "metadata": {},
   "outputs": [
    {
     "name": "stdout",
     "output_type": "stream",
     "text": [
      "please enter value of x?6\n",
      "please enter value of y6\n",
      "x is equals to y\n",
      "enter choice: a ,b or c? b\n",
      "good guess\n"
     ]
    }
   ],
   "source": [
    "#Chained conditionals\n",
    "\n",
    "x = int(input('please enter value of x?'))\n",
    "y = int(input('please enter value of y?'))\n",
    "\n",
    "if x < y:\n",
    "    print('x is less than y')\n",
    "\n",
    "elif x > y:\n",
    "    print('x is greater than y')\n",
    "    \n",
    "else:\n",
    "    print('x is equals to y')\n",
    "    \n",
    "#Sometimes there are more than two possibilities \n",
    "#and we need more than two branches. \n",
    "#elif is an abbreviation of “else if\n",
    "\n",
    "#there is no limit to elif statements\n",
    "#the end will be 'else'\n",
    "\n",
    "choice = input(\"enter choice: a ,b or c? \")\n",
    "\n",
    "if choice == 'a':\n",
    "    print('bad guess')\n",
    "elif choice == 'b':\n",
    "    print('good guess')\n",
    "elif choice== 'c':\n",
    "    print('close, but not correct')\n",
    "    \n",
    "#Each condition is checked in order\n",
    "#f the first is false, the next is checked, and so\n",
    "#f one of them is true, the corresponding branch executes, and the statement ends\n",
    "#even if more than one condition is true, only the first true branch executes"
   ]
  },
  {
   "cell_type": "code",
   "execution_count": 3,
   "metadata": {},
   "outputs": [
    {
     "name": "stdout",
     "output_type": "stream",
     "text": [
      "Please input value of x ? \n",
      "7\n",
      "x is a postive single-digit number.\n",
      "\n",
      "please input value of y?\n",
      "8\n",
      "x is a positive single-digit number.\n"
     ]
    }
   ],
   "source": [
    "#Nested conditionals\n",
    "\n",
    "#One conditional can also be nested within another\n",
    "#nested conditionals become difficult to read very quick\n",
    "#avoid as much as possible\n",
    "\n",
    "x = int(input('Please input value of x ? \\n'))\n",
    "\n",
    "if x > 0:\n",
    "    if x < 10:\n",
    "        print('x is a postive single-digit number.')\n",
    "     \n",
    "print()\n",
    "#to give spacing\n",
    "\n",
    "#Nested conditionals: condition within the condition and only print \n",
    "#when meet both conditions\n",
    "\n",
    "y = int(input('please input value of y?\\n'))\n",
    "\n",
    "if y > 0 and y < 10:\n",
    "    print( 'x is a positive single-digit number.')\n",
    "    "
   ]
  },
  {
   "cell_type": "code",
   "execution_count": 6,
   "metadata": {},
   "outputs": [
    {
     "name": "stdout",
     "output_type": "stream",
     "text": [
      "what is the air velocity of an unladen sparrow?\n",
      "67\n",
      "air velocity =  67\n"
     ]
    }
   ],
   "source": [
    "#Catching exceptions using try and except\n",
    "\n",
    "prompt = \"what is the air velocity of an unladen sparrow?\\n\"\n",
    "#question\n",
    "speed = input(prompt)\n",
    "\n",
    "print(\"air velocity = \",int(speed))"
   ]
  },
  {
   "cell_type": "code",
   "execution_count": 8,
   "metadata": {},
   "outputs": [
    {
     "name": "stdout",
     "output_type": "stream",
     "text": [
      "Enter Fahrenheit Temperature: 67\n",
      "Celsius = 19.444444444444443\n"
     ]
    }
   ],
   "source": [
    "#convert a Fahrenheit temperature to a Celsius\n",
    "\n",
    "inp = input('Enter Fahrenheit Temperature: ')\n",
    "fahr = float(inp)\n",
    "\n",
    "cel = (fahr - 32.0) * 5.0/ 9.0\n",
    "\n",
    "print(\"Celsius =\", cel)"
   ]
  },
  {
   "cell_type": "code",
   "execution_count": 9,
   "metadata": {},
   "outputs": [
    {
     "name": "stdout",
     "output_type": "stream",
     "text": [
      "Enter Fahrenheit Temperature65\n",
      "18.333333333333332\n"
     ]
    }
   ],
   "source": [
    "#Catching exceptions using try and except\n",
    "#at some sequence of instruction(s) may have a problem \n",
    "#add some statements to be executed if an error occurs\n",
    "\n",
    "#enter number\n",
    "\n",
    "inp = input('Enter Fahrenheit Temperature')\n",
    "\n",
    "try:\n",
    "    fahr = float(inp)\n",
    "    cel = (fahr - 32.0)*5/9\n",
    "    print(cel)\n",
    "except:\n",
    "    print('Please enter a number')\n",
    "    "
   ]
  },
  {
   "cell_type": "code",
   "execution_count": 10,
   "metadata": {},
   "outputs": [
    {
     "name": "stdout",
     "output_type": "stream",
     "text": [
      "Enter Fahrenheit Temperatureword\n",
      "Please enter a number\n"
     ]
    }
   ],
   "source": [
    "#Catching exceptions using try and except\n",
    "#at some sequence of instruction(s) may have a problem \n",
    "#add some statements to be executed if an error occurs\n",
    "\n",
    "#enter word, will produce error\n",
    "\n",
    "inp = input('Enter Fahrenheit Temperature')\n",
    "try:\n",
    "    fahr = float(inp)\n",
    "    cel = (fahr - 32.0)*5/9\n",
    "    print(cel)\n",
    "except:\n",
    "    print('Please enter a number')\n",
    "    \n",
    "#except clause prints an error message\n",
    "#gives a chance to fix the problem"
   ]
  },
  {
   "cell_type": "code",
   "execution_count": 11,
   "metadata": {},
   "outputs": [
    {
     "data": {
      "text/plain": [
       "True"
      ]
     },
     "execution_count": 11,
     "metadata": {},
     "output_type": "execute_result"
    }
   ],
   "source": [
    "#Short-circuit evaluation of logical expressions\n",
    "#Python is processing a logical expression\n",
    "#x >= 2 and (x/y) > 2\n",
    "\n",
    "#if the first expression if False so so the whole expression is False\n",
    "#regardless whether the second expression is True or False\n",
    "\n",
    "#short-circuting the whole equation\n",
    "#regarding guardian pattern\n",
    "\n",
    "x = 6\n",
    "y = 2\n",
    "x > 2 and (x/y) > 2\n",
    "\n",
    "\n",
    "\n"
   ]
  },
  {
   "cell_type": "code",
   "execution_count": 12,
   "metadata": {},
   "outputs": [
    {
     "data": {
      "text/plain": [
       "False"
      ]
     },
     "execution_count": 12,
     "metadata": {},
     "output_type": "execute_result"
    }
   ],
   "source": [
    "x = 1\n",
    "y = 0\n",
    "x >= 2 and (x/y) > 2\n",
    "\n",
    "#e did not fail\n",
    "#first part of the expression x >= 2 evaluated to False\n",
    "#(x/y) was not ever executed due to the short-circuit rule and \n",
    "#there was no error"
   ]
  },
  {
   "cell_type": "code",
   "execution_count": 13,
   "metadata": {},
   "outputs": [
    {
     "ename": "ZeroDivisionError",
     "evalue": "division by zero",
     "output_type": "error",
     "traceback": [
      "\u001b[1;31m---------------------------------------------------------------------------\u001b[0m",
      "\u001b[1;31mZeroDivisionError\u001b[0m                         Traceback (most recent call last)",
      "\u001b[1;32m<ipython-input-13-c13ffeaa9f3e>\u001b[0m in \u001b[0;36m<module>\u001b[1;34m\u001b[0m\n\u001b[0;32m      1\u001b[0m \u001b[0mx\u001b[0m \u001b[1;33m=\u001b[0m \u001b[1;36m6\u001b[0m\u001b[1;33m\u001b[0m\u001b[1;33m\u001b[0m\u001b[0m\n\u001b[0;32m      2\u001b[0m \u001b[0my\u001b[0m \u001b[1;33m=\u001b[0m \u001b[1;36m0\u001b[0m\u001b[1;33m\u001b[0m\u001b[1;33m\u001b[0m\u001b[0m\n\u001b[1;32m----> 3\u001b[1;33m \u001b[0mx\u001b[0m \u001b[1;33m>=\u001b[0m \u001b[1;36m2\u001b[0m \u001b[1;32mand\u001b[0m \u001b[1;33m(\u001b[0m\u001b[0mx\u001b[0m\u001b[1;33m/\u001b[0m\u001b[0my\u001b[0m\u001b[1;33m)\u001b[0m \u001b[1;33m>\u001b[0m \u001b[1;36m2\u001b[0m\u001b[1;33m\u001b[0m\u001b[1;33m\u001b[0m\u001b[0m\n\u001b[0m\u001b[0;32m      4\u001b[0m \u001b[1;33m\u001b[0m\u001b[0m\n\u001b[0;32m      5\u001b[0m \u001b[1;31m# third calculation failed because Python was evaluating (x/y) and y was zero,\u001b[0m\u001b[1;33m\u001b[0m\u001b[1;33m\u001b[0m\u001b[1;33m\u001b[0m\u001b[0m\n",
      "\u001b[1;31mZeroDivisionError\u001b[0m: division by zero"
     ]
    }
   ],
   "source": [
    "x = 6\n",
    "y = 0\n",
    "x >= 2 and (x/y) > 2\n",
    "\n",
    "# third calculation failed because Python was evaluating (x/y) and y was zero,\n",
    "#which causes a runtime error"
   ]
  },
  {
   "cell_type": "code",
   "execution_count": 14,
   "metadata": {},
   "outputs": [
    {
     "data": {
      "text/plain": [
       "False"
      ]
     },
     "execution_count": 14,
     "metadata": {},
     "output_type": "execute_result"
    }
   ],
   "source": [
    "#guard evaluation\n",
    "\n",
    "x = 1\n",
    "y = 0\n",
    "x >= 2 and y != 0 and (x/y) > 2\n",
    "\n",
    "#first logical expression, x >= 2 is False so the evaluation stops at the and\n",
    "\n",
    "#FALSE"
   ]
  },
  {
   "cell_type": "code",
   "execution_count": 15,
   "metadata": {},
   "outputs": [
    {
     "data": {
      "text/plain": [
       "False"
      ]
     },
     "execution_count": 15,
     "metadata": {},
     "output_type": "execute_result"
    }
   ],
   "source": [
    "#guard evaluation to prevent error\n",
    "\n",
    "x = 6\n",
    "y = 0\n",
    "x >= 2 and y != 0 and (x/y) > 2\n",
    "\n",
    "#x >= 2 is True but y != 0 is False so we never reach (x/y)\n",
    "#y != 0 acts as a guard to insure only execute (x/y) if y is non-zero\n",
    "\n",
    "#FALSE"
   ]
  },
  {
   "cell_type": "code",
   "execution_count": 16,
   "metadata": {},
   "outputs": [
    {
     "ename": "ZeroDivisionError",
     "evalue": "division by zero",
     "output_type": "error",
     "traceback": [
      "\u001b[1;31m---------------------------------------------------------------------------\u001b[0m",
      "\u001b[1;31mZeroDivisionError\u001b[0m                         Traceback (most recent call last)",
      "\u001b[1;32m<ipython-input-16-07e8083fbc79>\u001b[0m in \u001b[0;36m<module>\u001b[1;34m\u001b[0m\n\u001b[0;32m      3\u001b[0m \u001b[0mx\u001b[0m \u001b[1;33m=\u001b[0m \u001b[1;36m6\u001b[0m\u001b[1;33m\u001b[0m\u001b[1;33m\u001b[0m\u001b[0m\n\u001b[0;32m      4\u001b[0m \u001b[0my\u001b[0m \u001b[1;33m=\u001b[0m \u001b[1;36m0\u001b[0m\u001b[1;33m\u001b[0m\u001b[1;33m\u001b[0m\u001b[0m\n\u001b[1;32m----> 5\u001b[1;33m \u001b[0mx\u001b[0m \u001b[1;33m>=\u001b[0m \u001b[1;36m2\u001b[0m  \u001b[1;32mand\u001b[0m \u001b[1;33m(\u001b[0m\u001b[0mx\u001b[0m\u001b[1;33m/\u001b[0m\u001b[0my\u001b[0m\u001b[1;33m)\u001b[0m \u001b[1;33m>\u001b[0m \u001b[1;36m2\u001b[0m \u001b[1;32mand\u001b[0m \u001b[0my\u001b[0m \u001b[1;33m!=\u001b[0m \u001b[1;36m0\u001b[0m\u001b[1;33m\u001b[0m\u001b[1;33m\u001b[0m\u001b[0m\n\u001b[0m\u001b[0;32m      6\u001b[0m \u001b[1;33m\u001b[0m\u001b[0m\n\u001b[0;32m      7\u001b[0m \u001b[1;31m#x >= 2 is True but y != 0 is False so we never reach (x/y)\u001b[0m\u001b[1;33m\u001b[0m\u001b[1;33m\u001b[0m\u001b[1;33m\u001b[0m\u001b[0m\n",
      "\u001b[1;31mZeroDivisionError\u001b[0m: division by zero"
     ]
    }
   ],
   "source": [
    "#guard evaluation\n",
    "\n",
    "x = 6\n",
    "y = 0\n",
    "x >= 2  and (x/y) > 2 and y != 0\n",
    "\n",
    "#x >= 2 is True but y != 0 is False so we never reach (x/y)\n",
    "# y != 0 is after the (x/y) calculation so the expression fails with an error.\n",
    "\n",
    "#ERROR"
   ]
  },
  {
   "cell_type": "code",
   "execution_count": 17,
   "metadata": {},
   "outputs": [
    {
     "name": "stdout",
     "output_type": "stream",
     "text": [
      "Please enter hours? \n",
      "45\n",
      "Please enter rate\n",
      "10\n",
      "Pay: 475.0\n"
     ]
    }
   ],
   "source": [
    "#Exercise 1: Rewrite your pay computation to give the employee 1.5\n",
    "#times the hourly rate for hours worked above 40 hours.\n",
    "\n",
    "hrs = int(input('Please enter hours? \\n'))\n",
    "rate = int(input('Please enter rate\\n'))\n",
    "\n",
    "rate = 10\n",
    "new_rate = rate * 1.5\n",
    "\n",
    "if hrs > 40:\n",
    "    print('Pay:', 40*rate + (new_rate*(hrs - 40)))\n",
    "else:\n",
    "    print('Pay:', hrs*rate)\n",
    "    \n"
   ]
  },
  {
   "cell_type": "code",
   "execution_count": 2,
   "metadata": {},
   "outputs": [
    {
     "name": "stdout",
     "output_type": "stream",
     "text": [
      "Please enter hours? \n",
      "45\n",
      "Please enter rate\n",
      "10\n",
      "Pay: 475.0\n"
     ]
    }
   ],
   "source": [
    "#Exercise 2: Rewrite your pay program using try and except so that your\n",
    "#program handles non-numeric input gracefully by printing a message\n",
    "#and exiting the program. The following shows two executions of the\n",
    "#program:\n",
    "\n",
    "\n",
    "try:\n",
    "    hrs = int(input('Please enter hours? \\n'))\n",
    "    rate1 = int(input('Please enter rate\\n'))\n",
    "except:\n",
    "    print('Error, please enter numeric input')\n",
    "    \n",
    "    \n",
    "if hrs > 40:\n",
    "        print('Pay:', 40*rate1 + (1.5*rate1*(hrs - 40)))\n",
    "else:\n",
    "    print('Pay:', hrs*rate1)"
   ]
  },
  {
   "cell_type": "code",
   "execution_count": 1,
   "metadata": {},
   "outputs": [
    {
     "name": "stdout",
     "output_type": "stream",
     "text": [
      "Enter score:0.75\n",
      "C\n"
     ]
    }
   ],
   "source": [
    "#Exercise 3: Write a program to prompt for a score between 0.0 and\n",
    "#1.0. If the score is out of range, print an error message. If the score is\n",
    "#between 0.0 and 1.0, print a grade using the following table:\n",
    "\n",
    "inp = (input('Enter score:'))\n",
    "\n",
    "score = float(inp)\n",
    "\n",
    "try:\n",
    "    if score >1.0 or score<0:\n",
    "        print('Bad Score')\n",
    "    elif score >= 0.9:\n",
    "        print(\"A\")\n",
    "    elif score >= 0.8:\n",
    "        print(\"B\")  \n",
    "    elif score >= 0.7:\n",
    "        print(\"C\")\n",
    "    elif score >= 0.6:\n",
    "        print(\"D\")\n",
    "    else:\n",
    "        print(\"F\")\n",
    "\n",
    "except:\n",
    "    print('Bad Score')\n"
   ]
  },
  {
   "cell_type": "code",
   "execution_count": null,
   "metadata": {},
   "outputs": [],
   "source": []
  }
 ],
 "metadata": {
  "kernelspec": {
   "display_name": "Python 3",
   "language": "python",
   "name": "python3"
  },
  "language_info": {
   "codemirror_mode": {
    "name": "ipython",
    "version": 3
   },
   "file_extension": ".py",
   "mimetype": "text/x-python",
   "name": "python",
   "nbconvert_exporter": "python",
   "pygments_lexer": "ipython3",
   "version": "3.7.6"
  }
 },
 "nbformat": 4,
 "nbformat_minor": 4
}
