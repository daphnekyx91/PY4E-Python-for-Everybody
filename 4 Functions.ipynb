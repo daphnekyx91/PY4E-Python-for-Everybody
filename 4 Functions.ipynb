{
 "cells": [
  {
   "cell_type": "code",
   "execution_count": 3,
   "metadata": {},
   "outputs": [
    {
     "data": {
      "text/plain": [
       "int"
      ]
     },
     "execution_count": 3,
     "metadata": {},
     "output_type": "execute_result"
    }
   ],
   "source": [
    "#function is named sequence of statements that performs a computation\n",
    "#Example of function call\n",
    "\n",
    "type(32)\n",
    "\n",
    "#this function is called [type]\n",
    "\n",
    "# function “takes” an argument and “returns” a result\n",
    "#result is called the return value"
   ]
  },
  {
   "cell_type": "code",
   "execution_count": 4,
   "metadata": {},
   "outputs": [
    {
     "data": {
      "text/plain": [
       "'w'"
      ]
     },
     "execution_count": 4,
     "metadata": {},
     "output_type": "execute_result"
    }
   ],
   "source": [
    "#Built-in functions\n",
    "#there are man built in functions\n",
    "\n",
    "#e.g max and min functions give us the largest and smallest values in a list\n",
    "max('hello world')\n",
    "\n",
    "#max function tells us the “largest character” in the string==> w"
   ]
  },
  {
   "cell_type": "code",
   "execution_count": 5,
   "metadata": {},
   "outputs": [
    {
     "data": {
      "text/plain": [
       "' '"
      ]
     },
     "execution_count": 5,
     "metadata": {},
     "output_type": "execute_result"
    }
   ],
   "source": [
    "min('hello world')\n",
    "\n",
    "#min function shows us the smallest character ==> [space]"
   ]
  },
  {
   "cell_type": "code",
   "execution_count": 6,
   "metadata": {},
   "outputs": [
    {
     "data": {
      "text/plain": [
       "11"
      ]
     },
     "execution_count": 6,
     "metadata": {},
     "output_type": "execute_result"
    }
   ],
   "source": [
    "#len function\n",
    "\n",
    "len('Hello world')\n",
    "\n",
    "#length of characters in the string"
   ]
  },
  {
   "cell_type": "code",
   "execution_count": 9,
   "metadata": {},
   "outputs": [
    {
     "data": {
      "text/plain": [
       "32"
      ]
     },
     "execution_count": 9,
     "metadata": {},
     "output_type": "execute_result"
    }
   ],
   "source": [
    "#int function takes any value and converts it to an integer\n",
    "#or complains otherwise\n",
    "\n",
    "int('32')"
   ]
  },
  {
   "cell_type": "code",
   "execution_count": 10,
   "metadata": {},
   "outputs": [
    {
     "ename": "ValueError",
     "evalue": "invalid literal for int() with base 10: 'hello'",
     "output_type": "error",
     "traceback": [
      "\u001b[1;31m---------------------------------------------------------------------------\u001b[0m",
      "\u001b[1;31mValueError\u001b[0m                                Traceback (most recent call last)",
      "\u001b[1;32m<ipython-input-10-1e0cfe654e81>\u001b[0m in \u001b[0;36m<module>\u001b[1;34m\u001b[0m\n\u001b[1;32m----> 1\u001b[1;33m \u001b[0mint\u001b[0m\u001b[1;33m(\u001b[0m\u001b[1;34m'hello'\u001b[0m\u001b[1;33m)\u001b[0m\u001b[1;33m\u001b[0m\u001b[1;33m\u001b[0m\u001b[0m\n\u001b[0m",
      "\u001b[1;31mValueError\u001b[0m: invalid literal for int() with base 10: 'hello'"
     ]
    }
   ],
   "source": [
    "int('hello')\n",
    "\n",
    "#Error because nth to integer"
   ]
  },
  {
   "cell_type": "code",
   "execution_count": 11,
   "metadata": {},
   "outputs": [
    {
     "data": {
      "text/plain": [
       "-2"
      ]
     },
     "execution_count": 11,
     "metadata": {},
     "output_type": "execute_result"
    }
   ],
   "source": [
    "int(-2.333)\n",
    "\n",
    "#chop off the fraction part"
   ]
  },
  {
   "cell_type": "code",
   "execution_count": 12,
   "metadata": {},
   "outputs": [
    {
     "data": {
      "text/plain": [
       "32.0"
      ]
     },
     "execution_count": 12,
     "metadata": {},
     "output_type": "execute_result"
    }
   ],
   "source": [
    "#float\n",
    "#converts integers to floating-point numbers:\n",
    "float(32)"
   ]
  },
  {
   "cell_type": "code",
   "execution_count": 1,
   "metadata": {},
   "outputs": [
    {
     "data": {
      "text/plain": [
       "3.15324"
      ]
     },
     "execution_count": 1,
     "metadata": {},
     "output_type": "execute_result"
    }
   ],
   "source": [
    "#converts strings to floating-point numbers:\n",
    "\n",
    "float('3.15324')"
   ]
  },
  {
   "cell_type": "code",
   "execution_count": 14,
   "metadata": {},
   "outputs": [
    {
     "data": {
      "text/plain": [
       "'32'"
      ]
     },
     "execution_count": 14,
     "metadata": {},
     "output_type": "execute_result"
    }
   ],
   "source": [
    "#Str converts its argument into a string\n",
    "\n",
    "str(32)"
   ]
  },
  {
   "cell_type": "code",
   "execution_count": 15,
   "metadata": {},
   "outputs": [
    {
     "data": {
      "text/plain": [
       "'3.14159'"
      ]
     },
     "execution_count": 15,
     "metadata": {},
     "output_type": "execute_result"
    }
   ],
   "source": [
    "str(3.14159)"
   ]
  },
  {
   "cell_type": "code",
   "execution_count": 16,
   "metadata": {},
   "outputs": [
    {
     "name": "stdout",
     "output_type": "stream",
     "text": [
      "<module 'math' (built-in)>\n"
     ]
    }
   ],
   "source": [
    "#Math function\n",
    "\n",
    "import math\n",
    "print(math)\n",
    "\n",
    "#creates a module object named math"
   ]
  },
  {
   "cell_type": "code",
   "execution_count": null,
   "metadata": {},
   "outputs": [],
   "source": [
    "#module object contains the functions and variables defined in the model\n",
    "#have to specify the name of module, number of fuction, separate by (.)\n",
    "\n",
    "ratio = signal_power/ noise_power\n",
    "decibels = 10* math.log10(ratio)\n",
    "\n",
    "# math.log10 = module object\n",
    "# computes the logarithm base 10 of the signal-to-noise ratio\n",
    "\n",
    "radians = 0.7\n",
    "height = math.sin (radians)\n",
    "\n",
    "# math.sin\n",
    "#trigonometric functions (cos, tan, etc.)\n"
   ]
  },
  {
   "cell_type": "code",
   "execution_count": 4,
   "metadata": {},
   "outputs": [
    {
     "name": "stdout",
     "output_type": "stream",
     "text": [
      "<module 'math' (built-in)>\n"
     ]
    },
    {
     "data": {
      "text/plain": [
       "0.7071067811865476"
      ]
     },
     "execution_count": 4,
     "metadata": {},
     "output_type": "execute_result"
    }
   ],
   "source": [
    "#Another math package\n",
    "\n",
    "import math\n",
    "print(math)\n",
    "#must makesure the math package is inserted\n",
    "\n",
    "#expression math.pi gets the variable pi\n",
    "# variable is an approximation of π, accurate to about 15 digits\n",
    "\n",
    "degrees = 45\n",
    "\n",
    "radians = degrees / 360.0 * 2 * math.pi\n",
    "\n",
    "math.sin(radians)\n",
    "\n"
   ]
  },
  {
   "cell_type": "code",
   "execution_count": 5,
   "metadata": {},
   "outputs": [
    {
     "name": "stdout",
     "output_type": "stream",
     "text": [
      "<module 'math' (built-in)>\n"
     ]
    },
    {
     "data": {
      "text/plain": [
       "0.7071067811865476"
      ]
     },
     "execution_count": 5,
     "metadata": {},
     "output_type": "execute_result"
    }
   ],
   "source": [
    "#checking\n",
    "\n",
    "import math\n",
    "print(math)\n",
    "\n",
    "math.sqrt(2) / (2.0)"
   ]
  },
  {
   "cell_type": "code",
   "execution_count": 7,
   "metadata": {},
   "outputs": [
    {
     "name": "stdout",
     "output_type": "stream",
     "text": [
      "0.08781279860859525\n",
      "0.95237048901409\n",
      "0.6172103365188962\n",
      "0.5523529579266717\n",
      "0.2989788258024161\n",
      "0.46207770921285884\n",
      "0.48388059590562194\n",
      "0.2604875552037945\n",
      "0.4541564117202266\n"
     ]
    }
   ],
   "source": [
    "#Random numbesr\n",
    "\n",
    "#most computer generate the same output everytime ==> deterministic\n",
    "\n",
    "#want computer to be unpredictable\n",
    "#make nondeterministic, use algorithms to generate pseudorandom\n",
    "\n",
    "#random module provides functions that generate pseudorandom numbers\n",
    "\n",
    "#Import random module first\n",
    "import random\n",
    "\n",
    "#random returns a random float between 0.0 and 1.0(includes 0 & 1)\n",
    "\n",
    "for i in range(1,10):\n",
    "    x = random.random()\n",
    "    print(x)\n",
    "\n",
    "#random.random ==> (random module).(random function)"
   ]
  },
  {
   "cell_type": "code",
   "execution_count": 9,
   "metadata": {},
   "outputs": [
    {
     "data": {
      "text/plain": [
       "7"
      ]
     },
     "execution_count": 9,
     "metadata": {},
     "output_type": "execute_result"
    }
   ],
   "source": [
    "#Exercise 1: Run the program on your system and see what numbers\n",
    "#you get. Run the program more than once and see what numbers you\n",
    "#get.\n",
    "\n",
    "import random\n",
    "\n",
    "random. randint(5,10)"
   ]
  },
  {
   "cell_type": "code",
   "execution_count": 10,
   "metadata": {},
   "outputs": [
    {
     "data": {
      "text/plain": [
       "1"
      ]
     },
     "execution_count": 10,
     "metadata": {},
     "output_type": "execute_result"
    }
   ],
   "source": [
    "import random\n",
    "\n",
    "t = [ 1,2,4]\n",
    "\n",
    "random.choice(t)"
   ]
  },
  {
   "cell_type": "code",
   "execution_count": 11,
   "metadata": {},
   "outputs": [],
   "source": [
    "#Adding new functions\n",
    "\n",
    "#function definition specifies the name of a new\n",
    "#function and the sequence of statements that execute when the function is called\n",
    "\n",
    "def print_lyrics():\n",
    "    print(\"I'm a lumberjack, and I'm okay\")\n",
    "    print('I sleep all night and I work all day.')\n"
   ]
  },
  {
   "cell_type": "code",
   "execution_count": 12,
   "metadata": {},
   "outputs": [
    {
     "name": "stdout",
     "output_type": "stream",
     "text": [
      "I'm a lumberjack, and I'm okay\n",
      "I sleep all night and I work all day.\n"
     ]
    }
   ],
   "source": [
    "print_lyrics()\n",
    "\n",
    "#value of print_lyrics is a function object, which has type “function”"
   ]
  },
  {
   "cell_type": "code",
   "execution_count": 14,
   "metadata": {},
   "outputs": [
    {
     "name": "stdout",
     "output_type": "stream",
     "text": [
      "<function print_lyrics at 0x000001C879B3ED38>\n"
     ]
    }
   ],
   "source": [
    "print(print_lyrics)"
   ]
  },
  {
   "cell_type": "code",
   "execution_count": 15,
   "metadata": {},
   "outputs": [
    {
     "name": "stdout",
     "output_type": "stream",
     "text": [
      "<class 'function'>\n"
     ]
    }
   ],
   "source": [
    "print(type(print_lyrics))\n",
    "\n",
    "#value of print_lyrics is a function object, which has type “function”\n"
   ]
  },
  {
   "cell_type": "code",
   "execution_count": 17,
   "metadata": {},
   "outputs": [
    {
     "name": "stdout",
     "output_type": "stream",
     "text": [
      "I'm a lumberjack, and I'm okay\n",
      "I sleep all night and I work all day.\n",
      "I'm a lumberjack, and I'm okay\n",
      "I sleep all night and I work all day.\n"
     ]
    }
   ],
   "source": [
    "def repeat_lyrics():\n",
    "    print_lyrics()\n",
    "    print_lyrics()\n",
    "\n",
    "repeat_lyrics()"
   ]
  },
  {
   "cell_type": "code",
   "execution_count": 18,
   "metadata": {},
   "outputs": [
    {
     "name": "stdout",
     "output_type": "stream",
     "text": [
      "I'm a lumberjack, and I'm okay\n",
      "I sleep all night and I work all day.\n",
      "I'm a lumberjack, and I'm okay\n",
      "I sleep all night and I work all day.\n"
     ]
    }
   ],
   "source": [
    "#definitions and uses\n",
    "\n",
    "def print_lyrics():\n",
    "    print(\"I'm a lumberjack, and I'm okay\")\n",
    "    print('I sleep all night and I work all day.')\n",
    "    \n",
    "def repeat_lyrics():\n",
    "    print_lyrics()\n",
    "    print_lyrics()\n",
    "\n",
    "#you have to create a function before you can execute it\n",
    "#def function to create the new function\n",
    "\n",
    "repeat_lyrics()\n",
    "\n",
    "#this is the full program"
   ]
  },
  {
   "cell_type": "code",
   "execution_count": 23,
   "metadata": {},
   "outputs": [
    {
     "ename": "NameError",
     "evalue": "name 'repeat_lyrics1' is not defined",
     "output_type": "error",
     "traceback": [
      "\u001b[1;31m---------------------------------------------------------------------------\u001b[0m",
      "\u001b[1;31mNameError\u001b[0m                                 Traceback (most recent call last)",
      "\u001b[1;32m<ipython-input-23-0ddc6126e18f>\u001b[0m in \u001b[0;36m<module>\u001b[1;34m\u001b[0m\n\u001b[0;32m      3\u001b[0m \u001b[1;31m#message you get.\u001b[0m\u001b[1;33m\u001b[0m\u001b[1;33m\u001b[0m\u001b[1;33m\u001b[0m\u001b[0m\n\u001b[0;32m      4\u001b[0m \u001b[1;33m\u001b[0m\u001b[0m\n\u001b[1;32m----> 5\u001b[1;33m \u001b[0mrepeat_lyrics1\u001b[0m\u001b[1;33m(\u001b[0m\u001b[1;33m)\u001b[0m\u001b[1;33m\u001b[0m\u001b[1;33m\u001b[0m\u001b[0m\n\u001b[0m\u001b[0;32m      6\u001b[0m \u001b[1;33m\u001b[0m\u001b[0m\n\u001b[0;32m      7\u001b[0m \u001b[1;32mdef\u001b[0m \u001b[0mprint_lyrics1\u001b[0m\u001b[1;33m(\u001b[0m\u001b[1;33m)\u001b[0m\u001b[1;33m:\u001b[0m\u001b[1;33m\u001b[0m\u001b[1;33m\u001b[0m\u001b[0m\n",
      "\u001b[1;31mNameError\u001b[0m: name 'repeat_lyrics1' is not defined"
     ]
    }
   ],
   "source": [
    "#Exercise 2: Move the last line of this program to the top, so the function\n",
    "#call appears before the definitions. Run the program and see what error\n",
    "#message you get.\n",
    "\n",
    "repeat_lyrics1()\n",
    "\n",
    "def print_lyrics1():\n",
    "    print(\"I'm a lumberjack, and I'm okay\")\n",
    "    print('I sleep all night and I work all day.')\n",
    "    \n",
    "def repeat_lyrics1():\n",
    "    print_lyrics()\n",
    "    print_lyrics()\n",
    "\n",
    "\n",
    "#NO output"
   ]
  },
  {
   "cell_type": "code",
   "execution_count": 24,
   "metadata": {},
   "outputs": [
    {
     "name": "stdout",
     "output_type": "stream",
     "text": [
      "I'm a lumberjack, and I'm okay\n",
      "I sleep all night and I work all day.\n",
      "I'm a lumberjack, and I'm okay\n",
      "I sleep all night and I work all day.\n"
     ]
    }
   ],
   "source": [
    "#Exercise 3: Move the function call back to the bottom and move the\n",
    "#definition of print_lyrics after the definition of repeat_lyrics. What\n",
    "#happens when you run this program?\n",
    "\n",
    "def repeat_lyrics2():\n",
    "    print_lyrics()\n",
    "    print_lyrics()\n",
    "\n",
    "def print_lyrics2():\n",
    "    print(\"I'm a lumberjack, and I'm okay\")\n",
    "    print('I sleep all night and I work all day.')\n",
    "\n",
    "#def order can alternate\n",
    "\n",
    "repeat_lyrics2()\n",
    "\n",
    "#excution function must be last"
   ]
  },
  {
   "cell_type": "code",
   "execution_count": null,
   "metadata": {},
   "outputs": [],
   "source": [
    "#flow of execution\n",
    "#from top to bottom\n",
    "#Function definitionsdo not alter the flow of execution of the program\n",
    "# statements inside the function are not executed until the function is called\n",
    "#def of function before calling function"
   ]
  },
  {
   "cell_type": "code",
   "execution_count": 29,
   "metadata": {},
   "outputs": [
    {
     "ename": "NameError",
     "evalue": "name 'bruce' is not defined",
     "output_type": "error",
     "traceback": [
      "\u001b[1;31m---------------------------------------------------------------------------\u001b[0m",
      "\u001b[1;31mNameError\u001b[0m                                 Traceback (most recent call last)",
      "\u001b[1;32m<ipython-input-29-ae6366005bac>\u001b[0m in \u001b[0;36m<module>\u001b[1;34m\u001b[0m\n\u001b[0;32m      5\u001b[0m     \u001b[0mprint\u001b[0m\u001b[1;33m(\u001b[0m\u001b[0mbruce\u001b[0m\u001b[1;33m)\u001b[0m\u001b[1;33m\u001b[0m\u001b[1;33m\u001b[0m\u001b[0m\n\u001b[0;32m      6\u001b[0m \u001b[1;33m\u001b[0m\u001b[0m\n\u001b[1;32m----> 7\u001b[1;33m \u001b[0mprint_twice\u001b[0m\u001b[1;33m(\u001b[0m\u001b[0mbruce\u001b[0m\u001b[1;33m)\u001b[0m\u001b[1;33m\u001b[0m\u001b[1;33m\u001b[0m\u001b[0m\n\u001b[0m",
      "\u001b[1;31mNameError\u001b[0m: name 'bruce' is not defined"
     ]
    }
   ],
   "source": [
    "#user-defined function that takes an argument\n",
    "\n",
    "def print_twice(bruce):\n",
    "    print(bruce)\n",
    "    print(bruce)\n",
    "\n",
    "print_twice(bruce)\n",
    "\n",
    "#bruce needs to be assigned a value"
   ]
  },
  {
   "cell_type": "code",
   "execution_count": 30,
   "metadata": {},
   "outputs": [
    {
     "name": "stdout",
     "output_type": "stream",
     "text": [
      "Spam\n",
      "Spam\n"
     ]
    }
   ],
   "source": [
    "print_twice('Spam')"
   ]
  },
  {
   "cell_type": "code",
   "execution_count": 31,
   "metadata": {},
   "outputs": [
    {
     "name": "stdout",
     "output_type": "stream",
     "text": [
      "17\n",
      "17\n"
     ]
    }
   ],
   "source": [
    "print_twice(17)"
   ]
  },
  {
   "cell_type": "code",
   "execution_count": 32,
   "metadata": {},
   "outputs": [
    {
     "name": "stdout",
     "output_type": "stream",
     "text": [
      "3.141592653589793\n",
      "3.141592653589793\n"
     ]
    }
   ],
   "source": [
    "print_twice(math.pi)"
   ]
  },
  {
   "cell_type": "code",
   "execution_count": 36,
   "metadata": {},
   "outputs": [
    {
     "name": "stdout",
     "output_type": "stream",
     "text": [
      "Spam Spam Spam Spam \n",
      "Spam Spam Spam Spam \n",
      "\n",
      "-1.0\n",
      "-1.0\n"
     ]
    }
   ],
   "source": [
    "print_twice('Spam '*4)\n",
    "\n",
    "print()\n",
    "\n",
    "print_twice(math.cos(math.pi))"
   ]
  },
  {
   "cell_type": "code",
   "execution_count": 37,
   "metadata": {},
   "outputs": [
    {
     "name": "stdout",
     "output_type": "stream",
     "text": [
      "Eric, the half a bee\n",
      "Eric, the half a bee\n"
     ]
    }
   ],
   "source": [
    "# argument is evaluated before the function is called\n",
    "\n",
    "michael = 'Eric, the half a bee'\n",
    "\n",
    "print_twice(michael)"
   ]
  },
  {
   "cell_type": "code",
   "execution_count": 33,
   "metadata": {},
   "outputs": [
    {
     "name": "stdout",
     "output_type": "stream",
     "text": [
      "<module 'math' (built-in)>\n"
     ]
    },
    {
     "data": {
      "text/plain": [
       "2.23606797749979"
      ]
     },
     "execution_count": 33,
     "metadata": {},
     "output_type": "execute_result"
    }
   ],
   "source": [
    "#Fruitful functions\n",
    "#do calculationm, yield results\n",
    "#need to store result/value or assign variable to result/value\n",
    "\n",
    "import math\n",
    "print(math)\n",
    "\n",
    "x = math.cos(radians)\n",
    "golden = (math.sqrt(5) + 1) / 2\n",
    "\n",
    "math.sqrt(5)\n",
    "\n"
   ]
  },
  {
   "cell_type": "code",
   "execution_count": 38,
   "metadata": {},
   "outputs": [
    {
     "name": "stdout",
     "output_type": "stream",
     "text": [
      "Bing\n",
      "Bing\n",
      "\n",
      "None\n"
     ]
    }
   ],
   "source": [
    "#Void function\n",
    "# perform an action but don’t return a value\n",
    "\n",
    "result = print_twice('Bing')\n",
    "\n",
    "print()\n",
    "\n",
    "print(result)\n",
    "#None because this a void function, no return value"
   ]
  },
  {
   "cell_type": "code",
   "execution_count": 39,
   "metadata": {},
   "outputs": [
    {
     "name": "stdout",
     "output_type": "stream",
     "text": [
      "8\n"
     ]
    }
   ],
   "source": [
    "def addtwo(a,b):\n",
    "    added = a + b\n",
    "    return added\n",
    "\n",
    "x = addtwo (3,5)\n",
    "print(x)\n",
    "\n",
    "#print statement will print out “8”\n",
    "#addtwo function was called with 3 and 5 as arguments\n",
    "\n",
    "#The function computed the sum of\n",
    "#the two numbers and placed it in the local function variable named added\n",
    "#return statement to send the computed value back to the calling code"
   ]
  },
  {
   "cell_type": "code",
   "execution_count": 55,
   "metadata": {},
   "outputs": [
    {
     "name": "stdout",
     "output_type": "stream",
     "text": [
      "35\n"
     ]
    }
   ],
   "source": [
    "def multiply (a, c):\n",
    "    final = a * c\n",
    "    return final\n",
    "\n",
    "a = 5\n",
    "\n",
    "c = 7\n",
    "\n",
    "x = multiply ( 5, 7)\n",
    "\n",
    "print(x)"
   ]
  },
  {
   "cell_type": "code",
   "execution_count": 57,
   "metadata": {},
   "outputs": [
    {
     "name": "stdout",
     "output_type": "stream",
     "text": [
      "please provide value of a? 2\n",
      "please provide value of c? 3\n",
      "6\n"
     ]
    }
   ],
   "source": [
    "def multiply (a, c):\n",
    "    final = a * c\n",
    "    return final\n",
    "\n",
    "prompt1 = int(input('please provide value of a? '))\n",
    "\n",
    "prompt2 = int(input('please provide value of c? '))\n",
    "\n",
    "x = multiply ( prompt1, prompt2)\n",
    "\n",
    "print(x)\n"
   ]
  },
  {
   "cell_type": "code",
   "execution_count": null,
   "metadata": {},
   "outputs": [],
   "source": [
    "#Exercise 4: What is the purpose of the “def” keyword in Python?\n",
    "\n",
    "b) It indicates the start of a function\n",
    "c) It indicates that the following indented section of code is to be stored for later"
   ]
  },
  {
   "cell_type": "code",
   "execution_count": 58,
   "metadata": {},
   "outputs": [
    {
     "name": "stdout",
     "output_type": "stream",
     "text": [
      "ABC\n",
      "Zap\n",
      "ABC\n"
     ]
    }
   ],
   "source": [
    "#Exercise 5: What will the following Python program print out?\n",
    "\n",
    "def fred():\n",
    "    print('Zap')\n",
    "\n",
    "def jane():\n",
    "    print('ABC')\n",
    "    \n",
    "jane()\n",
    "fred()\n",
    "jane()\n",
    "\n",
    "# d) ABC Zap ABC "
   ]
  },
  {
   "cell_type": "code",
   "execution_count": 80,
   "metadata": {},
   "outputs": [
    {
     "name": "stdout",
     "output_type": "stream",
     "text": [
      "Enter hours:45\n",
      "Enter rate:10\n",
      "Pay: 475.0\n"
     ]
    }
   ],
   "source": [
    "#Exercise 6: Rewrite your pay computation with \n",
    "#time-and-a-half for overtime and create a function \n",
    "#called computepay which takes two parameters\n",
    "#(hours and rate).\n",
    "\n",
    "try:\n",
    "    c = int(input('Enter hours:'))\n",
    "    d = int(input('Enter rate:'))\n",
    "    \n",
    "except: \n",
    "    print ('Error, please enter numeric input')\n",
    "\n",
    "def computepay(a, b):\n",
    "           if a > 40:\n",
    "               pay = 40* b + (a-40)*b*1.5\n",
    "               return pay\n",
    "           else:\n",
    "               pay = a * b\n",
    "               return pay\n",
    "          \n",
    "x = computepay(c, d)\n",
    "\n",
    "print(\"Pay:\", x)\n",
    "              "
   ]
  },
  {
   "cell_type": "code",
   "execution_count": 89,
   "metadata": {},
   "outputs": [
    {
     "name": "stdout",
     "output_type": "stream",
     "text": [
      "Enter score:4\n",
      "Bad score\n"
     ]
    }
   ],
   "source": [
    "inp = input('Enter score:')\n",
    "\n",
    "try:\n",
    "    score = float(inp)\n",
    "    \n",
    "except: \n",
    "    print (\"Bad score\")\n",
    "    \n",
    "def computergrade(g):\n",
    "    if g< 0 or g>1:\n",
    "        return \"Bad score\"\n",
    "    elif g >= 0.9:\n",
    "        return \"A\"\n",
    "    elif g >= 0.8:\n",
    "        return \"B\"\n",
    "    elif g >= 0.7:\n",
    "        return \"C\"\n",
    "    elif g >= 0.6:\n",
    "        return \"D\"\n",
    "    else:\n",
    "        return\"F\"\n",
    "    \n",
    "\n",
    "y = computergrade(score)\n",
    "\n",
    "print(y)\n",
    "\n"
   ]
  },
  {
   "cell_type": "code",
   "execution_count": 2,
   "metadata": {},
   "outputs": [
    {
     "name": "stdout",
     "output_type": "stream",
     "text": [
      ">8\n",
      "8\n",
      ">done\n",
      "done!\n"
     ]
    }
   ],
   "source": [
    "while True:\n",
    "    line = input('>')\n",
    "    if line[0] == '#':\n",
    "        continue\n",
    "    elif line ==\"done\":\n",
    "        break\n",
    "    print(line)\n",
    "\n",
    "print(\"done!\")"
   ]
  },
  {
   "cell_type": "code",
   "execution_count": null,
   "metadata": {},
   "outputs": [],
   "source": []
  }
 ],
 "metadata": {
  "kernelspec": {
   "display_name": "Python 3",
   "language": "python",
   "name": "python3"
  },
  "language_info": {
   "codemirror_mode": {
    "name": "ipython",
    "version": 3
   },
   "file_extension": ".py",
   "mimetype": "text/x-python",
   "name": "python",
   "nbconvert_exporter": "python",
   "pygments_lexer": "ipython3",
   "version": "3.7.6"
  }
 },
 "nbformat": 4,
 "nbformat_minor": 4
}
