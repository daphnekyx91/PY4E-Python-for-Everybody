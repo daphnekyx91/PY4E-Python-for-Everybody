{
 "cells": [
  {
   "cell_type": "code",
   "execution_count": 1,
   "metadata": {},
   "outputs": [
    {
     "ename": "NameError",
     "evalue": "name 'x' is not defined",
     "output_type": "error",
     "traceback": [
      "\u001b[1;31m---------------------------------------------------------------------------\u001b[0m",
      "\u001b[1;31mNameError\u001b[0m                                 Traceback (most recent call last)",
      "\u001b[1;32m<ipython-input-1-62c369284862>\u001b[0m in \u001b[0;36m<module>\u001b[1;34m\u001b[0m\n\u001b[0;32m      1\u001b[0m \u001b[1;31m#Updating variables\u001b[0m\u001b[1;33m\u001b[0m\u001b[1;33m\u001b[0m\u001b[1;33m\u001b[0m\u001b[0m\n\u001b[0;32m      2\u001b[0m \u001b[1;33m\u001b[0m\u001b[0m\n\u001b[1;32m----> 3\u001b[1;33m \u001b[0mx\u001b[0m \u001b[1;33m=\u001b[0m \u001b[0mx\u001b[0m \u001b[1;33m+\u001b[0m \u001b[1;36m1\u001b[0m\u001b[1;33m\u001b[0m\u001b[1;33m\u001b[0m\u001b[0m\n\u001b[0m\u001b[0;32m      4\u001b[0m \u001b[1;33m\u001b[0m\u001b[0m\n\u001b[0;32m      5\u001b[0m \u001b[1;31m#new value of x = old x + 1\u001b[0m\u001b[1;33m\u001b[0m\u001b[1;33m\u001b[0m\u001b[1;33m\u001b[0m\u001b[0m\n",
      "\u001b[1;31mNameError\u001b[0m: name 'x' is not defined"
     ]
    }
   ],
   "source": [
    "#Updating variables\n",
    "\n",
    "x = x + 1\n",
    "\n",
    "#new value of x = old x + 1\n",
    "\n",
    "#Need to assign value of x, if not error"
   ]
  },
  {
   "cell_type": "code",
   "execution_count": 4,
   "metadata": {},
   "outputs": [
    {
     "name": "stdout",
     "output_type": "stream",
     "text": [
      "1\n"
     ]
    }
   ],
   "source": [
    "x = 0 #assign value to x\n",
    "x = x + 1\n",
    "\n",
    "print(x)\n",
    "\n",
    "#adding 1 is called an increment\n",
    "#subtracting 1 is called a decrement"
   ]
  },
  {
   "cell_type": "code",
   "execution_count": 5,
   "metadata": {},
   "outputs": [
    {
     "name": "stdout",
     "output_type": "stream",
     "text": [
      "5\n",
      "4\n",
      "3\n",
      "2\n",
      "1\n",
      "Blastoff!\n"
     ]
    }
   ],
   "source": [
    "#While statement\n",
    "#for iteration \n",
    "\n",
    "#countdown from five and says message\n",
    "\n",
    "n = 5\n",
    "while n > 0:\n",
    "    print(n)\n",
    "    n -= 1\n",
    "print('Blastoff!')\n",
    "\n",
    "#define value of n\n",
    "#while function for iteration with conditions\n",
    "#print (n) which keep decreasing by 1, until n<0 print Blastoff!\n",
    "\n",
    "#while n is greater than 0, display the value of n and then reduce n by 1\n",
    "#when you get to 0, exit the while statement and display Blastoff\n",
    "\n",
    "#Flow of execution for while functions\n",
    "#1, evaluate the condition, yielding True or False\n",
    "#2,if condition is false, exit the while statement and execute the next statemt\n",
    "#3, if condition is true, execute the body and then go back to step1\n",
    "\n",
    "#type of flow is called a loop, because execute body until False\n",
    "#in this case loop for 5 times\n",
    "\n",
    "#everytime variable changes, iteration variable==> 5, 4, 3, 2, 1\n",
    "\n",
    "# no iteration variable, result in infinite loop\n"
   ]
  },
  {
   "cell_type": "code",
   "execution_count": null,
   "metadata": {},
   "outputs": [],
   "source": [
    "n = 10\n",
    "while True:\n",
    "    print(n, end=' ')\n",
    "    n = n - 1\n",
    "    \n",
    "print('Done!')\n",
    "\n",
    "#the output is neverending\n",
    "#because n=10 is True\n",
    "\n",
    "#print all the number.\n",
    "#print('Done!')\n",
    "\n"
   ]
  },
  {
   "cell_type": "code",
   "execution_count": 1,
   "metadata": {},
   "outputs": [
    {
     "name": "stdout",
     "output_type": "stream",
     "text": [
      "> hello there\n",
      "hello there\n",
      "> password?\n",
      "password?\n",
      "> done\n",
      "Done!\n"
     ]
    }
   ],
   "source": [
    "#Infinite loop\n",
    "#add in a break when we reached exit condition\n",
    "\n",
    "while True:             #loop condition is aways true so loop keeps happening until break statement\n",
    "    line = input('> ')\n",
    "    if line == 'done' :\n",
    "        break\n",
    "    print(line)\n",
    "\n",
    "print('Done!')\n",
    "\n",
    "#when user types [ done], will be hit with the 'break' statement to exit the loop"
   ]
  },
  {
   "cell_type": "code",
   "execution_count": 3,
   "metadata": {},
   "outputs": [
    {
     "name": "stdout",
     "output_type": "stream",
     "text": [
      "> 5\n",
      "5\n",
      "> hello world\n",
      "hello world\n",
      "> # dont print this \n",
      "> #\n",
      "> print this?\n",
      "print this?\n",
      "> done\n",
      "Done!\n"
     ]
    }
   ],
   "source": [
    "#Finish iterations with 'continue'\n",
    "\n",
    "#use [continue] statement to skip to the next iteration without finishing body of loop\n",
    "\n",
    "while True:\n",
    "    line = input ('> ')\n",
    "    if line[0] == '#':\n",
    "        continue\n",
    "    if line == 'done':\n",
    "        break\n",
    "    print(line)\n",
    "                  \n",
    "print('Done!')\n",
    "\n",
    "#continue statement allow more 'if' statements"
   ]
  },
  {
   "cell_type": "code",
   "execution_count": 4,
   "metadata": {},
   "outputs": [
    {
     "name": "stdout",
     "output_type": "stream",
     "text": [
      "Happy New Year: Danny\n",
      "Happy New Year: Sally\n",
      "Happy New Year: Joey\n",
      "Done!\n"
     ]
    }
   ],
   "source": [
    "# 5.5 Definite loops using [for]\n",
    "\n",
    "#definite loop ==> list of things to loop through\n",
    "#construct a definite loop using a [for] statement\n",
    "#know items\n",
    "\n",
    "#indefinite loop \n",
    "#[while] statement for indefinite loop ==> until it conditions becomes False\n",
    "\n",
    "friends = [ 'Danny' , 'Sally' , 'Joey'] #list of strings\n",
    "\n",
    "for friend in friends:                  #for element in the list\n",
    "    print('Happy New Year:', friend)\n",
    "\n",
    "print('Done!')\n",
    "\n",
    "#the different friend is the iteration variable for the loop"
   ]
  },
  {
   "cell_type": "code",
   "execution_count": 5,
   "metadata": {},
   "outputs": [
    {
     "name": "stdout",
     "output_type": "stream",
     "text": [
      "Happy New Year: Danny\n",
      "Happy New Year: Sally\n",
      "Happy New Year: Joey\n",
      "Done!\n"
     ]
    }
   ],
   "source": [
    "friends = [ 'Danny' , 'Sally' , 'Joey'] #list of strings\n",
    "\n",
    "for element in friends:                 #for element in the list\n",
    "    print('Happy New Year:', element)\n",
    "\n",
    "print('Done!')\n",
    "\n",
    "#the different element is the iteration variable for the loop"
   ]
  },
  {
   "cell_type": "code",
   "execution_count": 7,
   "metadata": {},
   "outputs": [
    {
     "name": "stdout",
     "output_type": "stream",
     "text": [
      "pizza toppings!\n",
      "toppings: pineapple\n",
      "toppings:  pepperoni\n",
      "toppings: kimchi\n",
      "On discount\n"
     ]
    }
   ],
   "source": [
    "print('pizza toppings!')\n",
    "\n",
    "toppings = [ 'pineapple' , ' pepperoni', 'kimchi'] #list of strings\n",
    "\n",
    "for flavour in toppings:\n",
    "    print('toppings:', flavour)\n",
    "    \n",
    "print('On discount')\n",
    "\n",
    "#the different is the toppings iteration variable for the loop"
   ]
  },
  {
   "cell_type": "code",
   "execution_count": null,
   "metadata": {},
   "outputs": [],
   "source": [
    "#5.6 loop patterns\n",
    "\n",
    "#[for] or [while] to go through list of items or contents in a file\n",
    "#initializing one or more variables before the loop start ==> condition\n",
    "#look at the resulting variables when the loop ends"
   ]
  },
  {
   "cell_type": "code",
   "execution_count": 8,
   "metadata": {},
   "outputs": [
    {
     "name": "stdout",
     "output_type": "stream",
     "text": [
      "count 5\n"
     ]
    }
   ],
   "source": [
    "#Counting and summing loops\n",
    "\n",
    "#Count the number of items in the loop\n",
    "\n",
    "count = 0\n",
    "for intervar in [3,7,42,85,71]:\n",
    "    count = count + 1\n",
    "\n",
    "print('count' , count)\n"
   ]
  },
  {
   "cell_type": "code",
   "execution_count": 9,
   "metadata": {},
   "outputs": [
    {
     "name": "stdout",
     "output_type": "stream",
     "text": [
      "count 5\n"
     ]
    }
   ],
   "source": [
    "count = 0\n",
    "for element in [3,7,42,85,71]:\n",
    "    count += 1\n",
    "\n",
    "print('count' , count)\n"
   ]
  },
  {
   "cell_type": "code",
   "execution_count": 10,
   "metadata": {},
   "outputs": [
    {
     "name": "stdout",
     "output_type": "stream",
     "text": [
      "count 5\n"
     ]
    }
   ],
   "source": [
    "test = 0\n",
    "for element in [3,7,42,85,71]:\n",
    "    test += 1\n",
    "\n",
    "print('count' , test)\n",
    "\n",
    "#set variable [test] to zero before loop starts\n",
    "#run throught the list of numbers\n",
    "#for each element in the list , add 1\n",
    "#start with test = 0\n",
    "#new test = old test + 1  ==> test+= 1\n",
    "\n"
   ]
  },
  {
   "cell_type": "code",
   "execution_count": 11,
   "metadata": {},
   "outputs": [
    {
     "name": "stdout",
     "output_type": "stream",
     "text": [
      "Total: 154\n"
     ]
    }
   ],
   "source": [
    "#Summation\n",
    "total = 0\n",
    "\n",
    "for element in [3, 41, 12, 9, 74, 15]:\n",
    "    total = total + element\n",
    "\n",
    "print('Total:', total)"
   ]
  },
  {
   "cell_type": "code",
   "execution_count": null,
   "metadata": {},
   "outputs": [],
   "source": [
    "#Summation\n",
    "\n",
    "total = 0\n",
    "\n",
    "for element in [3, 41, 12, 9, 74, 15]:\n",
    "    total += total\n",
    "    \n",
    "print('Total:', total)\n",
    "\n",
    "#just a practise, there are len() and sum() to complete the list"
   ]
  },
  {
   "cell_type": "code",
   "execution_count": 13,
   "metadata": {},
   "outputs": [
    {
     "name": "stdout",
     "output_type": "stream",
     "text": [
      "Before: None\n",
      "Loop: 3 3\n",
      "Loop: 41 41\n",
      "Loop: 12 41\n",
      "Loop: 9 41\n",
      "Loop: 74 74\n",
      "Loop: 15 74\n",
      "Largest: 74\n"
     ]
    }
   ],
   "source": [
    "#To find the largest value in a list or sequence\n",
    "\n",
    "largest = None\n",
    "print ('Before:' , largest)\n",
    "\n",
    "for integer in [3, 41, 12, 9, 74, 15]:\n",
    "    if largest is None or integer > largest:\n",
    "        largest = integer\n",
    "    print('Loop:', integer, largest)\n",
    "print('Largest:', largest)\n",
    "\n"
   ]
  },
  {
   "cell_type": "code",
   "execution_count": 17,
   "metadata": {},
   "outputs": [
    {
     "name": "stdout",
     "output_type": "stream",
     "text": [
      "Before: None\n",
      "Loop: 3 3\n",
      "Loop: 41 3\n",
      "Loop: 12 3\n",
      "Loop: 9 3\n",
      "Loop: 74 3\n",
      "Loop: 15 3\n",
      "Smallest: 3\n"
     ]
    }
   ],
   "source": [
    "#To find the smallest number\n",
    "\n",
    "smallest = None\n",
    "print('Before:', smallest)\n",
    "for integer in [3, 41, 12, 9, 74, 15]:\n",
    "      if smallest is None or integer  < smallest :\n",
    "        smallest = integer\n",
    "      print('Loop:', integer, smallest)\n",
    "    \n",
    "print('Smallest:', smallest)"
   ]
  },
  {
   "cell_type": "code",
   "execution_count": 19,
   "metadata": {},
   "outputs": [
    {
     "name": "stdout",
     "output_type": "stream",
     "text": [
      "Smallest: 3\n"
     ]
    }
   ],
   "source": [
    "\n",
    "values = [3, 41, 12, 9, 74, 15]\n",
    "\n",
    "def min(values):\n",
    "    smallest = None\n",
    "    for value in values:\n",
    "        if smallest is None or value < smallest:\n",
    "            smallest = value\n",
    "    return smallest\n",
    "\n",
    "print('Smallest:', smallest)"
   ]
  },
  {
   "cell_type": "code",
   "execution_count": 1,
   "metadata": {},
   "outputs": [
    {
     "name": "stdout",
     "output_type": "stream",
     "text": [
      "Enter a number: 6\n",
      "Enter a number: 3\n",
      "Enter a number: 7\n",
      "Enter a number: 9\n",
      "Enter a number: done\n",
      "25.0 4 6.25\n"
     ]
    }
   ],
   "source": [
    "def check_for_float(input1):\n",
    "    try:\n",
    "        val = float(input1)\n",
    "        return val\n",
    "    except:\n",
    "        print('Error, please enter numeric input')\n",
    "        quit()\n",
    "        \n",
    "count = 0\n",
    "total = 0\n",
    "average = 0\n",
    "\n",
    "while True:\n",
    "    input_number = input('Enter a number: ')\n",
    "    if input_number == \"done\":\n",
    "        break\n",
    "    number = check_for_float(input_number)\n",
    "    count += 1\n",
    "    total += number\n",
    "    \n",
    "if count:\n",
    "    average = total/ count\n",
    "    \n",
    "print(total, count, average)"
   ]
  },
  {
   "cell_type": "code",
   "execution_count": 5,
   "metadata": {},
   "outputs": [
    {
     "name": "stdout",
     "output_type": "stream",
     "text": [
      "Enter a number: 8\n",
      "Enter a number: 2\n",
      "Enter a number: 1\n",
      "Enter a number: 9\n",
      "Enter a number: done\n",
      "9.0 1.0\n"
     ]
    }
   ],
   "source": [
    "\n",
    "smallest = number\n",
    "largest = number\n",
    "\n",
    "def check_for_float(input1):\n",
    "    try:\n",
    "        val = float(input1)\n",
    "        return val\n",
    "    except:\n",
    "        print('Error, please enter numeric input')\n",
    "        quit()\n",
    "\n",
    "\n",
    "while True:\n",
    "    input1 = input('Enter a number: ')\n",
    "    if input1 == \"done\":\n",
    "        break\n",
    "        \n",
    "    number = check_for_float(input1)\n",
    "    \n",
    "    if number > largest:\n",
    "        largest = number\n",
    "    \n",
    "    if number < smallest:\n",
    "        smallest = number\n",
    "    \n",
    "print(largest, smallest)"
   ]
  },
  {
   "cell_type": "code",
   "execution_count": null,
   "metadata": {},
   "outputs": [],
   "source": []
  }
 ],
 "metadata": {
  "kernelspec": {
   "display_name": "Python 3",
   "language": "python",
   "name": "python3"
  },
  "language_info": {
   "codemirror_mode": {
    "name": "ipython",
    "version": 3
   },
   "file_extension": ".py",
   "mimetype": "text/x-python",
   "name": "python",
   "nbconvert_exporter": "python",
   "pygments_lexer": "ipython3",
   "version": "3.7.6"
  }
 },
 "nbformat": 4,
 "nbformat_minor": 4
}
