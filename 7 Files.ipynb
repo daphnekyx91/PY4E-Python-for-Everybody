{
 "cells": [
  {
   "cell_type": "code",
   "execution_count": 4,
   "metadata": {},
   "outputs": [
    {
     "name": "stdout",
     "output_type": "stream",
     "text": [
      "<_io.TextIOWrapper name='mbox.txt' mode='r' encoding='cp1252'>\n"
     ]
    }
   ],
   "source": [
    "#7.2 opening file\n",
    "#download file and make sure in same folder as python\n",
    "\n",
    "fhand = open('mbox.txt')\n",
    "print(fhand)\n",
    "\n",
    "#this means file exist"
   ]
  },
  {
   "cell_type": "code",
   "execution_count": 5,
   "metadata": {},
   "outputs": [
    {
     "ename": "FileNotFoundError",
     "evalue": "[Errno 2] No such file or directory: 'stuff.txt'",
     "output_type": "error",
     "traceback": [
      "\u001b[1;31m---------------------------------------------------------------------------\u001b[0m",
      "\u001b[1;31mFileNotFoundError\u001b[0m                         Traceback (most recent call last)",
      "\u001b[1;32m<ipython-input-5-8dcf9e168c3d>\u001b[0m in \u001b[0;36m<module>\u001b[1;34m\u001b[0m\n\u001b[1;32m----> 1\u001b[1;33m \u001b[0mtryfile\u001b[0m \u001b[1;33m=\u001b[0m \u001b[0mopen\u001b[0m\u001b[1;33m(\u001b[0m\u001b[1;34m'stuff.txt'\u001b[0m\u001b[1;33m)\u001b[0m\u001b[1;33m\u001b[0m\u001b[1;33m\u001b[0m\u001b[0m\n\u001b[0m\u001b[0;32m      2\u001b[0m \u001b[0mprint\u001b[0m\u001b[1;33m(\u001b[0m\u001b[0mtryfile\u001b[0m\u001b[1;33m)\u001b[0m\u001b[1;33m\u001b[0m\u001b[1;33m\u001b[0m\u001b[0m\n",
      "\u001b[1;31mFileNotFoundError\u001b[0m: [Errno 2] No such file or directory: 'stuff.txt'"
     ]
    }
   ],
   "source": [
    "tryfile = open('stuff.txt')\n",
    "print(tryfile)\n",
    "\n",
    "#Error, because file does not exist"
   ]
  },
  {
   "cell_type": "code",
   "execution_count": 6,
   "metadata": {},
   "outputs": [
    {
     "name": "stdout",
     "output_type": "stream",
     "text": [
      "hello \n",
      " World\n"
     ]
    }
   ],
   "source": [
    "#7.3 text files and lines\n",
    "\n",
    "#newline represented by \\n\n",
    "#\\n represent a newline character\n",
    "\n",
    "stuff = \"hello \\n World\"\n",
    "\n",
    "print(stuff)"
   ]
  },
  {
   "cell_type": "code",
   "execution_count": 7,
   "metadata": {},
   "outputs": [
    {
     "name": "stdout",
     "output_type": "stream",
     "text": [
      "X\n",
      "H\n"
     ]
    }
   ],
   "source": [
    "stuff = \"X\\nH\"\n",
    "print(stuff)\n",
    "\n",
    "#there are 3 characters here X, \\n, H"
   ]
  },
  {
   "cell_type": "code",
   "execution_count": 8,
   "metadata": {},
   "outputs": [
    {
     "data": {
      "text/plain": [
       "3"
      ]
     },
     "execution_count": 8,
     "metadata": {},
     "output_type": "execute_result"
    }
   ],
   "source": [
    "len(stuff)\n",
    "\n",
    "#3 characters as \\n newline is also a character\n",
    "#newline character separates the characters in the ﬁle into lines"
   ]
  },
  {
   "cell_type": "code",
   "execution_count": 9,
   "metadata": {},
   "outputs": [
    {
     "name": "stdout",
     "output_type": "stream",
     "text": [
      "Line Count:  1910\n"
     ]
    }
   ],
   "source": [
    "#7.4 Reading files\n",
    "\n",
    "#when file handle does not contain data for file\n",
    "#construct a [for] to read through and count each of the line in file:\n",
    "\n",
    "fhand = open('mbox-short.txt')     #open file that should be inside\n",
    "count = 0                          #assign value to count\n",
    "for line in fhand:                 #each line in the opened file\n",
    "    count = count + 1              #count=0 , add 1 each time\n",
    "print(\"Line Count: \", count)       \n",
    "\n",
    "#[for] counts the number of lines in file and print them out\n",
    "# cause data to be read from file\n"
   ]
  },
  {
   "cell_type": "code",
   "execution_count": 11,
   "metadata": {},
   "outputs": [
    {
     "name": "stdout",
     "output_type": "stream",
     "text": [
      "94626\n",
      "From stephen.marquar\n"
     ]
    }
   ],
   "source": [
    "# read method [ .read() ]\n",
    "#file is relatively small compared to size of main memory\n",
    "\n",
    "fhand = open(\"mbox-short.txt\")\n",
    "#open function ok if file can fit the main memory for computer\n",
    "\n",
    "#if file too big, need to separate file by chunks using a for or while loop\n",
    "\n",
    "inp= fhand.read()  #read method\n",
    "\n",
    "print(len(inp))\n",
    "#there are 94,626 characters in the file\n",
    "\n",
    "print(inp[:20])\n",
    "#string slicing to print out the first characters"
   ]
  },
  {
   "cell_type": "code",
   "execution_count": 12,
   "metadata": {},
   "outputs": [
    {
     "name": "stdout",
     "output_type": "stream",
     "text": [
      "From stephen.marquard@uct.ac.za Sat Jan  5 09:14:16 2008\n",
      "\n",
      "From: stephen.marquard@uct.ac.za\n",
      "\n",
      "From louis@media.berkeley.edu Fri Jan  4 18:10:48 2008\n",
      "\n",
      "From: louis@media.berkeley.edu\n",
      "\n",
      "From zqian@umich.edu Fri Jan  4 16:10:39 2008\n",
      "\n",
      "From: zqian@umich.edu\n",
      "\n",
      "From rjlowe@iupui.edu Fri Jan  4 15:46:24 2008\n",
      "\n",
      "From: rjlowe@iupui.edu\n",
      "\n",
      "From zqian@umich.edu Fri Jan  4 15:03:18 2008\n",
      "\n",
      "From: zqian@umich.edu\n",
      "\n",
      "From rjlowe@iupui.edu Fri Jan  4 14:50:18 2008\n",
      "\n",
      "From: rjlowe@iupui.edu\n",
      "\n",
      "From cwen@iupui.edu Fri Jan  4 11:37:30 2008\n",
      "\n",
      "From: cwen@iupui.edu\n",
      "\n",
      "From cwen@iupui.edu Fri Jan  4 11:35:08 2008\n",
      "\n",
      "From: cwen@iupui.edu\n",
      "\n",
      "From gsilver@umich.edu Fri Jan  4 11:12:37 2008\n",
      "\n",
      "From: gsilver@umich.edu\n",
      "\n",
      "From gsilver@umich.edu Fri Jan  4 11:11:52 2008\n",
      "\n",
      "From: gsilver@umich.edu\n",
      "\n",
      "From zqian@umich.edu Fri Jan  4 11:11:03 2008\n",
      "\n",
      "From: zqian@umich.edu\n",
      "\n",
      "From gsilver@umich.edu Fri Jan  4 11:10:22 2008\n",
      "\n",
      "From: gsilver@umich.edu\n",
      "\n",
      "From wagnermr@iupui.edu Fri Jan  4 10:38:42 2008\n",
      "\n",
      "From: wagnermr@iupui.edu\n",
      "\n",
      "From zqian@umich.edu Fri Jan  4 10:17:43 2008\n",
      "\n",
      "From: zqian@umich.edu\n",
      "\n",
      "From antranig@caret.cam.ac.uk Fri Jan  4 10:04:14 2008\n",
      "\n",
      "From: antranig@caret.cam.ac.uk\n",
      "\n",
      "From gopal.ramasammycook@gmail.com Fri Jan  4 09:05:31 2008\n",
      "\n",
      "From: gopal.ramasammycook@gmail.com\n",
      "\n",
      "From david.horwitz@uct.ac.za Fri Jan  4 07:02:32 2008\n",
      "\n",
      "From: david.horwitz@uct.ac.za\n",
      "\n",
      "From david.horwitz@uct.ac.za Fri Jan  4 06:08:27 2008\n",
      "\n",
      "From: david.horwitz@uct.ac.za\n",
      "\n",
      "From david.horwitz@uct.ac.za Fri Jan  4 04:49:08 2008\n",
      "\n",
      "From: david.horwitz@uct.ac.za\n",
      "\n",
      "From david.horwitz@uct.ac.za Fri Jan  4 04:33:44 2008\n",
      "\n",
      "From: david.horwitz@uct.ac.za\n",
      "\n",
      "From stephen.marquard@uct.ac.za Fri Jan  4 04:07:34 2008\n",
      "\n",
      "From: stephen.marquard@uct.ac.za\n",
      "\n",
      "From louis@media.berkeley.edu Thu Jan  3 19:51:21 2008\n",
      "\n",
      "From: louis@media.berkeley.edu\n",
      "\n",
      "From louis@media.berkeley.edu Thu Jan  3 17:18:23 2008\n",
      "\n",
      "From: louis@media.berkeley.edu\n",
      "\n",
      "From ray@media.berkeley.edu Thu Jan  3 17:07:00 2008\n",
      "\n",
      "From: ray@media.berkeley.edu\n",
      "\n",
      "From cwen@iupui.edu Thu Jan  3 16:34:40 2008\n",
      "\n",
      "From: cwen@iupui.edu\n",
      "\n",
      "From cwen@iupui.edu Thu Jan  3 16:29:07 2008\n",
      "\n",
      "From: cwen@iupui.edu\n",
      "\n",
      "From cwen@iupui.edu Thu Jan  3 16:23:48 2008\n",
      "\n",
      "From: cwen@iupui.edu\n",
      "\n"
     ]
    }
   ],
   "source": [
    "#7.5 searching through a file\n",
    "\n",
    "#search through file that meets condition\n",
    "\n",
    "fhans = open('mbox-short.txt')\n",
    "count = 0\n",
    "for line in fhans:\n",
    "    if line.startswith('From'):   #method to find .startswith()\n",
    "        print(line)\n",
    "        \n",
    "#there are blanks due to the invisible newline character\n",
    "#each line end with a newline, so the print includes /n"
   ]
  },
  {
   "cell_type": "code",
   "execution_count": 15,
   "metadata": {},
   "outputs": [
    {
     "name": "stdout",
     "output_type": "stream",
     "text": [
      "From: stephen.marquard@uct.ac.za\n",
      "From: louis@media.berkeley.edu\n",
      "From: zqian@umich.edu\n",
      "From: rjlowe@iupui.edu\n",
      "From: zqian@umich.edu\n",
      "From: rjlowe@iupui.edu\n",
      "From: cwen@iupui.edu\n",
      "From: cwen@iupui.edu\n",
      "From: gsilver@umich.edu\n",
      "From: gsilver@umich.edu\n",
      "From: zqian@umich.edu\n",
      "From: gsilver@umich.edu\n",
      "From: wagnermr@iupui.edu\n",
      "From: zqian@umich.edu\n",
      "From: antranig@caret.cam.ac.uk\n",
      "From: gopal.ramasammycook@gmail.com\n",
      "From: david.horwitz@uct.ac.za\n",
      "From: david.horwitz@uct.ac.za\n",
      "From: david.horwitz@uct.ac.za\n",
      "From: david.horwitz@uct.ac.za\n",
      "From: stephen.marquard@uct.ac.za\n",
      "From: louis@media.berkeley.edu\n",
      "From: louis@media.berkeley.edu\n",
      "From: ray@media.berkeley.edu\n",
      "From: cwen@iupui.edu\n",
      "From: cwen@iupui.edu\n",
      "From: cwen@iupui.edu\n"
     ]
    }
   ],
   "source": [
    "#use line slicing to print out all characters exceptt /n\n",
    "#use restrip method to remove whitespace from right side of string\n",
    "\n",
    "fhand = open('mbox-short.txt')\n",
    "for line in fhand:\n",
    "    line = line.rstrip()          #remove /n spacing so no new line\n",
    "    if line.startswith('From:'):  #only extract line with startswith\n",
    "        print(line)"
   ]
  },
  {
   "cell_type": "code",
   "execution_count": 3,
   "metadata": {},
   "outputs": [
    {
     "name": "stdout",
     "output_type": "stream",
     "text": [
      "FROM STEPHEN.MARQUARD@UCT.AC.ZA SAT JAN  5 09:14:16 2008\n",
      "FROM: STEPHEN.MARQUARD@UCT.AC.ZA\n",
      "FROM LOUIS@MEDIA.BERKELEY.EDU FRI JAN  4 18:10:48 2008\n",
      "FROM: LOUIS@MEDIA.BERKELEY.EDU\n",
      "FROM ZQIAN@UMICH.EDU FRI JAN  4 16:10:39 2008\n",
      "FROM: ZQIAN@UMICH.EDU\n",
      "FROM RJLOWE@IUPUI.EDU FRI JAN  4 15:46:24 2008\n",
      "FROM: RJLOWE@IUPUI.EDU\n",
      "FROM ZQIAN@UMICH.EDU FRI JAN  4 15:03:18 2008\n",
      "FROM: ZQIAN@UMICH.EDU\n",
      "FROM RJLOWE@IUPUI.EDU FRI JAN  4 14:50:18 2008\n",
      "FROM: RJLOWE@IUPUI.EDU\n",
      "FROM CWEN@IUPUI.EDU FRI JAN  4 11:37:30 2008\n",
      "FROM: CWEN@IUPUI.EDU\n",
      "FROM CWEN@IUPUI.EDU FRI JAN  4 11:35:08 2008\n",
      "FROM: CWEN@IUPUI.EDU\n",
      "FROM GSILVER@UMICH.EDU FRI JAN  4 11:12:37 2008\n",
      "FROM: GSILVER@UMICH.EDU\n",
      "FROM GSILVER@UMICH.EDU FRI JAN  4 11:11:52 2008\n",
      "FROM: GSILVER@UMICH.EDU\n",
      "FROM ZQIAN@UMICH.EDU FRI JAN  4 11:11:03 2008\n",
      "FROM: ZQIAN@UMICH.EDU\n",
      "FROM GSILVER@UMICH.EDU FRI JAN  4 11:10:22 2008\n",
      "FROM: GSILVER@UMICH.EDU\n",
      "FROM WAGNERMR@IUPUI.EDU FRI JAN  4 10:38:42 2008\n",
      "FROM: WAGNERMR@IUPUI.EDU\n",
      "FROM ZQIAN@UMICH.EDU FRI JAN  4 10:17:43 2008\n",
      "FROM: ZQIAN@UMICH.EDU\n",
      "FROM ANTRANIG@CARET.CAM.AC.UK FRI JAN  4 10:04:14 2008\n",
      "FROM: ANTRANIG@CARET.CAM.AC.UK\n",
      "FROM GOPAL.RAMASAMMYCOOK@GMAIL.COM FRI JAN  4 09:05:31 2008\n",
      "FROM: GOPAL.RAMASAMMYCOOK@GMAIL.COM\n",
      "FROM DAVID.HORWITZ@UCT.AC.ZA FRI JAN  4 07:02:32 2008\n",
      "FROM: DAVID.HORWITZ@UCT.AC.ZA\n",
      "FROM DAVID.HORWITZ@UCT.AC.ZA FRI JAN  4 06:08:27 2008\n",
      "FROM: DAVID.HORWITZ@UCT.AC.ZA\n",
      "FROM DAVID.HORWITZ@UCT.AC.ZA FRI JAN  4 04:49:08 2008\n",
      "FROM: DAVID.HORWITZ@UCT.AC.ZA\n",
      "FROM DAVID.HORWITZ@UCT.AC.ZA FRI JAN  4 04:33:44 2008\n",
      "FROM: DAVID.HORWITZ@UCT.AC.ZA\n",
      "FROM STEPHEN.MARQUARD@UCT.AC.ZA FRI JAN  4 04:07:34 2008\n",
      "FROM: STEPHEN.MARQUARD@UCT.AC.ZA\n",
      "FROM LOUIS@MEDIA.BERKELEY.EDU THU JAN  3 19:51:21 2008\n",
      "FROM: LOUIS@MEDIA.BERKELEY.EDU\n",
      "FROM LOUIS@MEDIA.BERKELEY.EDU THU JAN  3 17:18:23 2008\n",
      "FROM: LOUIS@MEDIA.BERKELEY.EDU\n",
      "FROM RAY@MEDIA.BERKELEY.EDU THU JAN  3 17:07:00 2008\n",
      "FROM: RAY@MEDIA.BERKELEY.EDU\n",
      "FROM CWEN@IUPUI.EDU THU JAN  3 16:34:40 2008\n",
      "FROM: CWEN@IUPUI.EDU\n",
      "FROM CWEN@IUPUI.EDU THU JAN  3 16:29:07 2008\n",
      "FROM: CWEN@IUPUI.EDU\n",
      "FROM CWEN@IUPUI.EDU THU JAN  3 16:23:48 2008\n",
      "FROM: CWEN@IUPUI.EDU\n"
     ]
    }
   ],
   "source": [
    "#Play with the different methods\n",
    "\n",
    "fhans = open('mbox-short.txt')\n",
    "\n",
    "count = 0\n",
    "\n",
    "for line in fhans:\n",
    "    if line.startswith('From'):\n",
    "        line = line.rstrip()     #new line after implement method .rstrip()\n",
    "        line = line.upper()      #new line after implement method .upper()  #Upper everything\n",
    "        print(line)"
   ]
  },
  {
   "cell_type": "code",
   "execution_count": 2,
   "metadata": {},
   "outputs": [
    {
     "name": "stdout",
     "output_type": "stream",
     "text": [
      "From stephen.marquard@uct.ac.za sat jan  5 09:14:16 2008\n",
      "From: stephen.marquard@uct.ac.za\n",
      "From louis@media.berkeley.edu fri jan  4 18:10:48 2008\n",
      "From: louis@media.berkeley.edu\n",
      "From zqian@umich.edu fri jan  4 16:10:39 2008\n",
      "From: zqian@umich.edu\n",
      "From rjlowe@iupui.edu fri jan  4 15:46:24 2008\n",
      "From: rjlowe@iupui.edu\n",
      "From zqian@umich.edu fri jan  4 15:03:18 2008\n",
      "From: zqian@umich.edu\n",
      "From rjlowe@iupui.edu fri jan  4 14:50:18 2008\n",
      "From: rjlowe@iupui.edu\n",
      "From cwen@iupui.edu fri jan  4 11:37:30 2008\n",
      "From: cwen@iupui.edu\n",
      "From cwen@iupui.edu fri jan  4 11:35:08 2008\n",
      "From: cwen@iupui.edu\n",
      "From gsilver@umich.edu fri jan  4 11:12:37 2008\n",
      "From: gsilver@umich.edu\n",
      "From gsilver@umich.edu fri jan  4 11:11:52 2008\n",
      "From: gsilver@umich.edu\n",
      "From zqian@umich.edu fri jan  4 11:11:03 2008\n",
      "From: zqian@umich.edu\n",
      "From gsilver@umich.edu fri jan  4 11:10:22 2008\n",
      "From: gsilver@umich.edu\n",
      "From wagnermr@iupui.edu fri jan  4 10:38:42 2008\n",
      "From: wagnermr@iupui.edu\n",
      "From zqian@umich.edu fri jan  4 10:17:43 2008\n",
      "From: zqian@umich.edu\n",
      "From antranig@caret.cam.ac.uk fri jan  4 10:04:14 2008\n",
      "From: antranig@caret.cam.ac.uk\n",
      "From gopal.ramasammycook@gmail.com fri jan  4 09:05:31 2008\n",
      "From: gopal.ramasammycook@gmail.com\n",
      "From david.horwitz@uct.ac.za fri jan  4 07:02:32 2008\n",
      "From: david.horwitz@uct.ac.za\n",
      "From david.horwitz@uct.ac.za fri jan  4 06:08:27 2008\n",
      "From: david.horwitz@uct.ac.za\n",
      "From david.horwitz@uct.ac.za fri jan  4 04:49:08 2008\n",
      "From: david.horwitz@uct.ac.za\n",
      "From david.horwitz@uct.ac.za fri jan  4 04:33:44 2008\n",
      "From: david.horwitz@uct.ac.za\n",
      "From stephen.marquard@uct.ac.za fri jan  4 04:07:34 2008\n",
      "From: stephen.marquard@uct.ac.za\n",
      "From louis@media.berkeley.edu thu jan  3 19:51:21 2008\n",
      "From: louis@media.berkeley.edu\n",
      "From louis@media.berkeley.edu thu jan  3 17:18:23 2008\n",
      "From: louis@media.berkeley.edu\n",
      "From ray@media.berkeley.edu thu jan  3 17:07:00 2008\n",
      "From: ray@media.berkeley.edu\n",
      "From cwen@iupui.edu thu jan  3 16:34:40 2008\n",
      "From: cwen@iupui.edu\n",
      "From cwen@iupui.edu thu jan  3 16:29:07 2008\n",
      "From: cwen@iupui.edu\n",
      "From cwen@iupui.edu thu jan  3 16:23:48 2008\n",
      "From: cwen@iupui.edu\n"
     ]
    }
   ],
   "source": [
    "fhans = open('mbox-short.txt')\n",
    "\n",
    "count = 0\n",
    "\n",
    "for line in fhans:\n",
    "    if line.startswith('From'):\n",
    "        line = line.rstrip()     #new line after implement method .rstrip()\n",
    "        line = line.capitalize()      #new line after implement method .capitalize() only first letter\n",
    "        print(line)"
   ]
  },
  {
   "cell_type": "code",
   "execution_count": 3,
   "metadata": {},
   "outputs": [
    {
     "name": "stdout",
     "output_type": "stream",
     "text": [
      "from stephen.marquard@uct.ac.za sat jan  5 09:14:16 2008\n",
      "from: stephen.marquard@uct.ac.za\n",
      "from louis@media.berkeley.edu fri jan  4 18:10:48 2008\n",
      "from: louis@media.berkeley.edu\n",
      "from zqian@umich.edu fri jan  4 16:10:39 2008\n",
      "from: zqian@umich.edu\n",
      "from rjlowe@iupui.edu fri jan  4 15:46:24 2008\n",
      "from: rjlowe@iupui.edu\n",
      "from zqian@umich.edu fri jan  4 15:03:18 2008\n",
      "from: zqian@umich.edu\n",
      "from rjlowe@iupui.edu fri jan  4 14:50:18 2008\n",
      "from: rjlowe@iupui.edu\n",
      "from cwen@iupui.edu fri jan  4 11:37:30 2008\n",
      "from: cwen@iupui.edu\n",
      "from cwen@iupui.edu fri jan  4 11:35:08 2008\n",
      "from: cwen@iupui.edu\n",
      "from gsilver@umich.edu fri jan  4 11:12:37 2008\n",
      "from: gsilver@umich.edu\n",
      "from gsilver@umich.edu fri jan  4 11:11:52 2008\n",
      "from: gsilver@umich.edu\n",
      "from zqian@umich.edu fri jan  4 11:11:03 2008\n",
      "from: zqian@umich.edu\n",
      "from gsilver@umich.edu fri jan  4 11:10:22 2008\n",
      "from: gsilver@umich.edu\n",
      "from wagnermr@iupui.edu fri jan  4 10:38:42 2008\n",
      "from: wagnermr@iupui.edu\n",
      "from zqian@umich.edu fri jan  4 10:17:43 2008\n",
      "from: zqian@umich.edu\n",
      "from antranig@caret.cam.ac.uk fri jan  4 10:04:14 2008\n",
      "from: antranig@caret.cam.ac.uk\n",
      "from gopal.ramasammycook@gmail.com fri jan  4 09:05:31 2008\n",
      "from: gopal.ramasammycook@gmail.com\n",
      "from david.horwitz@uct.ac.za fri jan  4 07:02:32 2008\n",
      "from: david.horwitz@uct.ac.za\n",
      "from david.horwitz@uct.ac.za fri jan  4 06:08:27 2008\n",
      "from: david.horwitz@uct.ac.za\n",
      "from david.horwitz@uct.ac.za fri jan  4 04:49:08 2008\n",
      "from: david.horwitz@uct.ac.za\n",
      "from david.horwitz@uct.ac.za fri jan  4 04:33:44 2008\n",
      "from: david.horwitz@uct.ac.za\n",
      "from stephen.marquard@uct.ac.za fri jan  4 04:07:34 2008\n",
      "from: stephen.marquard@uct.ac.za\n",
      "from louis@media.berkeley.edu thu jan  3 19:51:21 2008\n",
      "from: louis@media.berkeley.edu\n",
      "from louis@media.berkeley.edu thu jan  3 17:18:23 2008\n",
      "from: louis@media.berkeley.edu\n",
      "from ray@media.berkeley.edu thu jan  3 17:07:00 2008\n",
      "from: ray@media.berkeley.edu\n",
      "from cwen@iupui.edu thu jan  3 16:34:40 2008\n",
      "from: cwen@iupui.edu\n",
      "from cwen@iupui.edu thu jan  3 16:29:07 2008\n",
      "from: cwen@iupui.edu\n",
      "from cwen@iupui.edu thu jan  3 16:23:48 2008\n",
      "from: cwen@iupui.edu\n"
     ]
    }
   ],
   "source": [
    "fhans = open('mbox-short.txt')\n",
    "\n",
    "count = 0\n",
    "\n",
    "for line in fhans:\n",
    "    if line.startswith('From'):\n",
    "        line = line.rstrip()     #new line after implement method .rstrip()\n",
    "        line = line.lower()      #new line after implement method .lower() only first letter\n",
    "        print(line)"
   ]
  },
  {
   "cell_type": "code",
   "execution_count": 17,
   "metadata": {},
   "outputs": [
    {
     "name": "stdout",
     "output_type": "stream",
     "text": [
      "From: stephen.marquard@uct.ac.za\n",
      "From: louis@media.berkeley.edu\n",
      "From: zqian@umich.edu\n",
      "From: rjlowe@iupui.edu\n",
      "From: zqian@umich.edu\n",
      "From: rjlowe@iupui.edu\n",
      "From: cwen@iupui.edu\n",
      "From: cwen@iupui.edu\n",
      "From: gsilver@umich.edu\n",
      "From: gsilver@umich.edu\n",
      "From: zqian@umich.edu\n",
      "From: gsilver@umich.edu\n",
      "From: wagnermr@iupui.edu\n",
      "From: zqian@umich.edu\n",
      "From: antranig@caret.cam.ac.uk\n",
      "From: gopal.ramasammycook@gmail.com\n",
      "From: david.horwitz@uct.ac.za\n",
      "From: david.horwitz@uct.ac.za\n",
      "From: david.horwitz@uct.ac.za\n",
      "From: david.horwitz@uct.ac.za\n",
      "From: stephen.marquard@uct.ac.za\n",
      "From: louis@media.berkeley.edu\n",
      "From: louis@media.berkeley.edu\n",
      "From: ray@media.berkeley.edu\n",
      "From: cwen@iupui.edu\n",
      "From: cwen@iupui.edu\n",
      "From: cwen@iupui.edu\n"
     ]
    }
   ],
   "source": [
    "fhand = open('mbox-short.txt')\n",
    "\n",
    "for line in fhand:\n",
    "    line =line.rstrip()\n",
    "    #Skip the uninteresting line\n",
    "    \n",
    "    if not line.startswith(\"From:\"):\n",
    "        continue\n",
    "        \n",
    "    #Process the interesting line\n",
    "    print(line)"
   ]
  },
  {
   "cell_type": "code",
   "execution_count": 1,
   "metadata": {},
   "outputs": [
    {
     "name": "stdout",
     "output_type": "stream",
     "text": [
      "From: stephen.marquard@uct.ac.za\n",
      "From: louis@media.berkeley.edu\n",
      "From: zqian@umich.edu\n",
      "From: rjlowe@iupui.edu\n",
      "From: zqian@umich.edu\n",
      "From: rjlowe@iupui.edu\n",
      "From: cwen@iupui.edu\n",
      "From: cwen@iupui.edu\n",
      "From: gsilver@umich.edu\n",
      "From: gsilver@umich.edu\n",
      "From: zqian@umich.edu\n",
      "From: gsilver@umich.edu\n",
      "From: wagnermr@iupui.edu\n",
      "From: zqian@umich.edu\n",
      "From: antranig@caret.cam.ac.uk\n",
      "From: gopal.ramasammycook@gmail.com\n",
      "From: david.horwitz@uct.ac.za\n",
      "From: david.horwitz@uct.ac.za\n",
      "From: david.horwitz@uct.ac.za\n",
      "From: david.horwitz@uct.ac.za\n",
      "From: stephen.marquard@uct.ac.za\n",
      "From: louis@media.berkeley.edu\n",
      "From: louis@media.berkeley.edu\n",
      "From: ray@media.berkeley.edu\n",
      "From: cwen@iupui.edu\n",
      "From: cwen@iupui.edu\n",
      "From: cwen@iupui.edu\n"
     ]
    }
   ],
   "source": [
    "fhand = open('mbox-short.txt')   #open file name\n",
    "\n",
    "for line in fhand:               #read every line in file\n",
    "    line = line.rstrip()         #strip right side of line, include \\n\n",
    "    if line.startswith('From:'): #method .startswith() contains \"From:\" \n",
    "        print(line)"
   ]
  },
  {
   "cell_type": "code",
   "execution_count": 19,
   "metadata": {},
   "outputs": [
    {
     "name": "stdout",
     "output_type": "stream",
     "text": [
      "From stephen.marquard@uct.ac.za Sat Jan  5 09:14:16 2008\n",
      "X-Authentication-Warning: nakamura.uits.iupui.edu: apache set sender to stephen.marquard@uct.ac.za using -f\n",
      "From: stephen.marquard@uct.ac.za\n",
      "Author: stephen.marquard@uct.ac.za\n",
      "From david.horwitz@uct.ac.za Fri Jan  4 07:02:32 2008\n",
      "X-Authentication-Warning: nakamura.uits.iupui.edu: apache set sender to david.horwitz@uct.ac.za using -f\n",
      "From: david.horwitz@uct.ac.za\n",
      "Author: david.horwitz@uct.ac.za\n",
      "r39753 | david.horwitz@uct.ac.za | 2008-01-04 13:05:51 +0200 (Fri, 04 Jan 2008) | 1 line\n",
      "From david.horwitz@uct.ac.za Fri Jan  4 06:08:27 2008\n",
      "X-Authentication-Warning: nakamura.uits.iupui.edu: apache set sender to david.horwitz@uct.ac.za using -f\n",
      "From: david.horwitz@uct.ac.za\n",
      "Author: david.horwitz@uct.ac.za\n",
      "From david.horwitz@uct.ac.za Fri Jan  4 04:49:08 2008\n",
      "X-Authentication-Warning: nakamura.uits.iupui.edu: apache set sender to david.horwitz@uct.ac.za using -f\n",
      "From: david.horwitz@uct.ac.za\n",
      "Author: david.horwitz@uct.ac.za\n",
      "From david.horwitz@uct.ac.za Fri Jan  4 04:33:44 2008\n",
      "X-Authentication-Warning: nakamura.uits.iupui.edu: apache set sender to david.horwitz@uct.ac.za using -f\n",
      "From: david.horwitz@uct.ac.za\n",
      "Author: david.horwitz@uct.ac.za\n",
      "From stephen.marquard@uct.ac.za Fri Jan  4 04:07:34 2008\n",
      "X-Authentication-Warning: nakamura.uits.iupui.edu: apache set sender to stephen.marquard@uct.ac.za using -f\n",
      "From: stephen.marquard@uct.ac.za\n",
      "Author: stephen.marquard@uct.ac.za\n"
     ]
    }
   ],
   "source": [
    "#use find method to stimulate a text editor search\n",
    "#[find] looks for another string and return the position or -1 if not found\n",
    "\n",
    "fhand = open('mbox-short.txt')\n",
    "\n",
    "for line in fhand:\n",
    "    line = line.rstrip()\n",
    "    if line.find('@uct.ac.za') == -1: continue\n",
    "    print(line)"
   ]
  },
  {
   "cell_type": "code",
   "execution_count": 6,
   "metadata": {},
   "outputs": [
    {
     "name": "stdout",
     "output_type": "stream",
     "text": [
      "Enter the file name:   mbox-short.txt\n",
      "There are  27 subject lines in mbox-short.txt\n"
     ]
    }
   ],
   "source": [
    "#7.6 letting the user choose the file name\n",
    "\n",
    "fname = input('Enter the file name:   ')\n",
    "fhand = open(fname)\n",
    "\n",
    "count = 0\n",
    "for line in fhand:\n",
    "    if line.startswith('Subject:'):\n",
    "        count += 1\n",
    "        \n",
    "print('There are ', count, 'subject lines in', fname)"
   ]
  },
  {
   "cell_type": "code",
   "execution_count": 4,
   "metadata": {},
   "outputs": [
    {
     "name": "stdout",
     "output_type": "stream",
     "text": [
      "Enter the file name: mbox-short.txt\n",
      "There were 27 subject lines in mbox-short.txt\n"
     ]
    }
   ],
   "source": [
    "fname = input('Enter the file name: ')\n",
    "\n",
    "fhand = open(fname)\n",
    "count = 0\n",
    "\n",
    "for line in fhand:\n",
    "    if line.startswith('Subject:'):\n",
    "        count = count + 1\n",
    "        \n",
    "print('There were', count, \"subject lines in\", fname)\n"
   ]
  },
  {
   "cell_type": "code",
   "execution_count": 1,
   "metadata": {},
   "outputs": [
    {
     "name": "stdout",
     "output_type": "stream",
     "text": [
      "Enter the file name:   mbox-short.txt\n",
      "There are  27 subject lines in mbox-short.txt\n"
     ]
    }
   ],
   "source": [
    "#Using try, except and open \n",
    "\n",
    "#what if it is not the file name\n",
    "\n",
    "fname = input('Enter the file name:   ')\n",
    "fhand = open(fname)\n",
    "count = 0\n",
    "\n",
    "for line in fhand:\n",
    "    if line.startswith('Subject:'):\n",
    "        count += 1\n",
    "        \n",
    "print('There are ', count, 'subject lines in', fname)\n",
    "\n",
    "#will lead to error"
   ]
  },
  {
   "cell_type": "code",
   "execution_count": 24,
   "metadata": {},
   "outputs": [
    {
     "name": "stdout",
     "output_type": "stream",
     "text": [
      "Enter the file name: xbox\n",
      "File cannot be opened:  try\n",
      "There were 0 subject lines in try\n"
     ]
    }
   ],
   "source": [
    "#Using try, except and open \n",
    "\n",
    "rname = input('Enter the file name: ')\n",
    "\n",
    "try:\n",
    "    fhand = open(fname)\n",
    "\n",
    "except:\n",
    "    print('File cannot be opened: ', fname)\n",
    "    exit()\n",
    "\n",
    "count = 0\n",
    "for line in fhand:\n",
    "    if line.startswith('Subject: '):\n",
    "        count += 1\n",
    "\n",
    "print('There were', count, 'subject lines in', fname)\n",
    "\n",
    "#exit function terminates the program"
   ]
  },
  {
   "cell_type": "code",
   "execution_count": 2,
   "metadata": {},
   "outputs": [
    {
     "name": "stdout",
     "output_type": "stream",
     "text": [
      "<_io.TextIOWrapper name='mbox.txt' mode='w' encoding='cp1252'>\n"
     ]
    }
   ],
   "source": [
    "#7.8 Writing files\n",
    "\n",
    "#open the file with \"w\" as second parameter\n",
    "\n",
    "fout = open('mbox.txt', 'w')\n",
    "print(fout)\n",
    "\n",
    "#'w' enables the use of write method"
   ]
  },
  {
   "cell_type": "code",
   "execution_count": 4,
   "metadata": {},
   "outputs": [
    {
     "data": {
      "text/plain": [
       "18"
      ]
     },
     "execution_count": 4,
     "metadata": {},
     "output_type": "execute_result"
    }
   ],
   "source": [
    "#write method\n",
    "\n",
    "line1 ='this is a wattle,\\n'  #\\n for a newline\n",
    "fout.write(line1)"
   ]
  },
  {
   "cell_type": "code",
   "execution_count": 5,
   "metadata": {},
   "outputs": [
    {
     "data": {
      "text/plain": [
       "23"
      ]
     },
     "execution_count": 5,
     "metadata": {},
     "output_type": "execute_result"
    }
   ],
   "source": [
    "line2 ='the emblem of our land\\n'\n",
    "fout.write(line2)"
   ]
  },
  {
   "cell_type": "code",
   "execution_count": 6,
   "metadata": {},
   "outputs": [],
   "source": [
    "fout.close()\n",
    "\n",
    "#close file to ensure no data lost"
   ]
  },
  {
   "cell_type": "code",
   "execution_count": 1,
   "metadata": {},
   "outputs": [
    {
     "name": "stdout",
     "output_type": "stream",
     "text": [
      "1 2\t 3\n",
      " 4\n"
     ]
    }
   ],
   "source": [
    "#7.9 Debugging\n",
    "\n",
    "s = \"1 2\\t 3\\n 4\"\n",
    "print(s)"
   ]
  },
  {
   "cell_type": "code",
   "execution_count": 2,
   "metadata": {},
   "outputs": [
    {
     "name": "stdout",
     "output_type": "stream",
     "text": [
      "'1 2\\t 3\\n 4'\n"
     ]
    }
   ],
   "source": [
    "#[repr] function to find out what tab\n",
    "\n",
    "print(repr(s))\n",
    "\n",
    "#some systems use \\r, some systems use \\n\n",
    "#inconsistencies will cause problems\n",
    "# there are applications to convert from one format to another"
   ]
  },
  {
   "cell_type": "code",
   "execution_count": 11,
   "metadata": {},
   "outputs": [
    {
     "name": "stdout",
     "output_type": "stream",
     "text": [
      "Enter the file name:   newfile\n",
      "File cannot be opened:  newfile\n"
     ]
    }
   ],
   "source": [
    "#7.11 Exercises\n",
    "\n",
    "#Write a program to read through a ﬁle and print the contents of the \n",
    "#ﬁle (line by line) all in upper case\n",
    "\n",
    "fname = input('Enter the file name:   ')\n",
    "\n",
    "try:\n",
    "    fhand = open(fname)\n",
    "\n",
    "except:\n",
    "    print('File cannot be opened: ', fname)\n",
    "    exit()\n",
    "\n",
    "for line in fhand:\n",
    "    print(line.strip().upper())"
   ]
  },
  {
   "cell_type": "code",
   "execution_count": 8,
   "metadata": {},
   "outputs": [
    {
     "name": "stdout",
     "output_type": "stream",
     "text": [
      "Enter the file name:   X-DSPAM-Confidence:\n",
      "File cannot be opened:  X-DSPAM-Confidence:\n",
      "Average spam confidence:  0.7507185185185187\n"
     ]
    }
   ],
   "source": [
    "#Exercise 2: Write a program to prompt for a ﬁle name, \n",
    "#and then read through the ﬁle and look for lines of the form:\n",
    "\n",
    "# find “X-DSPAM-Conﬁdence:”\n",
    "\n",
    "#extact number\n",
    "#floating point number\n",
    "\n",
    "\n",
    "fname = input('Enter the file name:   ')\n",
    "\n",
    "try:\n",
    "    fhand = open(fname)\n",
    "\n",
    "except:\n",
    "    print('File cannot be opened: ', fname)\n",
    "    exit()\n",
    "\n",
    "for line in fhand:\n",
    "    if line.startswith(\"X-DSPAM-Confidence: \"):\n",
    "        count = count + 1\n",
    "        colpost = line.find(\":\")\n",
    "        number = line[colpost+1: ].strip()\n",
    "        final = float(number)\n",
    "        total = total + final\n",
    "\n",
    "print(\"Average spam confidence: \", total/count )"
   ]
  },
  {
   "cell_type": "code",
   "execution_count": 4,
   "metadata": {},
   "outputs": [
    {
     "name": "stdout",
     "output_type": "stream",
     "text": [
      "Enter the file name:   mbox-short.txt\n",
      "File cannot be opened:  mbox-short.txt\n"
     ]
    }
   ],
   "source": [
    "#Exercise 3\n",
    "\n",
    "# add a harmless Easter Egg to their program Modify the program that prompts \n",
    "# user for the ﬁle name so that it prints a funny message when the user types in \n",
    "#the exact ﬁle name “na na boo boo”\n",
    "\n",
    "\n",
    "#ERROR \n",
    "\n",
    "fname = input('Enter the file name:   ')\n",
    "\n",
    "\n",
    "try:\n",
    "    if fhand == open(fname):  ==> ERROR!!\n",
    "        count = 0\n",
    "        for line in fhand:\n",
    "            if line.startswith('Subject:'):\n",
    "                count += 1\n",
    "                print('There were', count, \"subject lines in\", fname)\n",
    "            \n",
    "    elif fname == \"na na boo boo\":\n",
    "        print(\"NA NA BOO BOO TO YOU - You have been punk'd!\")\n",
    "        exit()\n",
    "          \n",
    "except:\n",
    "    print('File cannot be opened: ', fname)\n",
    "    exit()"
   ]
  },
  {
   "cell_type": "code",
   "execution_count": 3,
   "metadata": {},
   "outputs": [
    {
     "name": "stdout",
     "output_type": "stream",
     "text": [
      "Enter the file name: mbox-short.txt\n",
      "There were 27  subject lines in mbox-short.txt\n"
     ]
    }
   ],
   "source": [
    "fname = input('Enter the file name: ')\n",
    "\n",
    "try:\n",
    "    if fname == 'na na boo boo':\n",
    "        print('NA NA BOO BOO TO YOU - You have been punk\\'d ')\n",
    "        exit()\n",
    "    fhand = open(fname)\n",
    "\n",
    "except:\n",
    "    print('File cannot be opened: ', fname)\n",
    "    exit()\n",
    "        \n",
    "count = 0 \n",
    "for line in fhand:\n",
    "    if line.startswith('Subject:'):\n",
    "        count += 1\n",
    "    \n",
    "print('There were', count ,' subject lines in', fname)"
   ]
  },
  {
   "cell_type": "code",
   "execution_count": null,
   "metadata": {},
   "outputs": [],
   "source": []
  }
 ],
 "metadata": {
  "kernelspec": {
   "display_name": "Python 3",
   "language": "python",
   "name": "python3"
  },
  "language_info": {
   "codemirror_mode": {
    "name": "ipython",
    "version": 3
   },
   "file_extension": ".py",
   "mimetype": "text/x-python",
   "name": "python",
   "nbconvert_exporter": "python",
   "pygments_lexer": "ipython3",
   "version": "3.7.6"
  }
 },
 "nbformat": 4,
 "nbformat_minor": 4
}
