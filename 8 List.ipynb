{
 "cells": [
  {
   "cell_type": "code",
   "execution_count": 1,
   "metadata": {},
   "outputs": [
    {
     "name": "stdout",
     "output_type": "stream",
     "text": [
      "['chedder', 'edam', 'gouda'] [17, 123] []\n"
     ]
    }
   ],
   "source": [
    "#8.1 A list is a sequence\n",
    "#values in the list are called elements or items\n",
    "\n",
    "#list of integers\n",
    "[10, 20, 30, 40]\n",
    "\n",
    "#list of strings\n",
    "[\"crunchy frog\", \" ram bladder\", \"lark vomit\"]\n",
    "\n",
    "#List of integers and strings\n",
    "[\"spam\", 2.0, 5, [10, 20]]\n",
    "#this is a list within a list ==> nested\n",
    "\n",
    "#empty list\n",
    "#[]\n",
    "\n",
    "#assign lists to variables\n",
    "\n",
    "cheeses = [ \"chedder\", \"edam\", \"gouda\"]\n",
    "numbers = [17 , 123]\n",
    "empty =[]\n",
    "\n",
    "print(cheeses, numbers, empty)"
   ]
  },
  {
   "cell_type": "code",
   "execution_count": 2,
   "metadata": {},
   "outputs": [
    {
     "name": "stdout",
     "output_type": "stream",
     "text": [
      "chedder\n"
     ]
    }
   ],
   "source": [
    "#8.2 lists are mutable\n",
    "\n",
    "#accessing elements of list same as characters for a string\n",
    "#use [] bracket operator\n",
    "#indices start at 0\n",
    "\n",
    "print(cheeses[0])"
   ]
  },
  {
   "cell_type": "code",
   "execution_count": 3,
   "metadata": {},
   "outputs": [
    {
     "name": "stdout",
     "output_type": "stream",
     "text": [
      "[17, 5]\n"
     ]
    }
   ],
   "source": [
    "#Unlike strings, lists are mutable:\n",
    "#change order in list\n",
    "#reassgin item in a list\n",
    "\n",
    "#strings need to slice and reassign a new variable\n",
    "\n",
    "numbers = [17, 123]\n",
    "numbers[1] = 5 \n",
    "print(numbers)\n",
    "\n",
    "#works the same way as string.\n",
    "#any integer expression can be used as an index\n",
    "#if element does not exist => IndexError\n",
    "#index has a negative value, they count backwards"
   ]
  },
  {
   "cell_type": "code",
   "execution_count": 4,
   "metadata": {},
   "outputs": [
    {
     "data": {
      "text/plain": [
       "True"
      ]
     },
     "execution_count": 4,
     "metadata": {},
     "output_type": "execute_result"
    }
   ],
   "source": [
    "#in operator works in list\n",
    "\n",
    "cheeses = [ \"chedder\", \"edam\", \"gouda\"]\n",
    "\"edam\" in cheeses"
   ]
  },
  {
   "cell_type": "code",
   "execution_count": 5,
   "metadata": {},
   "outputs": [
    {
     "data": {
      "text/plain": [
       "False"
      ]
     },
     "execution_count": 5,
     "metadata": {},
     "output_type": "execute_result"
    }
   ],
   "source": [
    "\"Brie\" in cheeses"
   ]
  },
  {
   "cell_type": "code",
   "execution_count": 6,
   "metadata": {},
   "outputs": [
    {
     "name": "stdout",
     "output_type": "stream",
     "text": [
      "chedder\n",
      "edam\n",
      "gouda\n"
     ]
    }
   ],
   "source": [
    "#8.3 traversing a list\n",
    "\n",
    "for cheese in cheeses:\n",
    "    print(cheese)\n",
    "    \n",
    "#to read the elements of the list"
   ]
  },
  {
   "cell_type": "code",
   "execution_count": 8,
   "metadata": {},
   "outputs": [
    {
     "name": "stdout",
     "output_type": "stream",
     "text": [
      "68\n",
      "20\n"
     ]
    }
   ],
   "source": [
    "#write or update the elements, use indices\n",
    "#combine functions [range] and [len]\n",
    "\n",
    "for i in range(len(numbers)):\n",
    "    numbers[i] = numbers[i]*2\n",
    "    print(numbers[i])"
   ]
  },
  {
   "cell_type": "code",
   "execution_count": 9,
   "metadata": {},
   "outputs": [],
   "source": [
    "for x in empty:\n",
    "    print('this never happens')\n",
    "    \n",
    "#theres no element, so no printing"
   ]
  },
  {
   "cell_type": "code",
   "execution_count": null,
   "metadata": {},
   "outputs": [],
   "source": [
    "#although a list contains another list, the nested list counts as an element\n",
    "#length of list is 4\n",
    "\n",
    "[\"spam\" , a ,[\"brie\", \"cheddar\"], [1,2,3]]"
   ]
  },
  {
   "cell_type": "code",
   "execution_count": 10,
   "metadata": {},
   "outputs": [
    {
     "name": "stdout",
     "output_type": "stream",
     "text": [
      "[1, 2, 3, 4, 5, 6]\n"
     ]
    }
   ],
   "source": [
    "#8.4 list operations\n",
    "# + operator concatenates list\n",
    "\n",
    "a = [ 1, 2, 3]\n",
    "b = [ 4, 5, 6]\n",
    "\n",
    "c = a + b\n",
    "print(c)"
   ]
  },
  {
   "cell_type": "code",
   "execution_count": 11,
   "metadata": {},
   "outputs": [
    {
     "data": {
      "text/plain": [
       "[0, 0, 0, 0]"
      ]
     },
     "execution_count": 11,
     "metadata": {},
     "output_type": "execute_result"
    }
   ],
   "source": [
    "[0]*4"
   ]
  },
  {
   "cell_type": "code",
   "execution_count": 12,
   "metadata": {},
   "outputs": [
    {
     "data": {
      "text/plain": [
       "[1, 2, 3, 1, 2, 3, 1, 2, 3]"
      ]
     },
     "execution_count": 12,
     "metadata": {},
     "output_type": "execute_result"
    }
   ],
   "source": [
    "[ 1, 2, 3] * 3"
   ]
  },
  {
   "cell_type": "code",
   "execution_count": 15,
   "metadata": {},
   "outputs": [
    {
     "data": {
      "text/plain": [
       "['b', 'c']"
      ]
     },
     "execution_count": 15,
     "metadata": {},
     "output_type": "execute_result"
    }
   ],
   "source": [
    "#8.5 List Slices\n",
    "\n",
    "t = [\"a\", \"b\", \"c\", \"d\", \"e\", \"f\"]\n",
    "t[1:3]"
   ]
  },
  {
   "cell_type": "code",
   "execution_count": 16,
   "metadata": {},
   "outputs": [
    {
     "data": {
      "text/plain": [
       "['a', 'b', 'c', 'd']"
      ]
     },
     "execution_count": 16,
     "metadata": {},
     "output_type": "execute_result"
    }
   ],
   "source": [
    "t[:4]"
   ]
  },
  {
   "cell_type": "code",
   "execution_count": 17,
   "metadata": {},
   "outputs": [
    {
     "data": {
      "text/plain": [
       "['d', 'e', 'f']"
      ]
     },
     "execution_count": 17,
     "metadata": {},
     "output_type": "execute_result"
    }
   ],
   "source": [
    "t[3:]"
   ]
  },
  {
   "cell_type": "code",
   "execution_count": 18,
   "metadata": {},
   "outputs": [
    {
     "data": {
      "text/plain": [
       "['a', 'b', 'c', 'd', 'e', 'f']"
      ]
     },
     "execution_count": 18,
     "metadata": {},
     "output_type": "execute_result"
    }
   ],
   "source": [
    "t[:]"
   ]
  },
  {
   "cell_type": "code",
   "execution_count": 19,
   "metadata": {},
   "outputs": [
    {
     "name": "stdout",
     "output_type": "stream",
     "text": [
      "['a', 'b', 'c', 'd']\n"
     ]
    }
   ],
   "source": [
    "#8.6 list methods\n",
    "\n",
    "#append\n",
    "#append adds a new element to list\n",
    "t = [\"a\", \"b\", \"c\"]\n",
    "t.append(\"d\")\n",
    "print(t)"
   ]
  },
  {
   "cell_type": "code",
   "execution_count": 20,
   "metadata": {},
   "outputs": [
    {
     "name": "stdout",
     "output_type": "stream",
     "text": [
      "['a', 'b', 'c', 'd', 'e']\n"
     ]
    }
   ],
   "source": [
    "#extend\n",
    "#extend takes a list as an argument and appends all of the elements\n",
    "\n",
    "t1 = [\"a\", \"b\", \"c\"]\n",
    "t2 = [\"d\", \"e\"]\n",
    "\n",
    "t1.extend(t2)\n",
    "print(t1)\n",
    "\n",
    "#this leaves t2 unmodified"
   ]
  },
  {
   "cell_type": "code",
   "execution_count": 22,
   "metadata": {},
   "outputs": [
    {
     "name": "stdout",
     "output_type": "stream",
     "text": [
      "['a', 'b', 'c', 'd', 'e']\n"
     ]
    }
   ],
   "source": [
    "#sort arranges element for list from low to high:\n",
    "\n",
    "t = [\"d\", \"c\", \"e\", \"b\", \"a\"]\n",
    "t.sort()\n",
    "print(t)"
   ]
  },
  {
   "cell_type": "code",
   "execution_count": 23,
   "metadata": {},
   "outputs": [
    {
     "name": "stdout",
     "output_type": "stream",
     "text": [
      "['a', 'c']\n"
     ]
    }
   ],
   "source": [
    "#8.7 deleting elements\n",
    "\n",
    "#many ways to delete element in the list\n",
    "#if know the index, can use pop\n",
    "\n",
    "#pop\n",
    "t = [\"a\", \"b\", \"c\"]\n",
    "x = t.pop(1)\n",
    "print(t)"
   ]
  },
  {
   "cell_type": "code",
   "execution_count": 24,
   "metadata": {},
   "outputs": [
    {
     "name": "stdout",
     "output_type": "stream",
     "text": [
      "b\n"
     ]
    }
   ],
   "source": [
    "print(x)\n",
    "\n",
    "#the value of the pop\n",
    "\n",
    "#pop modified the list and returns the element"
   ]
  },
  {
   "cell_type": "code",
   "execution_count": 25,
   "metadata": {},
   "outputs": [
    {
     "name": "stdout",
     "output_type": "stream",
     "text": [
      "['a', 'c']\n"
     ]
    }
   ],
   "source": [
    "#if want to delete permanently use del function\n",
    "\n",
    "#del using index\n",
    "t = [\"a\", \"b\", \"c\"]\n",
    "del t[1]\n",
    "print(t)"
   ]
  },
  {
   "cell_type": "code",
   "execution_count": 26,
   "metadata": {},
   "outputs": [
    {
     "name": "stdout",
     "output_type": "stream",
     "text": [
      "['a', 'c']\n"
     ]
    }
   ],
   "source": [
    "#remove the \"value\"\n",
    "\n",
    "t = [\"a\", \"b\", \"c\"]\n",
    "t.remove(\"b\")\n",
    "print(t)\n",
    "\n",
    "#return value from remove is None\n"
   ]
  },
  {
   "cell_type": "code",
   "execution_count": 27,
   "metadata": {},
   "outputs": [
    {
     "name": "stdout",
     "output_type": "stream",
     "text": [
      "['a', 'f']\n"
     ]
    }
   ],
   "source": [
    "#remove more than one element, use del with slice index\n",
    "\n",
    "t = [\"a\", \"b\", \"c\", \"d\", \"e\", \"f\"]\n",
    "del t[1:5]\n",
    "print(t)"
   ]
  },
  {
   "cell_type": "code",
   "execution_count": 30,
   "metadata": {},
   "outputs": [
    {
     "name": "stdout",
     "output_type": "stream",
     "text": [
      "6\n",
      "74\n",
      "3\n",
      "154\n",
      "25.666666666666668\n"
     ]
    }
   ],
   "source": [
    "#8.8 lists and functions\n",
    "#built-in functions can be used on list that allow\n",
    "\n",
    "nums = [3, 41, 12, 9, 74, 15]\n",
    "print(len(nums))\n",
    "print(max(nums))\n",
    "print(min(nums))\n",
    "print(sum(nums))\n",
    "print(sum(nums)/len(nums))"
   ]
  },
  {
   "cell_type": "code",
   "execution_count": 31,
   "metadata": {},
   "outputs": [
    {
     "name": "stdout",
     "output_type": "stream",
     "text": [
      "Enter a number:   5\n",
      "Enter a number:   2\n",
      "Enter a number:   8\n",
      "Enter a number:   done\n",
      "Average:  5.0\n"
     ]
    }
   ],
   "source": [
    "#e program to compute an average without a list:\n",
    "\n",
    "total = 0\n",
    "count = 0\n",
    "while (True):\n",
    "    inp = input('Enter a number:   ')\n",
    "    if inp == \"done\" :break\n",
    "    value = float(inp)\n",
    "    total += value\n",
    "    count += 1\n",
    "    \n",
    "average = total/count\n",
    "print(\"Average: \", average)"
   ]
  },
  {
   "cell_type": "code",
   "execution_count": null,
   "metadata": {},
   "outputs": [],
   "source": [
    "# a more simpler method\n",
    "\n",
    "numlist = list()\n",
    "while (True):\n",
    "    inp = input(\"Enter a number:   \")\n",
    "    if inp == \"done\" : break\n",
    "    value = float(inp)\n",
    "    numlist.append(value)\n",
    "        \n",
    "average = sum(numlist)/ len(numlist)\n",
    "print(\"Average: \", average)\n"
   ]
  },
  {
   "cell_type": "code",
   "execution_count": 1,
   "metadata": {},
   "outputs": [
    {
     "name": "stdout",
     "output_type": "stream",
     "text": [
      "['s', 'p', 'a', 'm']\n"
     ]
    }
   ],
   "source": [
    "#8.9 Lists and  strings\n",
    "\n",
    "s = \"spam\"\n",
    "t = list(s)\n",
    "print(t)\n",
    "\n",
    "#list split the string into characters"
   ]
  },
  {
   "cell_type": "code",
   "execution_count": 5,
   "metadata": {},
   "outputs": [
    {
     "name": "stdout",
     "output_type": "stream",
     "text": [
      "['pining', 'for', 'the', 'fjords']\n",
      "the\n"
     ]
    }
   ],
   "source": [
    "#split change the string into words\n",
    "\n",
    "s = \"pining for the fjords\"\n",
    "t = s.split()\n",
    "print(t)\n",
    "print(t[2])\n",
    "\n",
    "#use index operator to look at a particular word"
   ]
  },
  {
   "cell_type": "code",
   "execution_count": 7,
   "metadata": {},
   "outputs": [
    {
     "data": {
      "text/plain": [
       "['spam', 'spam', 'spam']"
      ]
     },
     "execution_count": 7,
     "metadata": {},
     "output_type": "execute_result"
    }
   ],
   "source": [
    "#combine split with a delimiter\n",
    "\n",
    "#delimiter identify which character to use as word boundaries\n",
    "x = \"spam-spam-spam\"\n",
    "delimiter = \"-\"\n",
    "x.split(delimiter)"
   ]
  },
  {
   "cell_type": "code",
   "execution_count": 10,
   "metadata": {},
   "outputs": [
    {
     "data": {
      "text/plain": [
       "'pining for the fjords'"
      ]
     },
     "execution_count": 10,
     "metadata": {},
     "output_type": "execute_result"
    }
   ],
   "source": [
    "#join is the inverse of split\n",
    "#t = [\"pining\" , \"for\" , \"the\", \"fjords\"]\n",
    "\n",
    "#delimiter identify which character to use as word boundaries\n",
    "\n",
    "t = ['pining', 'for', 'the', 'fjords']\n",
    "delimiter = \" \"\n",
    "delimiter.join(t)\n",
    "\n",
    "#in this case delimiter is a space character, so joing puts a space \" \""
   ]
  },
  {
   "cell_type": "code",
   "execution_count": 1,
   "metadata": {},
   "outputs": [
    {
     "ename": "AttributeError",
     "evalue": "'str' object has no attribute 'startwith'",
     "output_type": "error",
     "traceback": [
      "\u001b[1;31m---------------------------------------------------------------------------\u001b[0m",
      "\u001b[1;31mAttributeError\u001b[0m                            Traceback (most recent call last)",
      "\u001b[1;32m<ipython-input-1-7a20e29256a3>\u001b[0m in \u001b[0;36m<module>\u001b[1;34m\u001b[0m\n\u001b[0;32m      7\u001b[0m \u001b[1;32mfor\u001b[0m \u001b[0mline\u001b[0m \u001b[1;32min\u001b[0m \u001b[0mfhand\u001b[0m\u001b[1;33m:\u001b[0m\u001b[1;33m\u001b[0m\u001b[1;33m\u001b[0m\u001b[0m\n\u001b[0;32m      8\u001b[0m     \u001b[0mline\u001b[0m \u001b[1;33m=\u001b[0m \u001b[0mline\u001b[0m\u001b[1;33m.\u001b[0m\u001b[0mrstrip\u001b[0m\u001b[1;33m(\u001b[0m\u001b[1;33m)\u001b[0m\u001b[1;33m\u001b[0m\u001b[1;33m\u001b[0m\u001b[0m\n\u001b[1;32m----> 9\u001b[1;33m     \u001b[1;32mif\u001b[0m \u001b[1;32mnot\u001b[0m \u001b[0mline\u001b[0m\u001b[1;33m.\u001b[0m\u001b[0mstartwith\u001b[0m\u001b[1;33m(\u001b[0m\u001b[1;34m\"From \"\u001b[0m\u001b[1;33m)\u001b[0m\u001b[1;33m:\u001b[0m \u001b[1;32mcontinue\u001b[0m\u001b[1;33m\u001b[0m\u001b[1;33m\u001b[0m\u001b[0m\n\u001b[0m\u001b[0;32m     10\u001b[0m     \u001b[0mwords\u001b[0m \u001b[1;33m=\u001b[0m \u001b[0mline\u001b[0m\u001b[1;33m.\u001b[0m\u001b[0msplit\u001b[0m\u001b[1;33m(\u001b[0m\u001b[1;33m)\u001b[0m\u001b[1;33m\u001b[0m\u001b[1;33m\u001b[0m\u001b[0m\n\u001b[0;32m     11\u001b[0m     \u001b[0mprint\u001b[0m\u001b[1;33m(\u001b[0m\u001b[0mwords\u001b[0m\u001b[1;33m[\u001b[0m\u001b[1;36m2\u001b[0m\u001b[1;33m]\u001b[0m\u001b[1;33m)\u001b[0m\u001b[1;33m\u001b[0m\u001b[1;33m\u001b[0m\u001b[0m\n",
      "\u001b[1;31mAttributeError\u001b[0m: 'str' object has no attribute 'startwith'"
     ]
    }
   ],
   "source": [
    "#8.10 Parsing lines\n",
    "#find section of the file to find interesting part of the lines\n",
    "\n",
    "# From stephen.marquard@uct.ac.za Sat Jan 5 09:14:16 2008\n",
    "\n",
    "fhand = open(\"mbox-short.txt\")\n",
    "for line in fhand:\n",
    "    line = line.rstrip()\n",
    "    if not line.startwith(\"From\"): continue\n",
    "    words = line.split()\n",
    "    print(words[2])"
   ]
  },
  {
   "cell_type": "code",
   "execution_count": 13,
   "metadata": {},
   "outputs": [
    {
     "data": {
      "text/plain": [
       "True"
      ]
     },
     "execution_count": 13,
     "metadata": {},
     "output_type": "execute_result"
    }
   ],
   "source": [
    "#8.11 objects and values\n",
    "\n",
    "a = \"banana\"\n",
    "b = \"banana\"\n",
    "\n",
    "a is b\n",
    "\n",
    "#same string, same object"
   ]
  },
  {
   "cell_type": "code",
   "execution_count": 14,
   "metadata": {},
   "outputs": [
    {
     "data": {
      "text/plain": [
       "False"
      ]
     },
     "execution_count": 14,
     "metadata": {},
     "output_type": "execute_result"
    }
   ],
   "source": [
    "a = [1, 2, 3]\n",
    "b = [1, 2, 3]\n",
    "\n",
    "a is b\n",
    "#same list, different object"
   ]
  },
  {
   "cell_type": "code",
   "execution_count": 15,
   "metadata": {},
   "outputs": [
    {
     "data": {
      "text/plain": [
       "True"
      ]
     },
     "execution_count": 15,
     "metadata": {},
     "output_type": "execute_result"
    }
   ],
   "source": [
    "#8.12 Aliasing\n",
    "\n",
    "a = [1, 2, 3]\n",
    "b = a\n",
    "b is a"
   ]
  },
  {
   "cell_type": "code",
   "execution_count": 16,
   "metadata": {},
   "outputs": [
    {
     "name": "stdout",
     "output_type": "stream",
     "text": [
      "[17, 2, 3]\n"
     ]
    }
   ],
   "source": [
    "#as b = a, changes to b means changes to a\n",
    "\n",
    "b[0] = 17\n",
    "print(a)\n",
    "#this is for list\n"
   ]
  },
  {
   "cell_type": "code",
   "execution_count": 17,
   "metadata": {},
   "outputs": [
    {
     "name": "stdout",
     "output_type": "stream",
     "text": [
      "['b', 'c']\n"
     ]
    }
   ],
   "source": [
    "#8.13 List Arguments\n",
    "\n",
    "def delete_head(t):\n",
    "    del t[0]\n",
    "    \n",
    "#this is a function created for strings\n",
    "\n",
    "letters = [\"a\", \"b\", \"c\"]\n",
    "delete_head(letters)\n",
    "print(letters)"
   ]
  },
  {
   "cell_type": "code",
   "execution_count": 20,
   "metadata": {},
   "outputs": [
    {
     "name": "stdout",
     "output_type": "stream",
     "text": [
      "[1, 2, 3]\n",
      "None\n"
     ]
    }
   ],
   "source": [
    "#joining list => append method modifies a list\n",
    "\n",
    "t1 = [1, 2]\n",
    "t2 = t1.append(3)\n",
    "print(t1) #create a new list\n",
    "\n",
    "print(t2) #no value"
   ]
  },
  {
   "cell_type": "code",
   "execution_count": 24,
   "metadata": {},
   "outputs": [
    {
     "name": "stdout",
     "output_type": "stream",
     "text": [
      "[1, 2, 3]\n"
     ]
    },
    {
     "data": {
      "text/plain": [
       "False"
      ]
     },
     "execution_count": 24,
     "metadata": {},
     "output_type": "execute_result"
    }
   ],
   "source": [
    "#joining list => concantate add to make new list\n",
    "\n",
    "t1 = [1, 2]\n",
    "t3 = t1 + [3]\n",
    "print(t3)\n",
    "\n",
    "\n",
    "t2 is t3\n",
    "#this is because list are not the same object"
   ]
  },
  {
   "cell_type": "code",
   "execution_count": 26,
   "metadata": {},
   "outputs": [
    {
     "name": "stdout",
     "output_type": "stream",
     "text": [
      "['b', 'c']\n"
     ]
    }
   ],
   "source": [
    "def tail(t):\n",
    "    return t[1:]\n",
    "\n",
    "#this function leaves the original list unmodified\n",
    "\n",
    "letters = [\"a\", \"b\", \"c\"]\n",
    "rest = tail(letters)\n",
    "print(rest)"
   ]
  },
  {
   "cell_type": "code",
   "execution_count": 12,
   "metadata": {},
   "outputs": [],
   "source": [
    "#Write a function called chop that takes a list and modiﬁes it, \n",
    "#removing the ﬁrst and last elements, and returns None.\n",
    "\n",
    "xline = [\"a\", \"b\", \"c\", \"5\"]\n",
    "\n",
    "def chop(t):\n",
    "    del t[0]\n",
    "    del t[-1]\n",
    "    \n",
    "chop(xline)"
   ]
  },
  {
   "cell_type": "code",
   "execution_count": 11,
   "metadata": {},
   "outputs": [
    {
     "name": "stdout",
     "output_type": "stream",
     "text": [
      "['b', 'c']\n"
     ]
    }
   ],
   "source": [
    "#Then write a function called middle that\n",
    "#takes a list and returns a new list that\n",
    "#contains all but the ﬁrst and last elements\n",
    "\n",
    "xline = [\"a\", \"b\", \"c\", \"5\"]\n",
    "\n",
    "def middle(t):\n",
    "    t.pop(0)\n",
    "    t.pop(-1)\n",
    "    \n",
    "chop(xline)\n",
    "print(xline)"
   ]
  },
  {
   "cell_type": "code",
   "execution_count": 15,
   "metadata": {},
   "outputs": [
    {
     "ename": "TypeError",
     "evalue": "'str' object doesn't support item deletion",
     "output_type": "error",
     "traceback": [
      "\u001b[1;31m---------------------------------------------------------------------------\u001b[0m",
      "\u001b[1;31mTypeError\u001b[0m                                 Traceback (most recent call last)",
      "\u001b[1;32m<ipython-input-15-e70ef63f9bc0>\u001b[0m in \u001b[0;36m<module>\u001b[1;34m\u001b[0m\n\u001b[0;32m      8\u001b[0m     \u001b[1;32mreturn\u001b[0m \u001b[0mnew\u001b[0m\u001b[1;33m\u001b[0m\u001b[1;33m\u001b[0m\u001b[0m\n\u001b[0;32m      9\u001b[0m \u001b[1;33m\u001b[0m\u001b[0m\n\u001b[1;32m---> 10\u001b[1;33m \u001b[0mmiddle\u001b[0m\u001b[1;33m(\u001b[0m\u001b[0mxline\u001b[0m\u001b[1;33m)\u001b[0m\u001b[1;33m\u001b[0m\u001b[1;33m\u001b[0m\u001b[0m\n\u001b[0m",
      "\u001b[1;32m<ipython-input-15-e70ef63f9bc0>\u001b[0m in \u001b[0;36mmiddle\u001b[1;34m(t)\u001b[0m\n\u001b[0;32m      5\u001b[0m \u001b[1;32mdef\u001b[0m \u001b[0mmiddle\u001b[0m\u001b[1;33m(\u001b[0m\u001b[0mt\u001b[0m\u001b[1;33m)\u001b[0m\u001b[1;33m:\u001b[0m\u001b[1;33m\u001b[0m\u001b[1;33m\u001b[0m\u001b[0m\n\u001b[0;32m      6\u001b[0m     \u001b[0mnew\u001b[0m \u001b[1;33m=\u001b[0m \u001b[0mt\u001b[0m\u001b[1;33m[\u001b[0m\u001b[1;36m0\u001b[0m\u001b[1;33m]\u001b[0m\u001b[1;33m\u001b[0m\u001b[1;33m\u001b[0m\u001b[0m\n\u001b[1;32m----> 7\u001b[1;33m     \u001b[1;32mdel\u001b[0m \u001b[0mnew\u001b[0m\u001b[1;33m[\u001b[0m\u001b[1;33m-\u001b[0m\u001b[1;36m1\u001b[0m\u001b[1;33m]\u001b[0m\u001b[1;33m\u001b[0m\u001b[1;33m\u001b[0m\u001b[0m\n\u001b[0m\u001b[0;32m      8\u001b[0m     \u001b[1;32mreturn\u001b[0m \u001b[0mnew\u001b[0m\u001b[1;33m\u001b[0m\u001b[1;33m\u001b[0m\u001b[0m\n\u001b[0;32m      9\u001b[0m \u001b[1;33m\u001b[0m\u001b[0m\n",
      "\u001b[1;31mTypeError\u001b[0m: 'str' object doesn't support item deletion"
     ]
    }
   ],
   "source": [
    "#alternate solution\n",
    "\n",
    "xline = [\"a\", \"b\", \"c\", \"5\"]\n",
    "\n",
    "def middle(t):\n",
    "    new = t[0]\n",
    "    del new[-1]\n",
    "    return new\n",
    "    \n",
    "middle(xline)\n"
   ]
  },
  {
   "cell_type": "code",
   "execution_count": 6,
   "metadata": {},
   "outputs": [
    {
     "name": "stdout",
     "output_type": "stream",
     "text": [
      "Enter file:  romeo.txt\n",
      "['Arise', 'But', 'It', 'Juliet', 'Who', 'already', 'and', 'breaks', 'east', 'envious', 'fair', 'grief', 'is', 'kill', 'light', 'moon', 'pale', 'sick', 'soft', 'sun', 'the', 'through', 'what', 'window', 'with', 'yonder']\n"
     ]
    }
   ],
   "source": [
    "#8.16 exercises\n",
    "\n",
    "#exercise 4\n",
    "\n",
    "fname = input('Enter file:  ')\n",
    "\n",
    "fhand = open(fname)\n",
    "\n",
    "rlst = list()\n",
    "\n",
    "for line in fhand:\n",
    "    words = line.split()\n",
    "    for word in words:\n",
    "        if word in rlst:\n",
    "            continue\n",
    "        rlst.append(word)\n",
    "print(sorted(rlst))\n",
    "    "
   ]
  },
  {
   "cell_type": "code",
   "execution_count": 8,
   "metadata": {},
   "outputs": [
    {
     "name": "stdout",
     "output_type": "stream",
     "text": [
      "Enter file:  mbox-short.txt\n",
      "stephen.marquard@uct.ac.za\n",
      "louis@media.berkeley.edu\n",
      "zqian@umich.edu\n",
      "rjlowe@iupui.edu\n",
      "zqian@umich.edu\n",
      "rjlowe@iupui.edu\n",
      "cwen@iupui.edu\n",
      "cwen@iupui.edu\n",
      "gsilver@umich.edu\n",
      "gsilver@umich.edu\n",
      "zqian@umich.edu\n",
      "gsilver@umich.edu\n",
      "wagnermr@iupui.edu\n",
      "zqian@umich.edu\n",
      "antranig@caret.cam.ac.uk\n",
      "gopal.ramasammycook@gmail.com\n",
      "david.horwitz@uct.ac.za\n",
      "david.horwitz@uct.ac.za\n",
      "david.horwitz@uct.ac.za\n",
      "david.horwitz@uct.ac.za\n",
      "stephen.marquard@uct.ac.za\n",
      "louis@media.berkeley.edu\n",
      "louis@media.berkeley.edu\n",
      "ray@media.berkeley.edu\n",
      "cwen@iupui.edu\n",
      "cwen@iupui.edu\n",
      "cwen@iupui.edu\n",
      "There were 27 lines in the file with From as the first word\n"
     ]
    }
   ],
   "source": [
    "#8.16 exercises\n",
    "\n",
    "#exercise 5\n",
    "fname = input('Enter file:  ')\n",
    "\n",
    "fhand = open(fname)\n",
    "\n",
    "count = 0\n",
    "\n",
    "for line in fhand:\n",
    "    words = line.split()\n",
    "    if len(words) <3 or words[0] != 'From':\n",
    "        continue\n",
    "    print(words[1])\n",
    "    count += 1\n",
    "    \n",
    "print('There were', count, 'lines in the file with From as the first word')\n",
    "        "
   ]
  },
  {
   "cell_type": "code",
   "execution_count": 9,
   "metadata": {},
   "outputs": [
    {
     "name": "stdout",
     "output_type": "stream",
     "text": [
      "Enter a number: 6\n",
      "Enter a number: 2\n",
      "Enter a number: 9\n",
      "Enter a number: 3\n",
      "Enter a number: 5\n",
      "Enter a number: done\n",
      "average:  5.0\n",
      "Maximum:  9.0\n",
      "Minimum:  2.0\n"
     ]
    }
   ],
   "source": [
    "#8.16 exercises\n",
    "\n",
    "#exercise 6\n",
    "\n",
    "numlist = list()\n",
    "\n",
    "while True:\n",
    "    inp = input('Enter a number: ')\n",
    "    if inp == 'done' : break\n",
    "    value = float(inp)\n",
    "    numlist.append(value)\n",
    "    \n",
    "average = sum(numlist)/len(numlist)\n",
    "\n",
    "print('average: ', average)\n",
    "print('Maximum: ', max(numlist))\n",
    "print('Minimum: ', min(numlist))"
   ]
  },
  {
   "cell_type": "code",
   "execution_count": null,
   "metadata": {},
   "outputs": [],
   "source": []
  }
 ],
 "metadata": {
  "kernelspec": {
   "display_name": "Python 3",
   "language": "python",
   "name": "python3"
  },
  "language_info": {
   "codemirror_mode": {
    "name": "ipython",
    "version": 3
   },
   "file_extension": ".py",
   "mimetype": "text/x-python",
   "name": "python",
   "nbconvert_exporter": "python",
   "pygments_lexer": "ipython3",
   "version": "3.7.6"
  }
 },
 "nbformat": 4,
 "nbformat_minor": 4
}
