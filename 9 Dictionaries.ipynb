{
 "cells": [
  {
   "cell_type": "code",
   "execution_count": 1,
   "metadata": {},
   "outputs": [
    {
     "name": "stdout",
     "output_type": "stream",
     "text": [
      "{}\n"
     ]
    }
   ],
   "source": [
    "#dictionary is like a list but more general\n",
    "#in a list, the index positions must be integers\n",
    "\n",
    "#in dictionary, the indices can be almost any type\n",
    "#dictionary is a mapping between a set of indices => keys and a set of valyes\n",
    "#each key maps to a value\n",
    "#the association  is called key-value pair or an item\n",
    "\n",
    "#example : build a dictionary that maps from English to Spanish\n",
    "\n",
    "#function [dict] creates a dictionary with no items\n",
    "#[dict] is a built-in function\n",
    "\n",
    "eng2sp = dict()   #empty dictionary\n",
    "print(eng2sp)\n",
    "\n",
    "#this means eng2sp has an empty dictionary {}\n",
    "#made eng2sp become dictionary"
   ]
  },
  {
   "cell_type": "code",
   "execution_count": 2,
   "metadata": {},
   "outputs": [
    {
     "name": "stdout",
     "output_type": "stream",
     "text": [
      "{'one': 'uno'}\n"
     ]
    }
   ],
   "source": [
    "#to add items to dictionary, use square brackets\n",
    "\n",
    "eng2sp[\"one\"] = 'uno'  #=> item\n",
    "       #key      #value\n",
    "\n",
    "#this creates an item from the key \"one\" to value 'uno'\n",
    "#if print the dictionary again, will see the key-value pair with colon\n",
    "\n",
    "print(eng2sp)"
   ]
  },
  {
   "cell_type": "code",
   "execution_count": 3,
   "metadata": {},
   "outputs": [
    {
     "name": "stdout",
     "output_type": "stream",
     "text": [
      "{'one': 'uno', 'two': 'dors', 'three': 'tres'}\n"
     ]
    }
   ],
   "source": [
    "#the output format is also the input format for [dict]\n",
    "\n",
    "eng2sp = {'one':'uno' , 'two':'dors' , 'three':'tres'}\n",
    "print(eng2sp)\n",
    "\n",
    "#the order of the key-value pairs are not the same\n",
    "#order of items are unpredictable as they are not number index"
   ]
  },
  {
   "cell_type": "code",
   "execution_count": 5,
   "metadata": {},
   "outputs": [
    {
     "name": "stdout",
     "output_type": "stream",
     "text": [
      "dors\n"
     ]
    }
   ],
   "source": [
    "#use keys to lookup corresponding values\n",
    "\n",
    "print(eng2sp['two'])\n",
    "\n",
    "#['two'] will always map to 'dors', so the order of the items doesn't matter"
   ]
  },
  {
   "cell_type": "code",
   "execution_count": 6,
   "metadata": {},
   "outputs": [
    {
     "ename": "KeyError",
     "evalue": "'four'",
     "output_type": "error",
     "traceback": [
      "\u001b[1;31m---------------------------------------------------------------------------\u001b[0m",
      "\u001b[1;31mKeyError\u001b[0m                                  Traceback (most recent call last)",
      "\u001b[1;32m<ipython-input-6-0c5b4554d872>\u001b[0m in \u001b[0;36m<module>\u001b[1;34m\u001b[0m\n\u001b[1;32m----> 1\u001b[1;33m \u001b[0mprint\u001b[0m\u001b[1;33m(\u001b[0m\u001b[0meng2sp\u001b[0m\u001b[1;33m[\u001b[0m\u001b[1;34m'four'\u001b[0m\u001b[1;33m]\u001b[0m\u001b[1;33m)\u001b[0m\u001b[1;33m\u001b[0m\u001b[1;33m\u001b[0m\u001b[0m\n\u001b[0m",
      "\u001b[1;31mKeyError\u001b[0m: 'four'"
     ]
    }
   ],
   "source": [
    "print(eng2sp['four'])\n",
    "\n",
    "#error because key does not exist"
   ]
  },
  {
   "cell_type": "code",
   "execution_count": 7,
   "metadata": {},
   "outputs": [
    {
     "data": {
      "text/plain": [
       "3"
      ]
     },
     "execution_count": 7,
     "metadata": {},
     "output_type": "execute_result"
    }
   ],
   "source": [
    "#use len function on dictionaries\n",
    "\n",
    "len(eng2sp)\n",
    "\n",
    "#return the number of key-value pairs"
   ]
  },
  {
   "cell_type": "code",
   "execution_count": 10,
   "metadata": {},
   "outputs": [
    {
     "data": {
      "text/plain": [
       "True"
      ]
     },
     "execution_count": 10,
     "metadata": {},
     "output_type": "execute_result"
    }
   ],
   "source": [
    "#[in] operator works in dictionary.\n",
    "#check if key appears in dictionary, cannot check for value\n",
    "\n",
    "\"one\" in eng2sp\n",
    "\n",
    "#[\"one\"] is a key"
   ]
  },
  {
   "cell_type": "code",
   "execution_count": 11,
   "metadata": {},
   "outputs": [
    {
     "data": {
      "text/plain": [
       "False"
      ]
     },
     "execution_count": 11,
     "metadata": {},
     "output_type": "execute_result"
    }
   ],
   "source": [
    "\"uno\" in eng2sp\n",
    "\n",
    "#\"uno\" is a value"
   ]
  },
  {
   "cell_type": "code",
   "execution_count": 14,
   "metadata": {
    "scrolled": true
   },
   "outputs": [
    {
     "data": {
      "text/plain": [
       "True"
      ]
     },
     "execution_count": 14,
     "metadata": {},
     "output_type": "execute_result"
    }
   ],
   "source": [
    "#to see if a value appears in dictionary, use [values] method\n",
    "\n",
    "vals = list(eng2sp.values())  #arrange by values into list\n",
    "\"uno\" in vals\n",
    "#values   #list converted to value"
   ]
  },
  {
   "cell_type": "code",
   "execution_count": 13,
   "metadata": {},
   "outputs": [
    {
     "name": "stdout",
     "output_type": "stream",
     "text": [
      "{'b': 1, 'r': 2, 'o': 2, 'n': 1, 't': 1, 's': 2, 'a': 1, 'u': 2}\n"
     ]
    }
   ],
   "source": [
    "#9.1 Dictionary as a set of counters\n",
    "\n",
    "word = \"brontosaurus\"\n",
    "d = dict()\n",
    "\n",
    "for c in word:\n",
    "    if c not in d:\n",
    "        d[c] = 1\n",
    "    else:\n",
    "        d[c] = d[c] + 1\n",
    "\n",
    "print(d)\n",
    "\n",
    "#creating a histogram, a statistical term for counters/ frequencies"
   ]
  },
  {
   "cell_type": "code",
   "execution_count": 19,
   "metadata": {},
   "outputs": [
    {
     "name": "stdout",
     "output_type": "stream",
     "text": [
      "100\n"
     ]
    }
   ],
   "source": [
    "#dictionaries have method called get that takes a key and a default value\n",
    "\n",
    "counts = {'chuck': 1 , 'annie': 43, 'jane': 100}\n",
    "    \n",
    "print(counts.get('jane',0))\n",
    "      #dict  #method #key"
   ]
  },
  {
   "cell_type": "code",
   "execution_count": 16,
   "metadata": {},
   "outputs": [
    {
     "ename": "NameError",
     "evalue": "name 'counts' is not defined",
     "output_type": "error",
     "traceback": [
      "\u001b[1;31m---------------------------------------------------------------------------\u001b[0m",
      "\u001b[1;31mNameError\u001b[0m                                 Traceback (most recent call last)",
      "\u001b[1;32m<ipython-input-16-cee8371a4a94>\u001b[0m in \u001b[0;36m<module>\u001b[1;34m\u001b[0m\n\u001b[1;32m----> 1\u001b[1;33m \u001b[0mprint\u001b[0m\u001b[1;33m(\u001b[0m\u001b[0mcounts\u001b[0m\u001b[1;33m.\u001b[0m\u001b[0mget\u001b[0m\u001b[1;33m(\u001b[0m\u001b[1;34m'tim'\u001b[0m\u001b[1;33m,\u001b[0m\u001b[1;36m0\u001b[0m\u001b[1;33m)\u001b[0m\u001b[1;33m)\u001b[0m\u001b[1;33m\u001b[0m\u001b[1;33m\u001b[0m\u001b[0m\n\u001b[0m",
      "\u001b[1;31mNameError\u001b[0m: name 'counts' is not defined"
     ]
    }
   ],
   "source": [
    "print(counts.get('tim',0))\n",
    "\n",
    "#tim doesnt exist as a keyfname = input('Please enter File name:   ')\n",
    "fhand = open(fname)"
   ]
  },
  {
   "cell_type": "code",
   "execution_count": 4,
   "metadata": {},
   "outputs": [
    {
     "name": "stdout",
     "output_type": "stream",
     "text": [
      "Please enter File name:   romeo.txt\n",
      "{'But': 1, 'soft': 1, 'what': 1, 'light': 1, 'through': 1, 'yonder': 1, 'window': 1, 'breaks': 1, 'It': 1, 'is': 3, 'the': 3, 'east': 1, 'and': 3, 'Juliet': 1, 'sun': 2, 'Arise': 1, 'fair': 1, 'kill': 1, 'envious': 1, 'moon': 1, 'Who': 1, 'already': 1, 'sick': 1, 'pale': 1, 'with': 1, 'grief': 1}\n",
      "\n",
      "is 3\n",
      "the 3\n",
      "and 3\n",
      "sun 2\n"
     ]
    }
   ],
   "source": [
    "fname = input('Please enter File name:   ')\n",
    "fhand = open(fname)\n",
    "\n",
    "d = dict()\n",
    "\n",
    "for line in fhand:\n",
    "    words = line.split()\n",
    "    for word in words:\n",
    "        if word not in d:\n",
    "            d[word] = 1\n",
    "        else:\n",
    "            d[word] += 1\n",
    "            \n",
    "print(d)\n",
    "#print in dictionary format\n",
    "\n",
    "print()\n",
    "for word in d:\n",
    "    if d[word]>1:\n",
    "        print(word, d[word])"
   ]
  },
  {
   "cell_type": "code",
   "execution_count": 8,
   "metadata": {},
   "outputs": [
    {
     "name": "stdout",
     "output_type": "stream",
     "text": [
      "{'b': 1, 'r': 2, 'o': 2, 'n': 1, 't': 1, 's': 2, 'a': 1, 'u': 2}\n",
      "1 b\n",
      "2 r\n",
      "2 o\n",
      "1 n\n",
      "1 t\n",
      "2 s\n",
      "1 a\n",
      "2 u\n",
      "\n",
      "[(2, 'u'), (2, 's'), (2, 'r'), (2, 'o'), (1, 't'), (1, 'n'), (1, 'b'), (1, 'a')]\n"
     ]
    }
   ],
   "source": [
    "#use (get) to write our histogram loop\n",
    "#get method automatically handles the case where a key is not in dictionary\n",
    "#no need to use if statement\n",
    "\n",
    "word = 'brontosaurus'\n",
    "d = dict()\n",
    "for c in word:\n",
    "    d[c] = d.get(c,0) + 1\n",
    "print(d)\n",
    "\n",
    "t = list(d.items())\n",
    "\n",
    "for key, value in t:\n",
    "    print(value, key)\n",
    "    \n",
    "print()\n",
    "\n",
    "y= list()\n",
    "\n",
    "for key, value in t:\n",
    "    y.append((value ,key))\n",
    "    \n",
    "y.sort(reverse = True)\n",
    "\n",
    "print(y)"
   ]
  },
  {
   "cell_type": "code",
   "execution_count": 3,
   "metadata": {},
   "outputs": [
    {
     "name": "stdout",
     "output_type": "stream",
     "text": [
      "Enter the file name:  romeo.txt\n",
      "{'But': 1, 'soft': 1, 'what': 1, 'light': 1, 'through': 1, 'yonder': 1, 'window': 1, 'breaks': 1, 'It': 1, 'is': 3, 'the': 3, 'east': 1, 'and': 3, 'Juliet': 1, 'sun': 2, 'Arise': 1, 'fair': 1, 'kill': 1, 'envious': 1, 'moon': 1, 'Who': 1, 'already': 1, 'sick': 1, 'pale': 1, 'with': 1, 'grief': 1}\n"
     ]
    }
   ],
   "source": [
    "#9.2 dictionaries and files\n",
    "\n",
    "#common uses of dictionary to count occurance of word\n",
    "#outer loop reads the file\n",
    "#innter loop iterating through each of the words\n",
    "#nested loops => outer loop and inner loop\n",
    "\n",
    "fname = input ('Enter the file name:  ')\n",
    "\n",
    "try:\n",
    "    fhand = open(fname)\n",
    "except:\n",
    "    print('File cannot be opened: ', fname)\n",
    "    exit()\n",
    "\n",
    "counts = dict() #create a empty dictionary\n",
    "\n",
    "for line in fhand:\n",
    "    words = line.split()\n",
    "    for word in words:\n",
    "        if word not in counts:\n",
    "            counts[word] = 1\n",
    "        else:\n",
    "            counts[word] += 1\n",
    "            \n",
    "print(counts)"
   ]
  },
  {
   "cell_type": "code",
   "execution_count": 2,
   "metadata": {},
   "outputs": [
    {
     "name": "stdout",
     "output_type": "stream",
     "text": [
      "chuck 1\n",
      "annie 2\n",
      "jane 3\n"
     ]
    }
   ],
   "source": [
    "#9.3 looping and dictionaries\n",
    "\n",
    "#for statements in dictionary\n",
    "\n",
    "counts = {'chuck':1 , 'annie':2, 'jane':3}\n",
    "for key in counts:\n",
    "    print( key, counts[key])\n",
    "    \n",
    "#they are not in a particular order"
   ]
  },
  {
   "cell_type": "code",
   "execution_count": 3,
   "metadata": {},
   "outputs": [
    {
     "name": "stdout",
     "output_type": "stream",
     "text": [
      "annie 42\n",
      "jane 103\n"
     ]
    }
   ],
   "source": [
    "counts = {'chuck':1 , 'annie':42, 'jane':103}\n",
    "\n",
    "for key in counts:\n",
    "    if counts[key] > 10:\n",
    "        print(key, counts[key])"
   ]
  },
  {
   "cell_type": "code",
   "execution_count": 2,
   "metadata": {},
   "outputs": [
    {
     "name": "stdout",
     "output_type": "stream",
     "text": [
      "['chuck', 'annie', 'jan']\n",
      "annie 42\n",
      "chuck 1\n",
      "jan 100\n"
     ]
    }
   ],
   "source": [
    "#make sure the dict go by an alphabetical order\n",
    "#make into list and arrange by keys method\n",
    "\n",
    "counts = {'chuck':1, 'annie':42, 'jan':100}  #each key has a value\n",
    "lst = list(counts. keys())  #arrange by keys into list\n",
    "print(lst)                  #print out the list\n",
    "lst.sort()                  #sort the list by alphabetical order\n",
    "\n",
    "for key in lst:\n",
    "    print(key, counts[key])    \n",
    "    "
   ]
  },
  {
   "cell_type": "code",
   "execution_count": 9,
   "metadata": {},
   "outputs": [
    {
     "name": "stdout",
     "output_type": "stream",
     "text": [
      "['chuck', 'annie', 'jan']\n",
      "jan 100\n",
      "chuck 1\n",
      "annie 42\n"
     ]
    }
   ],
   "source": [
    "counts = {'chuck':1, 'annie':42, 'jan':100}\n",
    "lst =list(counts.keys())\n",
    "print(lst)\n",
    "\n",
    "lst.sort(reverse = True) #sort descending alphabetical order\n",
    "\n",
    "for key in lst:\n",
    "    print(key, counts[key])\n",
    "    "
   ]
  },
  {
   "cell_type": "code",
   "execution_count": 3,
   "metadata": {},
   "outputs": [
    {
     "data": {
      "text/plain": [
       "'!\"#$%&\\'()*+,-./:;<=>?@[\\\\]^_`{|}~'"
      ]
     },
     "execution_count": 3,
     "metadata": {},
     "output_type": "execute_result"
    }
   ],
   "source": [
    "#9.4 Advanced text parsing\n",
    "\n",
    "#'soft!' and 'soft' are different words\n",
    "#'Who' and 'who' are different word due to caplitalization\n",
    "#they will be different words in dictionary with their own counts\n",
    "\n",
    "#solve the issue by using lower, translate, punctuation to find words\n",
    "\n",
    "#line.translate(str.maketrans(fromstr, tostr, deletestr))\n",
    "\n",
    "import string\n",
    "string. punctuation"
   ]
  },
  {
   "cell_type": "code",
   "execution_count": 2,
   "metadata": {
    "scrolled": true
   },
   "outputs": [
    {
     "name": "stdout",
     "output_type": "stream",
     "text": [
      "Enter the file name:   romeo.txt\n",
      "{'but': 1, 'soft': 1, 'what': 1, 'light': 1, 'through': 1, 'yonder': 1, 'window': 1, 'breaks': 1, 'it': 1, 'is': 3, 'the': 3, 'east': 1, 'and': 3, 'juliet': 1, 'sun': 2, 'arise': 1, 'fair': 1, 'kill': 1, 'envious': 1, 'moon': 1, 'who': 1, 'already': 1, 'sick': 1, 'pale': 1, 'with': 1, 'grief': 1}\n"
     ]
    }
   ],
   "source": [
    "import string\n",
    "\n",
    "fname = input('Enter the file name:   ')\n",
    "\n",
    "try:\n",
    "    fhand = open(fname)\n",
    "except:\n",
    "    print('File cannot be opened:  ', fname)\n",
    "    exit()\n",
    "    \n",
    "counts = dict()\n",
    "\n",
    "for line in fhand:\n",
    "    \n",
    "    translator=str.maketrans('','',string.punctuation)\n",
    "    \n",
    "    line = line.translate(translator)\n",
    "\n",
    "    line = line.lower()\n",
    "    words = line.split()\n",
    "    for word in words:\n",
    "        if word not in counts:\n",
    "            counts[word] = 1\n",
    "        else:\n",
    "            counts[word] = counts[word] + 1\n",
    "\n",
    "print(counts)"
   ]
  },
  {
   "cell_type": "code",
   "execution_count": 6,
   "metadata": {},
   "outputs": [
    {
     "name": "stdout",
     "output_type": "stream",
     "text": [
      "Enter a file name:   mbox-short.txt\n",
      "{'Sat': 1, 'Fri': 20, 'Thu': 6}\n"
     ]
    }
   ],
   "source": [
    "#Exercise 9.2\n",
    "\n",
    "fname = input( 'Enter a file name:   ')   #mbox-short.txt\n",
    "\n",
    "try:\n",
    "    if fname == 'NA NA BOO BOO':\n",
    "        print('Its an easter egg')\n",
    "        \n",
    "    fhand = open(fname)\n",
    "    \n",
    "except:\n",
    "    print('This file does not exist')\n",
    "    quit()\n",
    "    \n",
    "d = dict()\n",
    "\n",
    "for line in fhand:\n",
    "    words = line.split()\n",
    "    if len(words) < 3 or words[0] != 'From':\n",
    "        continue\n",
    "    else: \n",
    "        if words[2] not in d:\n",
    "            d[words[2]] = 1\n",
    "        else:\n",
    "            d[words[2]] = d[words[2]] + 1\n",
    "\n",
    "print(d)  "
   ]
  },
  {
   "cell_type": "code",
   "execution_count": 5,
   "metadata": {},
   "outputs": [
    {
     "name": "stdout",
     "output_type": "stream",
     "text": [
      "Enter a file name:   mbox-short.txt\n",
      "{'stephen.marquard@uct.ac.za': 2, 'louis@media.berkeley.edu': 3, 'zqian@umich.edu': 4, 'rjlowe@iupui.edu': 2, 'cwen@iupui.edu': 5, 'gsilver@umich.edu': 3, 'wagnermr@iupui.edu': 1, 'antranig@caret.cam.ac.uk': 1, 'gopal.ramasammycook@gmail.com': 1, 'david.horwitz@uct.ac.za': 4, 'ray@media.berkeley.edu': 1}\n"
     ]
    }
   ],
   "source": [
    "# Exercise 9.3 \n",
    "\n",
    "fname = input( 'Enter a file name:   ')   #mbox-short.txt\n",
    "\n",
    "try:\n",
    "    if fname == 'NA NA BOO BOO':\n",
    "        print('Its an easter egg')\n",
    "        \n",
    "    fhand = open(fname)\n",
    "    \n",
    "except:\n",
    "    print('This file does not exist')\n",
    "    quit()\n",
    "    \n",
    "d = dict()\n",
    "\n",
    "for line in fhand:\n",
    "    words = line.split()\n",
    "    if len(words) < 2 or words[0] != 'From':\n",
    "        continue\n",
    "    else: \n",
    "        if words[1] not in d:\n",
    "            d[words[1]] = 1\n",
    "        else:\n",
    "            d[words[1]] = d[words[1]] + 1\n",
    "            \n",
    "print(d)\n"
   ]
  },
  {
   "cell_type": "code",
   "execution_count": 10,
   "metadata": {},
   "outputs": [
    {
     "name": "stdout",
     "output_type": "stream",
     "text": [
      "Enter a file name:   mbox-short.txt\n",
      "cwen@iupui.edu 5\n"
     ]
    }
   ],
   "source": [
    "#Exercise 9.4\n",
    "\n",
    "fname = input( 'Enter a file name:   ')   #mbox-short.txt\n",
    "\n",
    "try:\n",
    "    if fname == 'NA NA BOO BOO':\n",
    "        print('Its an easter egg')\n",
    "        \n",
    "    fhand = open(fname)\n",
    "    \n",
    "except:\n",
    "    print('This file does not exist')\n",
    "    quit()\n",
    "    \n",
    "d = dict()\n",
    "\n",
    "for line in fhand:\n",
    "    words = line.split()\n",
    "    if len(words) < 2 or words[0] != 'From':\n",
    "        continue\n",
    "    else: \n",
    "        if words[1] not in d:\n",
    "            d[words[1]] = 1\n",
    "        else:\n",
    "            d[words[1]] = d[words[1]] + 1\n",
    "\n",
    "maxvalue = 0\n",
    "maxkey = ''    #blank string\n",
    "\n",
    "for words in d:\n",
    "    if d[words] > maxvalue:\n",
    "        maxvalue = d[words]\n",
    "        maxkey = words\n",
    "        \n",
    "print(maxkey, maxvalue)"
   ]
  },
  {
   "cell_type": "code",
   "execution_count": 13,
   "metadata": {},
   "outputs": [
    {
     "name": "stdout",
     "output_type": "stream",
     "text": [
      "Enter a file name:   mbox.txt\n",
      " 0\n"
     ]
    }
   ],
   "source": [
    "#Exercise 9.4\n",
    "\n",
    "fname = input( 'Enter a file name:   ')   #mbox-short.txt\n",
    "\n",
    "try:\n",
    "    if fname == 'NA NA BOO BOO':\n",
    "        print('Its an easter egg')\n",
    "        \n",
    "    fhand = open(fname)\n",
    "    \n",
    "except:\n",
    "    print('This file does not exist')\n",
    "    quit()\n",
    "    \n",
    "d = dict()\n",
    "\n",
    "for line in fhand:\n",
    "    words = line.split()\n",
    "    if len(words) < 2 or words[0] != 'From':\n",
    "        continue\n",
    "    else: \n",
    "        if words[1] not in d:\n",
    "            d[words[1]] = 1\n",
    "        else:\n",
    "            d[words[1]] = d[words[1]] + 1\n",
    "\n",
    "maxvalue = 0\n",
    "maxkey = ''    #blank string\n",
    "\n",
    "for key in d:\n",
    "    if d[key] > maxvalue:\n",
    "        maxvalue = d[key]\n",
    "        maxkey = key\n",
    "        \n",
    "print(maxkey, maxvalue)"
   ]
  },
  {
   "cell_type": "code",
   "execution_count": 16,
   "metadata": {},
   "outputs": [
    {
     "name": "stdout",
     "output_type": "stream",
     "text": [
      "Enter a file name:   mbox-short.txt\n",
      "{'uct.ac.za': 6, 'media.berkeley.edu': 4, 'umich.edu': 7, 'iupui.edu': 8, 'caret.cam.ac.uk': 1, 'gmail.com': 1}\n"
     ]
    }
   ],
   "source": [
    "#Exercise 9.5\n",
    "\n",
    "fname = input( 'Enter a file name:   ')   #mbox-short.txt\n",
    "\n",
    "try:\n",
    "    if fname == 'NA NA BOO BOO':\n",
    "        print('Its an easter egg')\n",
    "        \n",
    "    fhand = open(fname)\n",
    "    \n",
    "except:\n",
    "    print('This file does not exist')\n",
    "    quit()\n",
    "    \n",
    "d = dict()\n",
    "\n",
    "for line in fhand:\n",
    "    words = line.split()\n",
    "    if len(words) < 2 or words[0] != 'From':\n",
    "        continue\n",
    "    else: \n",
    "        atpos = (words[1]).find('@')\n",
    "        domain = (words[1])[atpos+1:]\n",
    "        if domain not in d:\n",
    "            d[domain] = 1\n",
    "        else:\n",
    "            d[domain] += 1\n",
    "            \n",
    "print(d)"
   ]
  },
  {
   "cell_type": "code",
   "execution_count": null,
   "metadata": {},
   "outputs": [],
   "source": [
    "#Exercise 9.5 for mbox.txt\n",
    "\n",
    "fname = input('Enter a file name:   ')\n",
    "\n",
    "try:\n",
    "    if fname == \"NA NA BOO BOO\":\n",
    "        print('Its an easter egg')\n",
    "    \n",
    "    fhand = open(fname)\n",
    "    \n",
    "except:\n",
    "    print('This file does not exist', fname)\n",
    "    quit()\n",
    "    \n",
    "d = dict()\n",
    "\n",
    "for line in fhand:\n",
    "    words = line.split()\n",
    "    if len(words)< 2 or words[0] != 'from':\n",
    "        continue\n",
    "    else:\n",
    "        atpo = (words[1]).find('@')\n",
    "        domain = (words[1])[atpo+1:]\n",
    "        if domain not in d:\n",
    "            d[domain] = 1\n",
    "        else:\n",
    "            d[domain] += 1\n",
    "\n",
    "print(d)"
   ]
  },
  {
   "cell_type": "code",
   "execution_count": 1,
   "metadata": {},
   "outputs": [
    {
     "name": "stdout",
     "output_type": "stream",
     "text": [
      "Please enter file name  :  mbox.txt\n",
      "{'uct.ac.za': 96, 'media.berkeley.edu': 56, 'umich.edu': 491, 'iupui.edu': 536, 'caret.cam.ac.uk': 157, 'gmail.com': 25, 'indiana.edu': 178, 'et.gatech.edu': 17, 'vt.edu': 110, 'lancaster.ac.uk': 14, 'ucdavis.edu': 1, 'ufp.pt': 28, 'txstate.edu': 17, 'stanford.edu': 12, 'whitman.edu': 17, 'rsmart.com': 8, 'fhda.edu': 1, 'bu.edu': 14, 'unicon.net': 9, 'loi.nl': 9, 'utoronto.ca': 1}\n",
      "536 iupui.edu\n"
     ]
    }
   ],
   "source": [
    "fname = input('Please enter file name  :  ')\n",
    "\n",
    "try:\n",
    "    if fname == \"NA NA BOO BOO\":\n",
    "        print('gotacha!')\n",
    "    \n",
    "    fhand = open(fname)\n",
    "    \n",
    "except:\n",
    "    print('this file does not exist', fname)\n",
    "    \n",
    "d = dict()\n",
    "\n",
    "for line in fhand:\n",
    "    words = line.split()\n",
    "    if len(words) <2 or words[0] != 'From':\n",
    "        continue\n",
    "    else:\n",
    "        atpo = (words[1]).find('@')\n",
    "        domain = (words[1])[atpo+1:]\n",
    "        if domain not in d:\n",
    "            d[domain] = 1\n",
    "        else:\n",
    "            d[domain] += 1\n",
    "            \n",
    "print(d)\n",
    "\n",
    "\n",
    "y = list()\n",
    "\n",
    "for key, val in list(d.items()):\n",
    "    y.append((val, key))\n",
    "    \n",
    "y.sort(reverse = True)\n",
    "\n",
    "for key,val in y[:1]:\n",
    "    print(key, val)"
   ]
  },
  {
   "cell_type": "code",
   "execution_count": 2,
   "metadata": {},
   "outputs": [
    {
     "name": "stdout",
     "output_type": "stream",
     "text": [
      "Please input file name:   mbox.txt\n",
      "{'09': 166, '18': 58, '16': 181, '15': 152, '14': 150, '11': 154, '10': 198, '07': 42, '06': 45, '04': 23, '19': 46, '17': 97, '13': 114, '12': 108, '08': 72, '05': 10, '03': 19, '02': 11, '20': 36, '22': 28, '21': 36, '23': 18, '00': 23, '01': 10}\n",
      "\n",
      "00 23\n",
      "01 10\n",
      "02 11\n",
      "03 19\n",
      "04 23\n",
      "05 10\n",
      "06 45\n",
      "07 42\n",
      "08 72\n",
      "09 166\n",
      "10 198\n",
      "11 154\n",
      "12 108\n",
      "13 114\n",
      "14 150\n",
      "15 152\n",
      "16 181\n",
      "17 97\n",
      "18 58\n",
      "19 46\n",
      "20 36\n",
      "21 36\n",
      "22 28\n",
      "23 18\n"
     ]
    }
   ],
   "source": [
    "fname = input('Please input file name:   ')\n",
    "\n",
    "try:\n",
    "    if fname == 'NA NA BOO BOO':\n",
    "        print('Gotcha!')\n",
    "    fhand = open(fname)\n",
    "    \n",
    "except:\n",
    "    print('This file does not exist: ', fname)\n",
    "    quit()\n",
    "    \n",
    "d = dict()\n",
    "\n",
    "for line in fhand:\n",
    "    words = line.split()\n",
    "    if len(words)< 2 or words[0] != 'From':\n",
    "        continue\n",
    "    else:\n",
    "        colpos = (words[5]).find(':')\n",
    "        num = (words[5])[:colpos]\n",
    "        if num not in d:\n",
    "            d[num] = 1\n",
    "        else:\n",
    "            d[num] += 1\n",
    "\n",
    "\n",
    "print(d)\n",
    "print()\n",
    "\n",
    "lst = list()\n",
    "\n",
    "for key, val in list(d.items()):\n",
    "    lst.append((key,val))\n",
    "    \n",
    "lst.sort()\n",
    "\n",
    "for key,val in lst:\n",
    "    print(key, val)\n"
   ]
  },
  {
   "cell_type": "code",
   "execution_count": 3,
   "metadata": {},
   "outputs": [
    {
     "name": "stdout",
     "output_type": "stream",
     "text": [
      "Please input file name:   mbox-short.txt\n",
      "{'09': 2, '18': 1, '16': 4, '15': 2, '14': 1, '11': 6, '10': 3, '07': 1, '06': 1, '04': 3, '19': 1, '17': 2}\n",
      "\n",
      "04 3\n",
      "06 1\n",
      "07 1\n",
      "09 2\n",
      "10 3\n",
      "11 6\n",
      "14 1\n",
      "15 2\n",
      "16 4\n",
      "17 2\n",
      "18 1\n",
      "19 1\n"
     ]
    }
   ],
   "source": [
    "fname = input('Please input file name:   ')\n",
    "\n",
    "try:\n",
    "    if fname == 'NA NA BOO BOO':\n",
    "        print('Gotcha!')\n",
    "    fhand = open(fname)\n",
    "    \n",
    "except:\n",
    "    print('This file does not exist: ', fname)\n",
    "    quit()\n",
    "    \n",
    "d = dict()\n",
    "\n",
    "for line in fhand:\n",
    "    words = line.split()\n",
    "    if len(words)< 2 or words[0] != 'From':\n",
    "        continue\n",
    "    else:\n",
    "        colpos = (words[5]).find(':')\n",
    "        num = (words[5])[:colpos]\n",
    "        if num not in d:\n",
    "            d[num] = 1\n",
    "        else:\n",
    "            d[num] += 1\n",
    "\n",
    "\n",
    "print(d)\n",
    "print()\n",
    "\n",
    "lst = list()\n",
    "\n",
    "for key, val in list(d.items()):\n",
    "    lst.append((key,val))\n",
    "    \n",
    "lst.sort()\n",
    "\n",
    "for key,val in lst:\n",
    "    print(key, val)\n"
   ]
  },
  {
   "cell_type": "code",
   "execution_count": 13,
   "metadata": {},
   "outputs": [
    {
     "name": "stdout",
     "output_type": "stream",
     "text": [
      "Please input file name:   romeo.txt\n",
      "{'b': 2, 'u': 6, 't': 12, 's': 11, 'o': 8, 'f': 3, 'w': 5, 'h': 9, 'a': 11, 'l': 6, 'i': 14, 'g': 3, 'r': 7, 'y': 2, 'n': 9, 'd': 6, 'e': 12, 'k': 3, 'j': 1, 'v': 1, 'm': 1, 'c': 1, 'p': 1}\n",
      "\n",
      "[(0.014925373134328358, 'b'), (0.04477611940298507, 'u'), (0.08955223880597014, 't'), (0.08208955223880597, 's'), (0.05970149253731343, 'o'), (0.022388059701492536, 'f'), (0.03731343283582089, 'w'), (0.06716417910447761, 'h'), (0.08208955223880597, 'a'), (0.04477611940298507, 'l'), (0.1044776119402985, 'i'), (0.022388059701492536, 'g'), (0.05223880597014925, 'r'), (0.014925373134328358, 'y'), (0.06716417910447761, 'n'), (0.04477611940298507, 'd'), (0.08955223880597014, 'e'), (0.022388059701492536, 'k'), (0.007462686567164179, 'j'), (0.007462686567164179, 'v'), (0.007462686567164179, 'm'), (0.007462686567164179, 'c'), (0.007462686567164179, 'p')]\n",
      "0.1044776119402985 i\n",
      "0.08955223880597014 t\n",
      "0.08955223880597014 e\n",
      "0.08208955223880597 s\n",
      "0.08208955223880597 a\n",
      "0.06716417910447761 n\n",
      "0.06716417910447761 h\n",
      "0.05970149253731343 o\n",
      "0.05223880597014925 r\n",
      "0.04477611940298507 u\n",
      "0.04477611940298507 l\n",
      "0.04477611940298507 d\n",
      "0.03731343283582089 w\n",
      "0.022388059701492536 k\n",
      "0.022388059701492536 g\n",
      "0.022388059701492536 f\n",
      "0.014925373134328358 y\n",
      "0.014925373134328358 b\n",
      "0.007462686567164179 v\n",
      "0.007462686567164179 p\n",
      "0.007462686567164179 m\n",
      "0.007462686567164179 j\n",
      "0.007462686567164179 c\n"
     ]
    }
   ],
   "source": [
    "#10.3 exercise\n",
    "\n",
    "fname = input('Please input file name:   ')\n",
    "\n",
    "try:\n",
    "    if fname == 'NA NA BOO BOO':\n",
    "        print('Gotcha!')\n",
    "    fhand = open(fname)\n",
    "    \n",
    "except:\n",
    "    print('This file does not exist: ', fname)\n",
    "    quit()\n",
    "    \n",
    "d = dict()\n",
    "count = 0 \n",
    "import string\n",
    "\n",
    "for line in fhand:\n",
    "    \n",
    "    translator=str.maketrans('','',string.punctuation)\n",
    "    line = line.translate(translator)\n",
    "\n",
    "    numberremove=str.maketrans('', '', string.digits)\n",
    "    line = line.translate(numberremove)\n",
    "    \n",
    "    words = line.lower().split()\n",
    "    \n",
    "    for word in words:\n",
    "        for letter in word:\n",
    "            count +=1 \n",
    "            if letter not in d:\n",
    "                d[letter] = 1\n",
    "            else:\n",
    "                d[letter] += 1\n",
    "\n",
    "print(d)\n",
    "print()\n",
    "lst = list()\n",
    "\n",
    "for key, val in list(d.items()):\n",
    "    lst.append((val/count, key))\n",
    "     \n",
    "print(lst)\n",
    "               \n",
    "lst.sort(reverse= True)\n",
    "               \n",
    "for key, val in lst:\n",
    "               print(key, val)"
   ]
  },
  {
   "cell_type": "code",
   "execution_count": null,
   "metadata": {},
   "outputs": [],
   "source": []
  }
 ],
 "metadata": {
  "kernelspec": {
   "display_name": "Python 3",
   "language": "python",
   "name": "python3"
  },
  "language_info": {
   "codemirror_mode": {
    "name": "ipython",
    "version": 3
   },
   "file_extension": ".py",
   "mimetype": "text/x-python",
   "name": "python",
   "nbconvert_exporter": "python",
   "pygments_lexer": "ipython3",
   "version": "3.7.6"
  }
 },
 "nbformat": 4,
 "nbformat_minor": 4
}
